{
 "cells": [
  {
   "cell_type": "markdown",
   "id": "6c425ee7",
   "metadata": {
    "papermill": {
     "duration": 0.006258,
     "end_time": "2023-10-20T04:50:00.677931",
     "exception": false,
     "start_time": "2023-10-20T04:50:00.671673",
     "status": "completed"
    },
    "tags": []
   },
   "source": [
    "**This notebook is an exercise in the [Introduction to Machine Learning](https://www.kaggle.com/learn/intro-to-machine-learning) course.  You can reference the tutorial at [this link](https://www.kaggle.com/dansbecker/model-validation).**\n",
    "\n",
    "---\n"
   ]
  },
  {
   "cell_type": "markdown",
   "id": "7e5ef504",
   "metadata": {
    "papermill": {
     "duration": 0.00368,
     "end_time": "2023-10-20T04:50:00.688487",
     "exception": false,
     "start_time": "2023-10-20T04:50:00.684807",
     "status": "completed"
    },
    "tags": []
   },
   "source": [
    "## Recap\n",
    "You've built a model. In this exercise you will test how good your model is.\n",
    "\n",
    "Run the cell below to set up your coding environment where the previous exercise left off."
   ]
  },
  {
   "cell_type": "code",
   "execution_count": 1,
   "id": "18ffc593",
   "metadata": {
    "execution": {
     "iopub.execute_input": "2023-10-20T04:50:00.699022Z",
     "iopub.status.busy": "2023-10-20T04:50:00.698494Z",
     "iopub.status.idle": "2023-10-20T04:50:03.087535Z",
     "shell.execute_reply": "2023-10-20T04:50:03.086736Z"
    },
    "papermill": {
     "duration": 2.39735,
     "end_time": "2023-10-20T04:50:03.090351",
     "exception": false,
     "start_time": "2023-10-20T04:50:00.693001",
     "status": "completed"
    },
    "tags": []
   },
   "outputs": [
    {
     "name": "stdout",
     "output_type": "stream",
     "text": [
      "First in-sample predictions: [208500. 181500. 223500. 140000. 250000.]\n",
      "Actual target values for those homes: [208500, 181500, 223500, 140000, 250000]\n",
      "Setup Complete\n"
     ]
    }
   ],
   "source": [
    "# Code you have previously used to load data\n",
    "import pandas as pd\n",
    "from sklearn.tree import DecisionTreeRegressor\n",
    "\n",
    "# Path of the file to read\n",
    "iowa_file_path = '../input/home-data-for-ml-course/train.csv'\n",
    "\n",
    "home_data = pd.read_csv(iowa_file_path)\n",
    "y = home_data.SalePrice\n",
    "feature_columns = ['LotArea', 'YearBuilt', '1stFlrSF', '2ndFlrSF', 'FullBath', 'BedroomAbvGr', 'TotRmsAbvGrd']\n",
    "X = home_data[feature_columns]\n",
    "\n",
    "# Specify Model\n",
    "iowa_model = DecisionTreeRegressor()\n",
    "# Fit Model\n",
    "iowa_model.fit(X, y)\n",
    "\n",
    "print(\"First in-sample predictions:\", iowa_model.predict(X.head()))\n",
    "print(\"Actual target values for those homes:\", y.head().tolist())\n",
    "\n",
    "# Set up code checking\n",
    "from learntools.core import binder\n",
    "binder.bind(globals())\n",
    "from learntools.machine_learning.ex4 import *\n",
    "print(\"Setup Complete\")"
   ]
  },
  {
   "cell_type": "markdown",
   "id": "bba6f984",
   "metadata": {
    "papermill": {
     "duration": 0.004486,
     "end_time": "2023-10-20T04:50:03.099774",
     "exception": false,
     "start_time": "2023-10-20T04:50:03.095288",
     "status": "completed"
    },
    "tags": []
   },
   "source": [
    "# Exercises\n",
    "\n",
    "## Step 1: Split Your Data\n",
    "Use the `train_test_split` function to split up your data.\n",
    "\n",
    "Give it the argument `random_state=1` so the `check` functions know what to expect when verifying your code.\n",
    "\n",
    "Recall, your features are loaded in the DataFrame **X** and your target is loaded in **y**.\n"
   ]
  },
  {
   "cell_type": "code",
   "execution_count": 2,
   "id": "91233799",
   "metadata": {
    "execution": {
     "iopub.execute_input": "2023-10-20T04:50:03.109918Z",
     "iopub.status.busy": "2023-10-20T04:50:03.108825Z",
     "iopub.status.idle": "2023-10-20T04:50:03.119532Z",
     "shell.execute_reply": "2023-10-20T04:50:03.118439Z"
    },
    "papermill": {
     "duration": 0.018333,
     "end_time": "2023-10-20T04:50:03.122043",
     "exception": false,
     "start_time": "2023-10-20T04:50:03.103710",
     "status": "completed"
    },
    "tags": []
   },
   "outputs": [
    {
     "data": {
      "application/javascript": [
       "parent.postMessage({\"jupyterEvent\": \"custom.exercise_interaction\", \"data\": {\"outcomeType\": 2, \"failureMessage\": \"You still need to define the following variables: `train_X`, `val_X`, `val_y`, `train_y`\", \"interactionType\": 1, \"questionType\": 2, \"questionId\": \"1_SplitData\", \"learnToolsVersion\": \"0.3.4\", \"valueTowardsCompletion\": 0.0, \"exceptionClass\": \"\", \"trace\": \"\"}}, \"*\")"
      ],
      "text/plain": [
       "<IPython.core.display.Javascript object>"
      ]
     },
     "metadata": {},
     "output_type": "display_data"
    },
    {
     "data": {
      "text/markdown": [
       "<span style=\"color:#cc3333\">Incorrect:</span> You still need to define the following variables: `train_X`, `val_X`, `val_y`, `train_y`"
      ],
      "text/plain": [
       "Incorrect: You still need to define the following variables: `train_X`, `val_X`, `val_y`, `train_y`"
      ]
     },
     "metadata": {},
     "output_type": "display_data"
    }
   ],
   "source": [
    "# Import the train_test_split function and uncomment\n",
    "# from _ import _\n",
    "\n",
    "# fill in and uncomment\n",
    "# train_X, val_X, train_y, val_y = ____\n",
    "\n",
    "# Check your answer\n",
    "step_1.check()"
   ]
  },
  {
   "cell_type": "code",
   "execution_count": 3,
   "id": "c86d7947",
   "metadata": {
    "execution": {
     "iopub.execute_input": "2023-10-20T04:50:03.132330Z",
     "iopub.status.busy": "2023-10-20T04:50:03.131095Z",
     "iopub.status.idle": "2023-10-20T04:50:03.135944Z",
     "shell.execute_reply": "2023-10-20T04:50:03.135208Z"
    },
    "papermill": {
     "duration": 0.011846,
     "end_time": "2023-10-20T04:50:03.137990",
     "exception": false,
     "start_time": "2023-10-20T04:50:03.126144",
     "status": "completed"
    },
    "tags": []
   },
   "outputs": [],
   "source": [
    "# The lines below will show you a hint or the solution.\n",
    "# step_1.hint() \n",
    "# step_1.solution()\n"
   ]
  },
  {
   "cell_type": "markdown",
   "id": "ea853d33",
   "metadata": {
    "papermill": {
     "duration": 0.003493,
     "end_time": "2023-10-20T04:50:03.145572",
     "exception": false,
     "start_time": "2023-10-20T04:50:03.142079",
     "status": "completed"
    },
    "tags": []
   },
   "source": [
    "## Step 2: Specify and Fit the Model\n",
    "\n",
    "Create a `DecisionTreeRegressor` model and fit it to the relevant data.\n",
    "Set `random_state` to 1 again when creating the model."
   ]
  },
  {
   "cell_type": "code",
   "execution_count": 4,
   "id": "7c9b71dc",
   "metadata": {
    "execution": {
     "iopub.execute_input": "2023-10-20T04:50:03.156460Z",
     "iopub.status.busy": "2023-10-20T04:50:03.155372Z",
     "iopub.status.idle": "2023-10-20T04:50:03.165786Z",
     "shell.execute_reply": "2023-10-20T04:50:03.164326Z"
    },
    "papermill": {
     "duration": 0.018038,
     "end_time": "2023-10-20T04:50:03.168157",
     "exception": false,
     "start_time": "2023-10-20T04:50:03.150119",
     "status": "completed"
    },
    "tags": []
   },
   "outputs": [
    {
     "data": {
      "application/javascript": [
       "parent.postMessage({\"jupyterEvent\": \"custom.exercise_interaction\", \"data\": {\"outcomeType\": 2, \"failureMessage\": \"You still need to define the following variables: `train_X`, `train_y`, `val_X`\", \"interactionType\": 1, \"questionType\": 2, \"questionId\": \"2_FitModelWithTrain\", \"learnToolsVersion\": \"0.3.4\", \"valueTowardsCompletion\": 0.0, \"exceptionClass\": \"\", \"trace\": \"\"}}, \"*\")"
      ],
      "text/plain": [
       "<IPython.core.display.Javascript object>"
      ]
     },
     "metadata": {},
     "output_type": "display_data"
    },
    {
     "data": {
      "text/markdown": [
       "<span style=\"color:#cc3333\">Incorrect:</span> You still need to define the following variables: `train_X`, `train_y`, `val_X`"
      ],
      "text/plain": [
       "Incorrect: You still need to define the following variables: `train_X`, `train_y`, `val_X`"
      ]
     },
     "metadata": {},
     "output_type": "display_data"
    }
   ],
   "source": [
    "# You imported DecisionTreeRegressor in your last exercise\n",
    "# and that code has been copied to the setup code above. So, no need to\n",
    "# import it again\n",
    "\n",
    "# Specify the model\n",
    "iowa_model = ____\n",
    "\n",
    "# Fit iowa_model with the training data.\n",
    "____\n",
    "\n",
    "# Check your answer\n",
    "step_2.check()"
   ]
  },
  {
   "cell_type": "code",
   "execution_count": 5,
   "id": "f77eae81",
   "metadata": {
    "execution": {
     "iopub.execute_input": "2023-10-20T04:50:03.179666Z",
     "iopub.status.busy": "2023-10-20T04:50:03.178483Z",
     "iopub.status.idle": "2023-10-20T04:50:03.183574Z",
     "shell.execute_reply": "2023-10-20T04:50:03.182601Z"
    },
    "papermill": {
     "duration": 0.013226,
     "end_time": "2023-10-20T04:50:03.185457",
     "exception": false,
     "start_time": "2023-10-20T04:50:03.172231",
     "status": "completed"
    },
    "tags": []
   },
   "outputs": [],
   "source": [
    "# step_2.hint()\n",
    "# step_2.solution()"
   ]
  },
  {
   "cell_type": "markdown",
   "id": "2db53ca7",
   "metadata": {
    "papermill": {
     "duration": 0.003775,
     "end_time": "2023-10-20T04:50:03.193481",
     "exception": false,
     "start_time": "2023-10-20T04:50:03.189706",
     "status": "completed"
    },
    "tags": []
   },
   "source": [
    "## Step 3: Make Predictions with Validation data\n"
   ]
  },
  {
   "cell_type": "code",
   "execution_count": 6,
   "id": "39b7629a",
   "metadata": {
    "execution": {
     "iopub.execute_input": "2023-10-20T04:50:03.203948Z",
     "iopub.status.busy": "2023-10-20T04:50:03.203400Z",
     "iopub.status.idle": "2023-10-20T04:50:03.212421Z",
     "shell.execute_reply": "2023-10-20T04:50:03.211284Z"
    },
    "papermill": {
     "duration": 0.017025,
     "end_time": "2023-10-20T04:50:03.214527",
     "exception": false,
     "start_time": "2023-10-20T04:50:03.197502",
     "status": "completed"
    },
    "tags": []
   },
   "outputs": [
    {
     "data": {
      "application/javascript": [
       "parent.postMessage({\"jupyterEvent\": \"custom.exercise_interaction\", \"data\": {\"outcomeType\": 2, \"failureMessage\": \"You still need to define the following variables: `val_X`\", \"interactionType\": 1, \"questionType\": 2, \"questionId\": \"3_ValPreds\", \"learnToolsVersion\": \"0.3.4\", \"valueTowardsCompletion\": 0.0, \"exceptionClass\": \"\", \"trace\": \"\"}}, \"*\")"
      ],
      "text/plain": [
       "<IPython.core.display.Javascript object>"
      ]
     },
     "metadata": {},
     "output_type": "display_data"
    },
    {
     "data": {
      "text/markdown": [
       "<span style=\"color:#cc3333\">Incorrect:</span> You still need to define the following variables: `val_X`"
      ],
      "text/plain": [
       "Incorrect: You still need to define the following variables: `val_X`"
      ]
     },
     "metadata": {},
     "output_type": "display_data"
    }
   ],
   "source": [
    "# Predict with all validation observations\n",
    "val_predictions = ____\n",
    "\n",
    "# Check your answer\n",
    "step_3.check()"
   ]
  },
  {
   "cell_type": "code",
   "execution_count": 7,
   "id": "0e22793d",
   "metadata": {
    "execution": {
     "iopub.execute_input": "2023-10-20T04:50:03.226335Z",
     "iopub.status.busy": "2023-10-20T04:50:03.225812Z",
     "iopub.status.idle": "2023-10-20T04:50:03.231820Z",
     "shell.execute_reply": "2023-10-20T04:50:03.230203Z"
    },
    "papermill": {
     "duration": 0.014931,
     "end_time": "2023-10-20T04:50:03.233990",
     "exception": false,
     "start_time": "2023-10-20T04:50:03.219059",
     "status": "completed"
    },
    "tags": []
   },
   "outputs": [],
   "source": [
    "# step_3.hint()\n",
    "# step_3.solution()"
   ]
  },
  {
   "cell_type": "markdown",
   "id": "c6864a1d",
   "metadata": {
    "papermill": {
     "duration": 0.00408,
     "end_time": "2023-10-20T04:50:03.242752",
     "exception": false,
     "start_time": "2023-10-20T04:50:03.238672",
     "status": "completed"
    },
    "tags": []
   },
   "source": [
    "Inspect your predictions and actual values from validation data."
   ]
  },
  {
   "cell_type": "code",
   "execution_count": 8,
   "id": "247923f7",
   "metadata": {
    "execution": {
     "iopub.execute_input": "2023-10-20T04:50:03.253609Z",
     "iopub.status.busy": "2023-10-20T04:50:03.253249Z",
     "iopub.status.idle": "2023-10-20T04:50:03.258734Z",
     "shell.execute_reply": "2023-10-20T04:50:03.257232Z"
    },
    "papermill": {
     "duration": 0.014312,
     "end_time": "2023-10-20T04:50:03.261491",
     "exception": false,
     "start_time": "2023-10-20T04:50:03.247179",
     "status": "completed"
    },
    "tags": []
   },
   "outputs": [
    {
     "name": "stdout",
     "output_type": "stream",
     "text": [
      "<learntools.core.constants.PlaceholderValue object at 0x7d9b39439210>\n",
      "<learntools.core.constants.PlaceholderValue object at 0x7d9b39439210>\n"
     ]
    }
   ],
   "source": [
    "# print the top few validation predictions\n",
    "print(____)\n",
    "# print the top few actual prices from validation data\n",
    "print(____)"
   ]
  },
  {
   "cell_type": "markdown",
   "id": "6ab6d4b2",
   "metadata": {
    "papermill": {
     "duration": 0.004195,
     "end_time": "2023-10-20T04:50:03.270293",
     "exception": false,
     "start_time": "2023-10-20T04:50:03.266098",
     "status": "completed"
    },
    "tags": []
   },
   "source": [
    "What do you notice that is different from what you saw with in-sample predictions (which are printed after the top code cell in this page).\n",
    "\n",
    "Do you remember why validation predictions differ from in-sample (or training) predictions? This is an important idea from the last lesson.\n",
    "\n",
    "## Step 4: Calculate the Mean Absolute Error in Validation Data\n"
   ]
  },
  {
   "cell_type": "code",
   "execution_count": 9,
   "id": "60d45267",
   "metadata": {
    "execution": {
     "iopub.execute_input": "2023-10-20T04:50:03.281097Z",
     "iopub.status.busy": "2023-10-20T04:50:03.280705Z",
     "iopub.status.idle": "2023-10-20T04:50:03.291917Z",
     "shell.execute_reply": "2023-10-20T04:50:03.289981Z"
    },
    "papermill": {
     "duration": 0.019565,
     "end_time": "2023-10-20T04:50:03.294293",
     "exception": false,
     "start_time": "2023-10-20T04:50:03.274728",
     "status": "completed"
    },
    "tags": []
   },
   "outputs": [
    {
     "data": {
      "application/javascript": [
       "parent.postMessage({\"jupyterEvent\": \"custom.exercise_interaction\", \"data\": {\"outcomeType\": 4, \"interactionType\": 1, \"questionType\": 1, \"questionId\": \"4_MAE\", \"learnToolsVersion\": \"0.3.4\", \"valueTowardsCompletion\": 0.0, \"failureMessage\": \"\", \"exceptionClass\": \"\", \"trace\": \"\"}}, \"*\")"
      ],
      "text/plain": [
       "<IPython.core.display.Javascript object>"
      ]
     },
     "metadata": {},
     "output_type": "display_data"
    },
    {
     "data": {
      "text/markdown": [
       "<span style=\"color:#ccaa33\">Check:</span> When you've updated the starter code, `check()` will tell you whether your code is correct. You need to update the code that creates variable `val_mae`"
      ],
      "text/plain": [
       "Check: When you've updated the starter code, `check()` will tell you whether your code is correct. You need to update the code that creates variable `val_mae`"
      ]
     },
     "metadata": {},
     "output_type": "display_data"
    }
   ],
   "source": [
    "from sklearn.metrics import mean_absolute_error\n",
    "val_mae = ____\n",
    "\n",
    "# uncomment following line to see the validation_mae\n",
    "#print(val_mae)\n",
    "\n",
    "# Check your answer\n",
    "step_4.check()"
   ]
  },
  {
   "cell_type": "code",
   "execution_count": 10,
   "id": "6eb2c2b5",
   "metadata": {
    "execution": {
     "iopub.execute_input": "2023-10-20T04:50:03.306456Z",
     "iopub.status.busy": "2023-10-20T04:50:03.306113Z",
     "iopub.status.idle": "2023-10-20T04:50:03.311154Z",
     "shell.execute_reply": "2023-10-20T04:50:03.309786Z"
    },
    "papermill": {
     "duration": 0.013317,
     "end_time": "2023-10-20T04:50:03.313249",
     "exception": false,
     "start_time": "2023-10-20T04:50:03.299932",
     "status": "completed"
    },
    "tags": []
   },
   "outputs": [],
   "source": [
    "# step_4.hint()\n",
    "# step_4.solution()"
   ]
  },
  {
   "cell_type": "markdown",
   "id": "599de094",
   "metadata": {
    "papermill": {
     "duration": 0.0046,
     "end_time": "2023-10-20T04:50:03.322723",
     "exception": false,
     "start_time": "2023-10-20T04:50:03.318123",
     "status": "completed"
    },
    "tags": []
   },
   "source": [
    "Is that MAE good?  There isn't a general rule for what values are good that applies across applications. But you'll see how to use (and improve) this number in the next step.\n",
    "\n",
    "# Keep Going\n",
    "\n",
    "You are ready for **[Underfitting and Overfitting](https://www.kaggle.com/dansbecker/underfitting-and-overfitting).**\n"
   ]
  },
  {
   "cell_type": "markdown",
   "id": "01716312",
   "metadata": {
    "papermill": {
     "duration": 0.00566,
     "end_time": "2023-10-20T04:50:03.333146",
     "exception": false,
     "start_time": "2023-10-20T04:50:03.327486",
     "status": "completed"
    },
    "tags": []
   },
   "source": [
    "---\n",
    "\n",
    "\n",
    "\n",
    "\n",
    "*Have questions or comments? Visit the [course discussion forum](https://www.kaggle.com/learn/intro-to-machine-learning/discussion) to chat with other learners.*"
   ]
  }
 ],
 "metadata": {
  "kernelspec": {
   "display_name": "Python 3",
   "language": "python",
   "name": "python3"
  },
  "language_info": {
   "codemirror_mode": {
    "name": "ipython",
    "version": 3
   },
   "file_extension": ".py",
   "mimetype": "text/x-python",
   "name": "python",
   "nbconvert_exporter": "python",
   "pygments_lexer": "ipython3",
   "version": "3.10.12"
  },
  "papermill": {
   "default_parameters": {},
   "duration": 6.786721,
   "end_time": "2023-10-20T04:50:04.061488",
   "environment_variables": {},
   "exception": null,
   "input_path": "__notebook__.ipynb",
   "output_path": "__notebook__.ipynb",
   "parameters": {},
   "start_time": "2023-10-20T04:49:57.274767",
   "version": "2.4.0"
  }
 },
 "nbformat": 4,
 "nbformat_minor": 5
}
