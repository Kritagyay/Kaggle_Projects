{
 "cells": [
  {
   "cell_type": "code",
   "execution_count": 1,
   "id": "55e315a3",
   "metadata": {
    "_cell_guid": "b1076dfc-b9ad-4769-8c92-a6c4dae69d19",
    "_uuid": "8f2839f25d086af736a60e9eeb907d3b93b6e0e5",
    "execution": {
     "iopub.execute_input": "2023-10-24T13:13:25.914578Z",
     "iopub.status.busy": "2023-10-24T13:13:25.914299Z",
     "iopub.status.idle": "2023-10-24T13:13:36.402893Z",
     "shell.execute_reply": "2023-10-24T13:13:36.401795Z"
    },
    "papermill": {
     "duration": 10.499433,
     "end_time": "2023-10-24T13:13:36.405436",
     "exception": false,
     "start_time": "2023-10-24T13:13:25.906003",
     "status": "completed"
    },
    "tags": []
   },
   "outputs": [
    {
     "name": "stderr",
     "output_type": "stream",
     "text": [
      "/opt/conda/lib/python3.10/site-packages/scipy/__init__.py:146: UserWarning: A NumPy version >=1.16.5 and <1.23.0 is required for this version of SciPy (detected version 1.23.5\n",
      "  warnings.warn(f\"A NumPy version >={np_minversion} and <{np_maxversion}\"\n"
     ]
    }
   ],
   "source": [
    "import matplotlib.pyplot as plt\n",
    "import sklearn\n",
    "import tensorflow as tf\n",
    "from tensorflow import keras\n",
    "import numpy as np # linear algebra\n",
    "import pandas as pd # data processing, CSV file I/O (e.g. pd.read_csv)\n"
   ]
  },
  {
   "cell_type": "code",
   "execution_count": 2,
   "id": "7b5c1279",
   "metadata": {
    "execution": {
     "iopub.execute_input": "2023-10-24T13:13:36.420779Z",
     "iopub.status.busy": "2023-10-24T13:13:36.420191Z",
     "iopub.status.idle": "2023-10-24T13:13:42.859384Z",
     "shell.execute_reply": "2023-10-24T13:13:42.858579Z"
    },
    "papermill": {
     "duration": 6.449384,
     "end_time": "2023-10-24T13:13:42.861785",
     "exception": false,
     "start_time": "2023-10-24T13:13:36.412401",
     "status": "completed"
    },
    "tags": []
   },
   "outputs": [
    {
     "name": "stdout",
     "output_type": "stream",
     "text": [
      "Downloading data from https://www.cs.toronto.edu/~kriz/cifar-10-python.tar.gz\n",
      "170498071/170498071 [==============================] - 4s 0us/step\n"
     ]
    }
   ],
   "source": [
    "(X_train,y_train),(X_test,y_test)=keras.datasets.cifar10.load_data()"
   ]
  },
  {
   "cell_type": "code",
   "execution_count": 3,
   "id": "d61740a3",
   "metadata": {
    "execution": {
     "iopub.execute_input": "2023-10-24T13:13:42.888130Z",
     "iopub.status.busy": "2023-10-24T13:13:42.887803Z",
     "iopub.status.idle": "2023-10-24T13:13:42.894401Z",
     "shell.execute_reply": "2023-10-24T13:13:42.893619Z"
    },
    "papermill": {
     "duration": 0.021628,
     "end_time": "2023-10-24T13:13:42.896297",
     "exception": false,
     "start_time": "2023-10-24T13:13:42.874669",
     "status": "completed"
    },
    "tags": []
   },
   "outputs": [
    {
     "data": {
      "text/plain": [
       "(50000, 32, 32, 3)"
      ]
     },
     "execution_count": 3,
     "metadata": {},
     "output_type": "execute_result"
    }
   ],
   "source": [
    "X_train.shape"
   ]
  },
  {
   "cell_type": "code",
   "execution_count": 4,
   "id": "5a4eba55",
   "metadata": {
    "execution": {
     "iopub.execute_input": "2023-10-24T13:13:42.921440Z",
     "iopub.status.busy": "2023-10-24T13:13:42.921150Z",
     "iopub.status.idle": "2023-10-24T13:13:42.926820Z",
     "shell.execute_reply": "2023-10-24T13:13:42.925891Z"
    },
    "papermill": {
     "duration": 0.020291,
     "end_time": "2023-10-24T13:13:42.928720",
     "exception": false,
     "start_time": "2023-10-24T13:13:42.908429",
     "status": "completed"
    },
    "tags": []
   },
   "outputs": [
    {
     "data": {
      "text/plain": [
       "(50000, 1)"
      ]
     },
     "execution_count": 4,
     "metadata": {},
     "output_type": "execute_result"
    }
   ],
   "source": [
    "y_train.shape"
   ]
  },
  {
   "cell_type": "code",
   "execution_count": 5,
   "id": "df27a581",
   "metadata": {
    "execution": {
     "iopub.execute_input": "2023-10-24T13:13:42.954141Z",
     "iopub.status.busy": "2023-10-24T13:13:42.953885Z",
     "iopub.status.idle": "2023-10-24T13:13:42.959747Z",
     "shell.execute_reply": "2023-10-24T13:13:42.958933Z"
    },
    "papermill": {
     "duration": 0.020985,
     "end_time": "2023-10-24T13:13:42.961563",
     "exception": false,
     "start_time": "2023-10-24T13:13:42.940578",
     "status": "completed"
    },
    "tags": []
   },
   "outputs": [
    {
     "data": {
      "text/plain": [
       "((10000, 32, 32, 3), (10000, 1))"
      ]
     },
     "execution_count": 5,
     "metadata": {},
     "output_type": "execute_result"
    }
   ],
   "source": [
    "X_test.shape,y_test.shape"
   ]
  },
  {
   "cell_type": "code",
   "execution_count": 6,
   "id": "952e9b66",
   "metadata": {
    "execution": {
     "iopub.execute_input": "2023-10-24T13:13:42.986995Z",
     "iopub.status.busy": "2023-10-24T13:13:42.986744Z",
     "iopub.status.idle": "2023-10-24T13:13:42.993727Z",
     "shell.execute_reply": "2023-10-24T13:13:42.992740Z"
    },
    "papermill": {
     "duration": 0.021919,
     "end_time": "2023-10-24T13:13:42.995628",
     "exception": false,
     "start_time": "2023-10-24T13:13:42.973709",
     "status": "completed"
    },
    "tags": []
   },
   "outputs": [
    {
     "data": {
      "text/plain": [
       "array([[[ 59,  62,  63],\n",
       "        [ 43,  46,  45],\n",
       "        [ 50,  48,  43],\n",
       "        ...,\n",
       "        [158, 132, 108],\n",
       "        [152, 125, 102],\n",
       "        [148, 124, 103]],\n",
       "\n",
       "       [[ 16,  20,  20],\n",
       "        [  0,   0,   0],\n",
       "        [ 18,   8,   0],\n",
       "        ...,\n",
       "        [123,  88,  55],\n",
       "        [119,  83,  50],\n",
       "        [122,  87,  57]],\n",
       "\n",
       "       [[ 25,  24,  21],\n",
       "        [ 16,   7,   0],\n",
       "        [ 49,  27,   8],\n",
       "        ...,\n",
       "        [118,  84,  50],\n",
       "        [120,  84,  50],\n",
       "        [109,  73,  42]],\n",
       "\n",
       "       ...,\n",
       "\n",
       "       [[208, 170,  96],\n",
       "        [201, 153,  34],\n",
       "        [198, 161,  26],\n",
       "        ...,\n",
       "        [160, 133,  70],\n",
       "        [ 56,  31,   7],\n",
       "        [ 53,  34,  20]],\n",
       "\n",
       "       [[180, 139,  96],\n",
       "        [173, 123,  42],\n",
       "        [186, 144,  30],\n",
       "        ...,\n",
       "        [184, 148,  94],\n",
       "        [ 97,  62,  34],\n",
       "        [ 83,  53,  34]],\n",
       "\n",
       "       [[177, 144, 116],\n",
       "        [168, 129,  94],\n",
       "        [179, 142,  87],\n",
       "        ...,\n",
       "        [216, 184, 140],\n",
       "        [151, 118,  84],\n",
       "        [123,  92,  72]]], dtype=uint8)"
      ]
     },
     "execution_count": 6,
     "metadata": {},
     "output_type": "execute_result"
    }
   ],
   "source": [
    "X_train[0]"
   ]
  },
  {
   "cell_type": "code",
   "execution_count": 7,
   "id": "65d02075",
   "metadata": {
    "execution": {
     "iopub.execute_input": "2023-10-24T13:13:43.021949Z",
     "iopub.status.busy": "2023-10-24T13:13:43.021674Z",
     "iopub.status.idle": "2023-10-24T13:13:43.025978Z",
     "shell.execute_reply": "2023-10-24T13:13:43.025069Z"
    },
    "papermill": {
     "duration": 0.019833,
     "end_time": "2023-10-24T13:13:43.027955",
     "exception": false,
     "start_time": "2023-10-24T13:13:43.008122",
     "status": "completed"
    },
    "tags": []
   },
   "outputs": [],
   "source": [
    "classes=[\"airplane\",\"automobile\",\"bird\",\"cat\",\"deer\",\"dog\",\"frog\",\"horse\",\"ship\",\"truck\"]"
   ]
  },
  {
   "cell_type": "code",
   "execution_count": 8,
   "id": "89e27f39",
   "metadata": {
    "execution": {
     "iopub.execute_input": "2023-10-24T13:13:43.055490Z",
     "iopub.status.busy": "2023-10-24T13:13:43.055229Z",
     "iopub.status.idle": "2023-10-24T13:13:43.061977Z",
     "shell.execute_reply": "2023-10-24T13:13:43.061108Z"
    },
    "papermill": {
     "duration": 0.022964,
     "end_time": "2023-10-24T13:13:43.064168",
     "exception": false,
     "start_time": "2023-10-24T13:13:43.041204",
     "status": "completed"
    },
    "tags": []
   },
   "outputs": [
    {
     "data": {
      "text/plain": [
       "array([6, 9, 9, 4, 1], dtype=uint8)"
      ]
     },
     "execution_count": 8,
     "metadata": {},
     "output_type": "execute_result"
    }
   ],
   "source": [
    "y_train=y_train.reshape(-1,)\n",
    "y_train[:5]"
   ]
  },
  {
   "cell_type": "code",
   "execution_count": 9,
   "id": "be444667",
   "metadata": {
    "execution": {
     "iopub.execute_input": "2023-10-24T13:13:43.092786Z",
     "iopub.status.busy": "2023-10-24T13:13:43.092310Z",
     "iopub.status.idle": "2023-10-24T13:13:43.096808Z",
     "shell.execute_reply": "2023-10-24T13:13:43.095977Z"
    },
    "papermill": {
     "duration": 0.020367,
     "end_time": "2023-10-24T13:13:43.098675",
     "exception": false,
     "start_time": "2023-10-24T13:13:43.078308",
     "status": "completed"
    },
    "tags": []
   },
   "outputs": [],
   "source": [
    "def plot_image(X,y,index):\n",
    "    plt.figure(figsize=(3,3))\n",
    "    plt.imshow(X[index])\n",
    "    plt.xlabel(classes[y[index]])"
   ]
  },
  {
   "cell_type": "code",
   "execution_count": 10,
   "id": "3966babf",
   "metadata": {
    "execution": {
     "iopub.execute_input": "2023-10-24T13:13:43.125334Z",
     "iopub.status.busy": "2023-10-24T13:13:43.125082Z",
     "iopub.status.idle": "2023-10-24T13:13:43.391646Z",
     "shell.execute_reply": "2023-10-24T13:13:43.390807Z"
    },
    "papermill": {
     "duration": 0.281939,
     "end_time": "2023-10-24T13:13:43.393645",
     "exception": false,
     "start_time": "2023-10-24T13:13:43.111706",
     "status": "completed"
    },
    "tags": []
   },
   "outputs": [
    {
     "data": {
      "image/png": "[encoded data removed]",
      "text/plain": [
       "<Figure size 300x300 with 1 Axes>"
      ]
     },
     "metadata": {},
     "output_type": "display_data"
    }
   ],
   "source": [
    "plot_image(X_train,y_train,3)"
   ]
  },
  {
   "cell_type": "code",
   "execution_count": 11,
   "id": "e2d76861",
   "metadata": {
    "execution": {
     "iopub.execute_input": "2023-10-24T13:13:43.421087Z",
     "iopub.status.busy": "2023-10-24T13:13:43.420504Z",
     "iopub.status.idle": "2023-10-24T13:13:43.426691Z",
     "shell.execute_reply": "2023-10-24T13:13:43.425847Z"
    },
    "papermill": {
     "duration": 0.021817,
     "end_time": "2023-10-24T13:13:43.428563",
     "exception": false,
     "start_time": "2023-10-24T13:13:43.406746",
     "status": "completed"
    },
    "tags": []
   },
   "outputs": [
    {
     "data": {
      "text/plain": [
       "array([3, 8, 8, ..., 5, 1, 7], dtype=uint8)"
      ]
     },
     "execution_count": 11,
     "metadata": {},
     "output_type": "execute_result"
    }
   ],
   "source": [
    "y_test=y_test.reshape(-1,)\n",
    "y_test"
   ]
  },
  {
   "cell_type": "code",
   "execution_count": 12,
   "id": "4985ecce",
   "metadata": {
    "execution": {
     "iopub.execute_input": "2023-10-24T13:13:43.455449Z",
     "iopub.status.busy": "2023-10-24T13:13:43.454764Z",
     "iopub.status.idle": "2023-10-24T13:13:43.939169Z",
     "shell.execute_reply": "2023-10-24T13:13:43.938071Z"
    },
    "papermill": {
     "duration": 0.500319,
     "end_time": "2023-10-24T13:13:43.941708",
     "exception": false,
     "start_time": "2023-10-24T13:13:43.441389",
     "status": "completed"
    },
    "tags": []
   },
   "outputs": [],
   "source": [
    "X_train=X_train/255\n",
    "X_test=X_test/255"
   ]
  },
  {
   "cell_type": "code",
   "execution_count": 13,
   "id": "13b20412",
   "metadata": {
    "execution": {
     "iopub.execute_input": "2023-10-24T13:13:43.970788Z",
     "iopub.status.busy": "2023-10-24T13:13:43.970463Z",
     "iopub.status.idle": "2023-10-24T13:13:48.760973Z",
     "shell.execute_reply": "2023-10-24T13:13:48.759996Z"
    },
    "papermill": {
     "duration": 4.807977,
     "end_time": "2023-10-24T13:13:48.763547",
     "exception": false,
     "start_time": "2023-10-24T13:13:43.955570",
     "status": "completed"
    },
    "tags": []
   },
   "outputs": [],
   "source": [
    "model=keras.Sequential([\n",
    "    \n",
    "    #cnn\n",
    "    keras.layers.Conv2D(filters=32,kernel_size=(3,3),activation=\"relu\",input_shape=(32,32,3)),\n",
    "    keras.layers.MaxPooling2D((2,2)),\n",
    "    \n",
    "    keras.layers.Conv2D(filters=64,kernel_size=(3,3),activation=\"relu\"),\n",
    "    keras.layers.MaxPooling2D((2,2)),\n",
    "    \n",
    "    keras.layers.Flatten(),\n",
    "    keras.layers.Dense(100,activation=\"relu\"),\n",
    "    keras.layers.Dense(10,activation='softmax')\n",
    "])\n",
    "\n",
    "model.compile(optimizer=\"adam\",\n",
    "             loss=\"sparse_categorical_crossentropy\",\n",
    "             metrics=[(\"accuracy\")])"
   ]
  },
  {
   "cell_type": "code",
   "execution_count": 14,
   "id": "46029929",
   "metadata": {
    "execution": {
     "iopub.execute_input": "2023-10-24T13:13:48.793069Z",
     "iopub.status.busy": "2023-10-24T13:13:48.792742Z",
     "iopub.status.idle": "2023-10-24T13:19:13.431917Z",
     "shell.execute_reply": "2023-10-24T13:19:13.430921Z"
    },
    "papermill": {
     "duration": 325.151811,
     "end_time": "2023-10-24T13:19:13.929948",
     "exception": false,
     "start_time": "2023-10-24T13:13:48.778137",
     "status": "completed"
    },
    "tags": []
   },
   "outputs": [
    {
     "name": "stdout",
     "output_type": "stream",
     "text": [
      "Epoch 1/50\n",
      "1563/1563 [==============================] - 16s 4ms/step - loss: 1.4619 - accuracy: 0.4744\n",
      "Epoch 2/50\n",
      "1563/1563 [==============================] - 5s 3ms/step - loss: 1.1139 - accuracy: 0.6101\n",
      "Epoch 3/50\n",
      "1563/1563 [==============================] - 5s 3ms/step - loss: 0.9797 - accuracy: 0.6592\n",
      "Epoch 4/50\n",
      "1563/1563 [==============================] - 6s 4ms/step - loss: 0.8955 - accuracy: 0.6886\n",
      "Epoch 5/50\n",
      "1563/1563 [==============================] - 6s 4ms/step - loss: 0.8184 - accuracy: 0.7139\n",
      "Epoch 6/50\n",
      "1563/1563 [==============================] - 6s 4ms/step - loss: 0.7660 - accuracy: 0.7339\n",
      "Epoch 7/50\n",
      "1563/1563 [==============================] - 6s 4ms/step - loss: 0.7091 - accuracy: 0.7532\n",
      "Epoch 8/50\n",
      "1563/1563 [==============================] - 6s 4ms/step - loss: 0.6610 - accuracy: 0.7695\n",
      "Epoch 9/50\n",
      "1563/1563 [==============================] - 6s 4ms/step - loss: 0.6188 - accuracy: 0.7843\n",
      "Epoch 10/50\n",
      "1563/1563 [==============================] - 6s 4ms/step - loss: 0.5770 - accuracy: 0.7970\n",
      "Epoch 11/50\n",
      "1563/1563 [==============================] - 6s 4ms/step - loss: 0.5376 - accuracy: 0.8123\n",
      "Epoch 12/50\n",
      "1563/1563 [==============================] - 6s 4ms/step - loss: 0.4985 - accuracy: 0.8235\n",
      "Epoch 13/50\n",
      "1563/1563 [==============================] - 6s 4ms/step - loss: 0.4659 - accuracy: 0.8369\n",
      "Epoch 14/50\n",
      "1563/1563 [==============================] - 5s 3ms/step - loss: 0.4330 - accuracy: 0.8470\n",
      "Epoch 15/50\n",
      "1563/1563 [==============================] - 5s 3ms/step - loss: 0.3986 - accuracy: 0.8604\n",
      "Epoch 16/50\n",
      "1563/1563 [==============================] - 5s 3ms/step - loss: 0.3662 - accuracy: 0.8687\n",
      "Epoch 17/50\n",
      "1563/1563 [==============================] - 6s 4ms/step - loss: 0.3394 - accuracy: 0.8791\n",
      "Epoch 18/50\n",
      "1563/1563 [==============================] - 5s 3ms/step - loss: 0.3085 - accuracy: 0.8901\n",
      "Epoch 19/50\n",
      "1563/1563 [==============================] - 5s 3ms/step - loss: 0.2869 - accuracy: 0.8988\n",
      "Epoch 20/50\n",
      "1563/1563 [==============================] - 6s 4ms/step - loss: 0.2587 - accuracy: 0.9084\n",
      "Epoch 21/50\n",
      "1563/1563 [==============================] - 5s 3ms/step - loss: 0.2413 - accuracy: 0.9143\n",
      "Epoch 22/50\n",
      "1563/1563 [==============================] - 6s 4ms/step - loss: 0.2198 - accuracy: 0.9216\n",
      "Epoch 23/50\n",
      "1563/1563 [==============================] - 6s 4ms/step - loss: 0.2063 - accuracy: 0.9273\n",
      "Epoch 24/50\n",
      "1563/1563 [==============================] - 6s 4ms/step - loss: 0.1908 - accuracy: 0.9314\n",
      "Epoch 25/50\n",
      "1563/1563 [==============================] - 6s 4ms/step - loss: 0.1805 - accuracy: 0.9345\n",
      "Epoch 26/50\n",
      "1563/1563 [==============================] - 6s 4ms/step - loss: 0.1651 - accuracy: 0.9412\n",
      "Epoch 27/50\n",
      "1563/1563 [==============================] - 6s 4ms/step - loss: 0.1570 - accuracy: 0.9441\n",
      "Epoch 28/50\n",
      "1563/1563 [==============================] - 6s 4ms/step - loss: 0.1489 - accuracy: 0.9459\n",
      "Epoch 29/50\n",
      "1563/1563 [==============================] - 6s 4ms/step - loss: 0.1395 - accuracy: 0.9511\n",
      "Epoch 30/50\n",
      "1563/1563 [==============================] - 5s 4ms/step - loss: 0.1356 - accuracy: 0.9510\n",
      "Epoch 31/50\n",
      "1563/1563 [==============================] - 6s 4ms/step - loss: 0.1268 - accuracy: 0.9552\n",
      "Epoch 32/50\n",
      "1563/1563 [==============================] - 5s 3ms/step - loss: 0.1244 - accuracy: 0.9558\n",
      "Epoch 33/50\n",
      "1563/1563 [==============================] - 6s 4ms/step - loss: 0.1129 - accuracy: 0.9599\n",
      "Epoch 34/50\n",
      "1563/1563 [==============================] - 6s 4ms/step - loss: 0.1131 - accuracy: 0.9605\n",
      "Epoch 35/50\n",
      "1563/1563 [==============================] - 6s 4ms/step - loss: 0.1080 - accuracy: 0.9619\n",
      "Epoch 36/50\n",
      "1563/1563 [==============================] - 6s 4ms/step - loss: 0.1095 - accuracy: 0.9606\n",
      "Epoch 37/50\n",
      "1563/1563 [==============================] - 6s 4ms/step - loss: 0.0987 - accuracy: 0.9652\n",
      "Epoch 38/50\n",
      "1563/1563 [==============================] - 6s 4ms/step - loss: 0.1033 - accuracy: 0.9644\n",
      "Epoch 39/50\n",
      "1563/1563 [==============================] - 6s 4ms/step - loss: 0.0966 - accuracy: 0.9666\n",
      "Epoch 40/50\n",
      "1563/1563 [==============================] - 6s 4ms/step - loss: 0.0955 - accuracy: 0.9661\n",
      "Epoch 41/50\n",
      "1563/1563 [==============================] - 5s 4ms/step - loss: 0.0954 - accuracy: 0.9672\n",
      "Epoch 42/50\n",
      "1563/1563 [==============================] - 6s 4ms/step - loss: 0.0944 - accuracy: 0.9675\n",
      "Epoch 43/50\n",
      "1563/1563 [==============================] - 5s 3ms/step - loss: 0.0970 - accuracy: 0.9661\n",
      "Epoch 44/50\n",
      "1563/1563 [==============================] - 6s 4ms/step - loss: 0.0794 - accuracy: 0.9719\n",
      "Epoch 45/50\n",
      "1563/1563 [==============================] - 6s 4ms/step - loss: 0.0887 - accuracy: 0.9689\n",
      "Epoch 46/50\n",
      "1563/1563 [==============================] - 6s 4ms/step - loss: 0.0897 - accuracy: 0.9693\n",
      "Epoch 47/50\n",
      "1563/1563 [==============================] - 6s 4ms/step - loss: 0.0857 - accuracy: 0.9704\n",
      "Epoch 48/50\n",
      "1563/1563 [==============================] - 6s 4ms/step - loss: 0.0723 - accuracy: 0.9760\n",
      "Epoch 49/50\n",
      "1563/1563 [==============================] - 6s 4ms/step - loss: 0.0864 - accuracy: 0.9697\n",
      "Epoch 50/50\n",
      "1563/1563 [==============================] - 6s 4ms/step - loss: 0.0779 - accuracy: 0.9740\n"
     ]
    },
    {
     "data": {
      "text/plain": [
       "<keras.callbacks.History at 0x7a319473c940>"
      ]
     },
     "execution_count": 14,
     "metadata": {},
     "output_type": "execute_result"
    }
   ],
   "source": [
    "model.fit(X_train,y_train,epochs=50)"
   ]
  },
  {
   "cell_type": "code",
   "execution_count": 15,
   "id": "660e7832",
   "metadata": {
    "execution": {
     "iopub.execute_input": "2023-10-24T13:19:14.816460Z",
     "iopub.status.busy": "2023-10-24T13:19:14.816090Z",
     "iopub.status.idle": "2023-10-24T13:19:16.335980Z",
     "shell.execute_reply": "2023-10-24T13:19:16.335119Z"
    },
    "papermill": {
     "duration": 1.970379,
     "end_time": "2023-10-24T13:19:16.338362",
     "exception": false,
     "start_time": "2023-10-24T13:19:14.367983",
     "status": "completed"
    },
    "tags": []
   },
   "outputs": [
    {
     "name": "stdout",
     "output_type": "stream",
     "text": [
      "313/313 [==============================] - 1s 2ms/step\n"
     ]
    }
   ],
   "source": [
    "y_pred=model.predict(X_test)\n",
    "y_pred_classes=[np.argmax(element) for element in y_pred]"
   ]
  },
  {
   "cell_type": "code",
   "execution_count": 16,
   "id": "052964dc",
   "metadata": {
    "execution": {
     "iopub.execute_input": "2023-10-24T13:19:17.235011Z",
     "iopub.status.busy": "2023-10-24T13:19:17.234626Z",
     "iopub.status.idle": "2023-10-24T13:19:17.392636Z",
     "shell.execute_reply": "2023-10-24T13:19:17.391629Z"
    },
    "papermill": {
     "duration": 0.61539,
     "end_time": "2023-10-24T13:19:17.394832",
     "exception": false,
     "start_time": "2023-10-24T13:19:16.779442",
     "status": "completed"
    },
    "tags": []
   },
   "outputs": [
    {
     "name": "stdout",
     "output_type": "stream",
     "text": [
      "Classification Report:\n",
      "               precision    recall  f1-score   support\n",
      "\n",
      "           0       0.74      0.68      0.71      1000\n",
      "           1       0.80      0.74      0.77      1000\n",
      "           2       0.54      0.55      0.54      1000\n",
      "           3       0.46      0.42      0.44      1000\n",
      "           4       0.65      0.59      0.62      1000\n",
      "           5       0.44      0.72      0.55      1000\n",
      "           6       0.77      0.69      0.73      1000\n",
      "           7       0.73      0.69      0.71      1000\n",
      "           8       0.81      0.75      0.78      1000\n",
      "           9       0.75      0.72      0.74      1000\n",
      "\n",
      "    accuracy                           0.65     10000\n",
      "   macro avg       0.67      0.65      0.66     10000\n",
      "weighted avg       0.67      0.65      0.66     10000\n",
      "\n"
     ]
    }
   ],
   "source": [
    "from sklearn.metrics import confusion_matrix,precision_score,f1_score,recall_score,classification_report\n",
    "print(f\"Classification Report:\\n\",classification_report(y_test,y_pred_classes))"
   ]
  },
  {
   "cell_type": "code",
   "execution_count": 17,
   "id": "cf2233f3",
   "metadata": {
    "execution": {
     "iopub.execute_input": "2023-10-24T13:19:18.348532Z",
     "iopub.status.busy": "2023-10-24T13:19:18.348121Z",
     "iopub.status.idle": "2023-10-24T13:19:18.354635Z",
     "shell.execute_reply": "2023-10-24T13:19:18.353660Z"
    },
    "papermill": {
     "duration": 0.466967,
     "end_time": "2023-10-24T13:19:18.356833",
     "exception": false,
     "start_time": "2023-10-24T13:19:17.889866",
     "status": "completed"
    },
    "tags": []
   },
   "outputs": [
    {
     "data": {
      "text/plain": [
       "[3, 8, 5, 0, 4]"
      ]
     },
     "execution_count": 17,
     "metadata": {},
     "output_type": "execute_result"
    }
   ],
   "source": [
    "y_pred_classes[:5]"
   ]
  },
  {
   "cell_type": "code",
   "execution_count": 18,
   "id": "b459daa3",
   "metadata": {
    "execution": {
     "iopub.execute_input": "2023-10-24T13:19:19.312801Z",
     "iopub.status.busy": "2023-10-24T13:19:19.312362Z",
     "iopub.status.idle": "2023-10-24T13:19:19.318576Z",
     "shell.execute_reply": "2023-10-24T13:19:19.317744Z"
    },
    "papermill": {
     "duration": 0.497163,
     "end_time": "2023-10-24T13:19:19.320550",
     "exception": false,
     "start_time": "2023-10-24T13:19:18.823387",
     "status": "completed"
    },
    "tags": []
   },
   "outputs": [
    {
     "data": {
      "text/plain": [
       "'frog'"
      ]
     },
     "execution_count": 18,
     "metadata": {},
     "output_type": "execute_result"
    }
   ],
   "source": [
    "classes[y_test[5]]"
   ]
  },
  {
   "cell_type": "code",
   "execution_count": 19,
   "id": "ac7f89f4",
   "metadata": {
    "execution": {
     "iopub.execute_input": "2023-10-24T13:19:20.277650Z",
     "iopub.status.busy": "2023-10-24T13:19:20.276985Z",
     "iopub.status.idle": "2023-10-24T13:19:20.456803Z",
     "shell.execute_reply": "2023-10-24T13:19:20.455816Z"
    },
    "papermill": {
     "duration": 0.685578,
     "end_time": "2023-10-24T13:19:20.458893",
     "exception": false,
     "start_time": "2023-10-24T13:19:19.773315",
     "status": "completed"
    },
    "tags": []
   },
   "outputs": [
    {
     "data": {
      "image/png": "[encoded data removed]",
      "text/plain": [
       "<Figure size 300x300 with 1 Axes>"
      ]
     },
     "metadata": {},
     "output_type": "display_data"
    }
   ],
   "source": [
    "plot_image(X_test,y_pred_classes,5)"
   ]
  },
  {
   "cell_type": "code",
   "execution_count": 20,
   "id": "911d10a4",
   "metadata": {
    "execution": {
     "iopub.execute_input": "2023-10-24T13:19:21.363793Z",
     "iopub.status.busy": "2023-10-24T13:19:21.363424Z",
     "iopub.status.idle": "2023-10-24T13:19:21.369785Z",
     "shell.execute_reply": "2023-10-24T13:19:21.368782Z"
    },
    "papermill": {
     "duration": 0.463044,
     "end_time": "2023-10-24T13:19:21.371719",
     "exception": false,
     "start_time": "2023-10-24T13:19:20.908675",
     "status": "completed"
    },
    "tags": []
   },
   "outputs": [
    {
     "data": {
      "text/plain": [
       "array([3, 8, 8, 0, 6, 6, 1, 6, 3, 1], dtype=uint8)"
      ]
     },
     "execution_count": 20,
     "metadata": {},
     "output_type": "execute_result"
    }
   ],
   "source": [
    "y_test[:10]"
   ]
  },
  {
   "cell_type": "code",
   "execution_count": 21,
   "id": "a6f86dff",
   "metadata": {
    "execution": {
     "iopub.execute_input": "2023-10-24T13:19:22.279130Z",
     "iopub.status.busy": "2023-10-24T13:19:22.278801Z",
     "iopub.status.idle": "2023-10-24T13:19:22.285247Z",
     "shell.execute_reply": "2023-10-24T13:19:22.284352Z"
    },
    "papermill": {
     "duration": 0.467588,
     "end_time": "2023-10-24T13:19:22.287252",
     "exception": false,
     "start_time": "2023-10-24T13:19:21.819664",
     "status": "completed"
    },
    "tags": []
   },
   "outputs": [
    {
     "data": {
      "text/plain": [
       "[3, 8, 5, 0, 4, 6, 5, 6, 3, 1]"
      ]
     },
     "execution_count": 21,
     "metadata": {},
     "output_type": "execute_result"
    }
   ],
   "source": [
    "y_pred_classes[:10]"
   ]
  },
  {
   "cell_type": "code",
   "execution_count": null,
   "id": "f7fbfc5f",
   "metadata": {
    "papermill": {
     "duration": 0.449682,
     "end_time": "2023-10-24T13:19:23.224309",
     "exception": false,
     "start_time": "2023-10-24T13:19:22.774627",
     "status": "completed"
    },
    "tags": []
   },
   "outputs": [],
   "source": []
  }
 ],
 "metadata": {
  "kernelspec": {
   "display_name": "Python 3",
   "language": "python",
   "name": "python3"
  },
  "language_info": {
   "codemirror_mode": {
    "name": "ipython",
    "version": 3
   },
   "file_extension": ".py",
   "mimetype": "text/x-python",
   "name": "python",
   "nbconvert_exporter": "python",
   "pygments_lexer": "ipython3",
   "version": "3.10.12"
  },
  "papermill": {
   "default_parameters": {},
   "duration": 364.977812,
   "end_time": "2023-10-24T13:19:27.271190",
   "environment_variables": {},
   "exception": null,
   "input_path": "__notebook__.ipynb",
   "output_path": "__notebook__.ipynb",
   "parameters": {},
   "start_time": "2023-10-24T13:13:22.293378",
   "version": "2.4.0"
  }
 },
 "nbformat": 4,
 "nbformat_minor": 5
}
