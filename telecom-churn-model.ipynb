{
 "cells": [
  {
   "cell_type": "code",
   "execution_count": 1,
   "id": "aa8e3b7a",
   "metadata": {
    "_cell_guid": "b1076dfc-b9ad-4769-8c92-a6c4dae69d19",
    "_uuid": "8f2839f25d086af736a60e9eeb907d3b93b6e0e5",
    "execution": {
     "iopub.execute_input": "2023-10-23T06:45:58.715210Z",
     "iopub.status.busy": "2023-10-23T06:45:58.714535Z",
     "iopub.status.idle": "2023-10-23T06:46:00.445200Z",
     "shell.execute_reply": "2023-10-23T06:46:00.444306Z"
    },
    "papermill": {
     "duration": 1.747812,
     "end_time": "2023-10-23T06:46:00.448085",
     "exception": false,
     "start_time": "2023-10-23T06:45:58.700273",
     "status": "completed"
    },
    "tags": []
   },
   "outputs": [
    {
     "name": "stderr",
     "output_type": "stream",
     "text": [
      "/opt/conda/lib/python3.10/site-packages/scipy/__init__.py:146: UserWarning: A NumPy version >=1.16.5 and <1.23.0 is required for this version of SciPy (detected version 1.23.5\n",
      "  warnings.warn(f\"A NumPy version >={np_minversion} and <{np_maxversion}\"\n"
     ]
    }
   ],
   "source": [
    "import matplotlib.pyplot as plt\n",
    "import numpy as np # linear algebra\n",
    "import pandas as pd # data processing, CSV file I/O (e.g. pd.read_csv)\n",
    "import sklearn\n"
   ]
  },
  {
   "cell_type": "code",
   "execution_count": 2,
   "id": "7cccabff",
   "metadata": {
    "execution": {
     "iopub.execute_input": "2023-10-23T06:46:00.478685Z",
     "iopub.status.busy": "2023-10-23T06:46:00.478172Z",
     "iopub.status.idle": "2023-10-23T06:46:00.539994Z",
     "shell.execute_reply": "2023-10-23T06:46:00.539078Z"
    },
    "papermill": {
     "duration": 0.07878,
     "end_time": "2023-10-23T06:46:00.542220",
     "exception": false,
     "start_time": "2023-10-23T06:46:00.463440",
     "status": "completed"
    },
    "tags": []
   },
   "outputs": [],
   "source": [
    "df=pd.read_csv(\"/kaggle/input/telecom-churn-dataset/WA_Fn-UseC_-Telco-Customer-Churn.csv\")"
   ]
  },
  {
   "cell_type": "code",
   "execution_count": 3,
   "id": "30bd1e03",
   "metadata": {
    "execution": {
     "iopub.execute_input": "2023-10-23T06:46:00.570444Z",
     "iopub.status.busy": "2023-10-23T06:46:00.570108Z",
     "iopub.status.idle": "2023-10-23T06:46:00.604359Z",
     "shell.execute_reply": "2023-10-23T06:46:00.603144Z"
    },
    "papermill": {
     "duration": 0.050981,
     "end_time": "2023-10-23T06:46:00.606803",
     "exception": false,
     "start_time": "2023-10-23T06:46:00.555822",
     "status": "completed"
    },
    "tags": []
   },
   "outputs": [
    {
     "data": {
      "text/html": [
       "<div>\n",
       "<style scoped>\n",
       "    .dataframe tbody tr th:only-of-type {\n",
       "        vertical-align: middle;\n",
       "    }\n",
       "\n",
       "    .dataframe tbody tr th {\n",
       "        vertical-align: top;\n",
       "    }\n",
       "\n",
       "    .dataframe thead th {\n",
       "        text-align: right;\n",
       "    }\n",
       "</style>\n",
       "<table border=\"1\" class=\"dataframe\">\n",
       "  <thead>\n",
       "    <tr style=\"text-align: right;\">\n",
       "      <th></th>\n",
       "      <th>SeniorCitizen</th>\n",
       "      <th>tenure</th>\n",
       "      <th>MonthlyCharges</th>\n",
       "    </tr>\n",
       "  </thead>\n",
       "  <tbody>\n",
       "    <tr>\n",
       "      <th>count</th>\n",
       "      <td>7043.000000</td>\n",
       "      <td>7043.000000</td>\n",
       "      <td>7043.000000</td>\n",
       "    </tr>\n",
       "    <tr>\n",
       "      <th>mean</th>\n",
       "      <td>0.162147</td>\n",
       "      <td>32.371149</td>\n",
       "      <td>64.761692</td>\n",
       "    </tr>\n",
       "    <tr>\n",
       "      <th>std</th>\n",
       "      <td>0.368612</td>\n",
       "      <td>24.559481</td>\n",
       "      <td>30.090047</td>\n",
       "    </tr>\n",
       "    <tr>\n",
       "      <th>min</th>\n",
       "      <td>0.000000</td>\n",
       "      <td>0.000000</td>\n",
       "      <td>18.250000</td>\n",
       "    </tr>\n",
       "    <tr>\n",
       "      <th>25%</th>\n",
       "      <td>0.000000</td>\n",
       "      <td>9.000000</td>\n",
       "      <td>35.500000</td>\n",
       "    </tr>\n",
       "    <tr>\n",
       "      <th>50%</th>\n",
       "      <td>0.000000</td>\n",
       "      <td>29.000000</td>\n",
       "      <td>70.350000</td>\n",
       "    </tr>\n",
       "    <tr>\n",
       "      <th>75%</th>\n",
       "      <td>0.000000</td>\n",
       "      <td>55.000000</td>\n",
       "      <td>89.850000</td>\n",
       "    </tr>\n",
       "    <tr>\n",
       "      <th>max</th>\n",
       "      <td>1.000000</td>\n",
       "      <td>72.000000</td>\n",
       "      <td>118.750000</td>\n",
       "    </tr>\n",
       "  </tbody>\n",
       "</table>\n",
       "</div>"
      ],
      "text/plain": [
       "       SeniorCitizen       tenure  MonthlyCharges\n",
       "count    7043.000000  7043.000000     7043.000000\n",
       "mean        0.162147    32.371149       64.761692\n",
       "std         0.368612    24.559481       30.090047\n",
       "min         0.000000     0.000000       18.250000\n",
       "25%         0.000000     9.000000       35.500000\n",
       "50%         0.000000    29.000000       70.350000\n",
       "75%         0.000000    55.000000       89.850000\n",
       "max         1.000000    72.000000      118.750000"
      ]
     },
     "execution_count": 3,
     "metadata": {},
     "output_type": "execute_result"
    }
   ],
   "source": [
    "df.describe()"
   ]
  },
  {
   "cell_type": "code",
   "execution_count": 4,
   "id": "66acc1b2",
   "metadata": {
    "execution": {
     "iopub.execute_input": "2023-10-23T06:46:00.638223Z",
     "iopub.status.busy": "2023-10-23T06:46:00.637919Z",
     "iopub.status.idle": "2023-10-23T06:46:00.675548Z",
     "shell.execute_reply": "2023-10-23T06:46:00.673833Z"
    },
    "papermill": {
     "duration": 0.062905,
     "end_time": "2023-10-23T06:46:00.684892",
     "exception": false,
     "start_time": "2023-10-23T06:46:00.621987",
     "status": "completed"
    },
    "tags": []
   },
   "outputs": [
    {
     "name": "stdout",
     "output_type": "stream",
     "text": [
      "<class 'pandas.core.frame.DataFrame'>\n",
      "RangeIndex: 7043 entries, 0 to 7042\n",
      "Data columns (total 21 columns):\n",
      " #   Column            Non-Null Count  Dtype  \n",
      "---  ------            --------------  -----  \n",
      " 0   customerID        7043 non-null   object \n",
      " 1   gender            7043 non-null   object \n",
      " 2   SeniorCitizen     7043 non-null   int64  \n",
      " 3   Partner           7043 non-null   object \n",
      " 4   Dependents        7043 non-null   object \n",
      " 5   tenure            7043 non-null   int64  \n",
      " 6   PhoneService      7043 non-null   object \n",
      " 7   MultipleLines     7043 non-null   object \n",
      " 8   InternetService   7043 non-null   object \n",
      " 9   OnlineSecurity    7043 non-null   object \n",
      " 10  OnlineBackup      7043 non-null   object \n",
      " 11  DeviceProtection  7043 non-null   object \n",
      " 12  TechSupport       7043 non-null   object \n",
      " 13  StreamingTV       7043 non-null   object \n",
      " 14  StreamingMovies   7043 non-null   object \n",
      " 15  Contract          7043 non-null   object \n",
      " 16  PaperlessBilling  7043 non-null   object \n",
      " 17  PaymentMethod     7043 non-null   object \n",
      " 18  MonthlyCharges    7043 non-null   float64\n",
      " 19  TotalCharges      7043 non-null   object \n",
      " 20  Churn             7043 non-null   object \n",
      "dtypes: float64(1), int64(2), object(18)\n",
      "memory usage: 1.1+ MB\n"
     ]
    }
   ],
   "source": [
    "df.info()"
   ]
  },
  {
   "cell_type": "code",
   "execution_count": 5,
   "id": "3c03735f",
   "metadata": {
    "execution": {
     "iopub.execute_input": "2023-10-23T06:46:00.711771Z",
     "iopub.status.busy": "2023-10-23T06:46:00.711108Z",
     "iopub.status.idle": "2023-10-23T06:46:00.747863Z",
     "shell.execute_reply": "2023-10-23T06:46:00.747000Z"
    },
    "papermill": {
     "duration": 0.05229,
     "end_time": "2023-10-23T06:46:00.749978",
     "exception": false,
     "start_time": "2023-10-23T06:46:00.697688",
     "status": "completed"
    },
    "tags": []
   },
   "outputs": [
    {
     "data": {
      "text/html": [
       "<div>\n",
       "<style scoped>\n",
       "    .dataframe tbody tr th:only-of-type {\n",
       "        vertical-align: middle;\n",
       "    }\n",
       "\n",
       "    .dataframe tbody tr th {\n",
       "        vertical-align: top;\n",
       "    }\n",
       "\n",
       "    .dataframe thead th {\n",
       "        text-align: right;\n",
       "    }\n",
       "</style>\n",
       "<table border=\"1\" class=\"dataframe\">\n",
       "  <thead>\n",
       "    <tr style=\"text-align: right;\">\n",
       "      <th></th>\n",
       "      <th>customerID</th>\n",
       "      <th>gender</th>\n",
       "      <th>SeniorCitizen</th>\n",
       "      <th>Partner</th>\n",
       "      <th>Dependents</th>\n",
       "      <th>tenure</th>\n",
       "      <th>PhoneService</th>\n",
       "      <th>MultipleLines</th>\n",
       "      <th>InternetService</th>\n",
       "      <th>OnlineSecurity</th>\n",
       "      <th>...</th>\n",
       "      <th>DeviceProtection</th>\n",
       "      <th>TechSupport</th>\n",
       "      <th>StreamingTV</th>\n",
       "      <th>StreamingMovies</th>\n",
       "      <th>Contract</th>\n",
       "      <th>PaperlessBilling</th>\n",
       "      <th>PaymentMethod</th>\n",
       "      <th>MonthlyCharges</th>\n",
       "      <th>TotalCharges</th>\n",
       "      <th>Churn</th>\n",
       "    </tr>\n",
       "  </thead>\n",
       "  <tbody>\n",
       "    <tr>\n",
       "      <th>0</th>\n",
       "      <td>7590-VHVEG</td>\n",
       "      <td>Female</td>\n",
       "      <td>0</td>\n",
       "      <td>Yes</td>\n",
       "      <td>No</td>\n",
       "      <td>1</td>\n",
       "      <td>No</td>\n",
       "      <td>No phone service</td>\n",
       "      <td>DSL</td>\n",
       "      <td>No</td>\n",
       "      <td>...</td>\n",
       "      <td>No</td>\n",
       "      <td>No</td>\n",
       "      <td>No</td>\n",
       "      <td>No</td>\n",
       "      <td>Month-to-month</td>\n",
       "      <td>Yes</td>\n",
       "      <td>Electronic check</td>\n",
       "      <td>29.85</td>\n",
       "      <td>29.85</td>\n",
       "      <td>No</td>\n",
       "    </tr>\n",
       "    <tr>\n",
       "      <th>1</th>\n",
       "      <td>5575-GNVDE</td>\n",
       "      <td>Male</td>\n",
       "      <td>0</td>\n",
       "      <td>No</td>\n",
       "      <td>No</td>\n",
       "      <td>34</td>\n",
       "      <td>Yes</td>\n",
       "      <td>No</td>\n",
       "      <td>DSL</td>\n",
       "      <td>Yes</td>\n",
       "      <td>...</td>\n",
       "      <td>Yes</td>\n",
       "      <td>No</td>\n",
       "      <td>No</td>\n",
       "      <td>No</td>\n",
       "      <td>One year</td>\n",
       "      <td>No</td>\n",
       "      <td>Mailed check</td>\n",
       "      <td>56.95</td>\n",
       "      <td>1889.5</td>\n",
       "      <td>No</td>\n",
       "    </tr>\n",
       "    <tr>\n",
       "      <th>2</th>\n",
       "      <td>3668-QPYBK</td>\n",
       "      <td>Male</td>\n",
       "      <td>0</td>\n",
       "      <td>No</td>\n",
       "      <td>No</td>\n",
       "      <td>2</td>\n",
       "      <td>Yes</td>\n",
       "      <td>No</td>\n",
       "      <td>DSL</td>\n",
       "      <td>Yes</td>\n",
       "      <td>...</td>\n",
       "      <td>No</td>\n",
       "      <td>No</td>\n",
       "      <td>No</td>\n",
       "      <td>No</td>\n",
       "      <td>Month-to-month</td>\n",
       "      <td>Yes</td>\n",
       "      <td>Mailed check</td>\n",
       "      <td>53.85</td>\n",
       "      <td>108.15</td>\n",
       "      <td>Yes</td>\n",
       "    </tr>\n",
       "    <tr>\n",
       "      <th>3</th>\n",
       "      <td>7795-CFOCW</td>\n",
       "      <td>Male</td>\n",
       "      <td>0</td>\n",
       "      <td>No</td>\n",
       "      <td>No</td>\n",
       "      <td>45</td>\n",
       "      <td>No</td>\n",
       "      <td>No phone service</td>\n",
       "      <td>DSL</td>\n",
       "      <td>Yes</td>\n",
       "      <td>...</td>\n",
       "      <td>Yes</td>\n",
       "      <td>Yes</td>\n",
       "      <td>No</td>\n",
       "      <td>No</td>\n",
       "      <td>One year</td>\n",
       "      <td>No</td>\n",
       "      <td>Bank transfer (automatic)</td>\n",
       "      <td>42.30</td>\n",
       "      <td>1840.75</td>\n",
       "      <td>No</td>\n",
       "    </tr>\n",
       "    <tr>\n",
       "      <th>4</th>\n",
       "      <td>9237-HQITU</td>\n",
       "      <td>Female</td>\n",
       "      <td>0</td>\n",
       "      <td>No</td>\n",
       "      <td>No</td>\n",
       "      <td>2</td>\n",
       "      <td>Yes</td>\n",
       "      <td>No</td>\n",
       "      <td>Fiber optic</td>\n",
       "      <td>No</td>\n",
       "      <td>...</td>\n",
       "      <td>No</td>\n",
       "      <td>No</td>\n",
       "      <td>No</td>\n",
       "      <td>No</td>\n",
       "      <td>Month-to-month</td>\n",
       "      <td>Yes</td>\n",
       "      <td>Electronic check</td>\n",
       "      <td>70.70</td>\n",
       "      <td>151.65</td>\n",
       "      <td>Yes</td>\n",
       "    </tr>\n",
       "    <tr>\n",
       "      <th>...</th>\n",
       "      <td>...</td>\n",
       "      <td>...</td>\n",
       "      <td>...</td>\n",
       "      <td>...</td>\n",
       "      <td>...</td>\n",
       "      <td>...</td>\n",
       "      <td>...</td>\n",
       "      <td>...</td>\n",
       "      <td>...</td>\n",
       "      <td>...</td>\n",
       "      <td>...</td>\n",
       "      <td>...</td>\n",
       "      <td>...</td>\n",
       "      <td>...</td>\n",
       "      <td>...</td>\n",
       "      <td>...</td>\n",
       "      <td>...</td>\n",
       "      <td>...</td>\n",
       "      <td>...</td>\n",
       "      <td>...</td>\n",
       "      <td>...</td>\n",
       "    </tr>\n",
       "    <tr>\n",
       "      <th>7038</th>\n",
       "      <td>6840-RESVB</td>\n",
       "      <td>Male</td>\n",
       "      <td>0</td>\n",
       "      <td>Yes</td>\n",
       "      <td>Yes</td>\n",
       "      <td>24</td>\n",
       "      <td>Yes</td>\n",
       "      <td>Yes</td>\n",
       "      <td>DSL</td>\n",
       "      <td>Yes</td>\n",
       "      <td>...</td>\n",
       "      <td>Yes</td>\n",
       "      <td>Yes</td>\n",
       "      <td>Yes</td>\n",
       "      <td>Yes</td>\n",
       "      <td>One year</td>\n",
       "      <td>Yes</td>\n",
       "      <td>Mailed check</td>\n",
       "      <td>84.80</td>\n",
       "      <td>1990.5</td>\n",
       "      <td>No</td>\n",
       "    </tr>\n",
       "    <tr>\n",
       "      <th>7039</th>\n",
       "      <td>2234-XADUH</td>\n",
       "      <td>Female</td>\n",
       "      <td>0</td>\n",
       "      <td>Yes</td>\n",
       "      <td>Yes</td>\n",
       "      <td>72</td>\n",
       "      <td>Yes</td>\n",
       "      <td>Yes</td>\n",
       "      <td>Fiber optic</td>\n",
       "      <td>No</td>\n",
       "      <td>...</td>\n",
       "      <td>Yes</td>\n",
       "      <td>No</td>\n",
       "      <td>Yes</td>\n",
       "      <td>Yes</td>\n",
       "      <td>One year</td>\n",
       "      <td>Yes</td>\n",
       "      <td>Credit card (automatic)</td>\n",
       "      <td>103.20</td>\n",
       "      <td>7362.9</td>\n",
       "      <td>No</td>\n",
       "    </tr>\n",
       "    <tr>\n",
       "      <th>7040</th>\n",
       "      <td>4801-JZAZL</td>\n",
       "      <td>Female</td>\n",
       "      <td>0</td>\n",
       "      <td>Yes</td>\n",
       "      <td>Yes</td>\n",
       "      <td>11</td>\n",
       "      <td>No</td>\n",
       "      <td>No phone service</td>\n",
       "      <td>DSL</td>\n",
       "      <td>Yes</td>\n",
       "      <td>...</td>\n",
       "      <td>No</td>\n",
       "      <td>No</td>\n",
       "      <td>No</td>\n",
       "      <td>No</td>\n",
       "      <td>Month-to-month</td>\n",
       "      <td>Yes</td>\n",
       "      <td>Electronic check</td>\n",
       "      <td>29.60</td>\n",
       "      <td>346.45</td>\n",
       "      <td>No</td>\n",
       "    </tr>\n",
       "    <tr>\n",
       "      <th>7041</th>\n",
       "      <td>8361-LTMKD</td>\n",
       "      <td>Male</td>\n",
       "      <td>1</td>\n",
       "      <td>Yes</td>\n",
       "      <td>No</td>\n",
       "      <td>4</td>\n",
       "      <td>Yes</td>\n",
       "      <td>Yes</td>\n",
       "      <td>Fiber optic</td>\n",
       "      <td>No</td>\n",
       "      <td>...</td>\n",
       "      <td>No</td>\n",
       "      <td>No</td>\n",
       "      <td>No</td>\n",
       "      <td>No</td>\n",
       "      <td>Month-to-month</td>\n",
       "      <td>Yes</td>\n",
       "      <td>Mailed check</td>\n",
       "      <td>74.40</td>\n",
       "      <td>306.6</td>\n",
       "      <td>Yes</td>\n",
       "    </tr>\n",
       "    <tr>\n",
       "      <th>7042</th>\n",
       "      <td>3186-AJIEK</td>\n",
       "      <td>Male</td>\n",
       "      <td>0</td>\n",
       "      <td>No</td>\n",
       "      <td>No</td>\n",
       "      <td>66</td>\n",
       "      <td>Yes</td>\n",
       "      <td>No</td>\n",
       "      <td>Fiber optic</td>\n",
       "      <td>Yes</td>\n",
       "      <td>...</td>\n",
       "      <td>Yes</td>\n",
       "      <td>Yes</td>\n",
       "      <td>Yes</td>\n",
       "      <td>Yes</td>\n",
       "      <td>Two year</td>\n",
       "      <td>Yes</td>\n",
       "      <td>Bank transfer (automatic)</td>\n",
       "      <td>105.65</td>\n",
       "      <td>6844.5</td>\n",
       "      <td>No</td>\n",
       "    </tr>\n",
       "  </tbody>\n",
       "</table>\n",
       "<p>7043 rows × 21 columns</p>\n",
       "</div>"
      ],
      "text/plain": [
       "      customerID  gender  SeniorCitizen Partner Dependents  tenure  \\\n",
       "0     7590-VHVEG  Female              0     Yes         No       1   \n",
       "1     5575-GNVDE    Male              0      No         No      34   \n",
       "2     3668-QPYBK    Male              0      No         No       2   \n",
       "3     7795-CFOCW    Male              0      No         No      45   \n",
       "4     9237-HQITU  Female              0      No         No       2   \n",
       "...          ...     ...            ...     ...        ...     ...   \n",
       "7038  6840-RESVB    Male              0     Yes        Yes      24   \n",
       "7039  2234-XADUH  Female              0     Yes        Yes      72   \n",
       "7040  4801-JZAZL  Female              0     Yes        Yes      11   \n",
       "7041  8361-LTMKD    Male              1     Yes         No       4   \n",
       "7042  3186-AJIEK    Male              0      No         No      66   \n",
       "\n",
       "     PhoneService     MultipleLines InternetService OnlineSecurity  ...  \\\n",
       "0              No  No phone service             DSL             No  ...   \n",
       "1             Yes                No             DSL            Yes  ...   \n",
       "2             Yes                No             DSL            Yes  ...   \n",
       "3              No  No phone service             DSL            Yes  ...   \n",
       "4             Yes                No     Fiber optic             No  ...   \n",
       "...           ...               ...             ...            ...  ...   \n",
       "7038          Yes               Yes             DSL            Yes  ...   \n",
       "7039          Yes               Yes     Fiber optic             No  ...   \n",
       "7040           No  No phone service             DSL            Yes  ...   \n",
       "7041          Yes               Yes     Fiber optic             No  ...   \n",
       "7042          Yes                No     Fiber optic            Yes  ...   \n",
       "\n",
       "     DeviceProtection TechSupport StreamingTV StreamingMovies        Contract  \\\n",
       "0                  No          No          No              No  Month-to-month   \n",
       "1                 Yes          No          No              No        One year   \n",
       "2                  No          No          No              No  Month-to-month   \n",
       "3                 Yes         Yes          No              No        One year   \n",
       "4                  No          No          No              No  Month-to-month   \n",
       "...               ...         ...         ...             ...             ...   \n",
       "7038              Yes         Yes         Yes             Yes        One year   \n",
       "7039              Yes          No         Yes             Yes        One year   \n",
       "7040               No          No          No              No  Month-to-month   \n",
       "7041               No          No          No              No  Month-to-month   \n",
       "7042              Yes         Yes         Yes             Yes        Two year   \n",
       "\n",
       "     PaperlessBilling              PaymentMethod MonthlyCharges  TotalCharges  \\\n",
       "0                 Yes           Electronic check          29.85         29.85   \n",
       "1                  No               Mailed check          56.95        1889.5   \n",
       "2                 Yes               Mailed check          53.85        108.15   \n",
       "3                  No  Bank transfer (automatic)          42.30       1840.75   \n",
       "4                 Yes           Electronic check          70.70        151.65   \n",
       "...               ...                        ...            ...           ...   \n",
       "7038              Yes               Mailed check          84.80        1990.5   \n",
       "7039              Yes    Credit card (automatic)         103.20        7362.9   \n",
       "7040              Yes           Electronic check          29.60        346.45   \n",
       "7041              Yes               Mailed check          74.40         306.6   \n",
       "7042              Yes  Bank transfer (automatic)         105.65        6844.5   \n",
       "\n",
       "     Churn  \n",
       "0       No  \n",
       "1       No  \n",
       "2      Yes  \n",
       "3       No  \n",
       "4      Yes  \n",
       "...    ...  \n",
       "7038    No  \n",
       "7039    No  \n",
       "7040    No  \n",
       "7041   Yes  \n",
       "7042    No  \n",
       "\n",
       "[7043 rows x 21 columns]"
      ]
     },
     "execution_count": 5,
     "metadata": {},
     "output_type": "execute_result"
    }
   ],
   "source": [
    "df"
   ]
  },
  {
   "cell_type": "code",
   "execution_count": 6,
   "id": "6cfdb498",
   "metadata": {
    "execution": {
     "iopub.execute_input": "2023-10-23T06:46:00.784313Z",
     "iopub.status.busy": "2023-10-23T06:46:00.783201Z",
     "iopub.status.idle": "2023-10-23T06:46:00.791872Z",
     "shell.execute_reply": "2023-10-23T06:46:00.790788Z"
    },
    "papermill": {
     "duration": 0.02894,
     "end_time": "2023-10-23T06:46:00.794623",
     "exception": false,
     "start_time": "2023-10-23T06:46:00.765683",
     "status": "completed"
    },
    "tags": []
   },
   "outputs": [],
   "source": [
    "df.drop(\"customerID\",axis=1,inplace=True)"
   ]
  },
  {
   "cell_type": "code",
   "execution_count": 7,
   "id": "c49cf8a5",
   "metadata": {
    "execution": {
     "iopub.execute_input": "2023-10-23T06:46:00.831920Z",
     "iopub.status.busy": "2023-10-23T06:46:00.831558Z",
     "iopub.status.idle": "2023-10-23T06:46:00.852915Z",
     "shell.execute_reply": "2023-10-23T06:46:00.851873Z"
    },
    "papermill": {
     "duration": 0.043211,
     "end_time": "2023-10-23T06:46:00.855338",
     "exception": false,
     "start_time": "2023-10-23T06:46:00.812127",
     "status": "completed"
    },
    "tags": []
   },
   "outputs": [
    {
     "data": {
      "text/html": [
       "<div>\n",
       "<style scoped>\n",
       "    .dataframe tbody tr th:only-of-type {\n",
       "        vertical-align: middle;\n",
       "    }\n",
       "\n",
       "    .dataframe tbody tr th {\n",
       "        vertical-align: top;\n",
       "    }\n",
       "\n",
       "    .dataframe thead th {\n",
       "        text-align: right;\n",
       "    }\n",
       "</style>\n",
       "<table border=\"1\" class=\"dataframe\">\n",
       "  <thead>\n",
       "    <tr style=\"text-align: right;\">\n",
       "      <th></th>\n",
       "      <th>gender</th>\n",
       "      <th>SeniorCitizen</th>\n",
       "      <th>Partner</th>\n",
       "      <th>Dependents</th>\n",
       "      <th>tenure</th>\n",
       "      <th>PhoneService</th>\n",
       "      <th>MultipleLines</th>\n",
       "      <th>InternetService</th>\n",
       "      <th>OnlineSecurity</th>\n",
       "      <th>OnlineBackup</th>\n",
       "      <th>DeviceProtection</th>\n",
       "      <th>TechSupport</th>\n",
       "      <th>StreamingTV</th>\n",
       "      <th>StreamingMovies</th>\n",
       "      <th>Contract</th>\n",
       "      <th>PaperlessBilling</th>\n",
       "      <th>PaymentMethod</th>\n",
       "      <th>MonthlyCharges</th>\n",
       "      <th>TotalCharges</th>\n",
       "      <th>Churn</th>\n",
       "    </tr>\n",
       "  </thead>\n",
       "  <tbody>\n",
       "    <tr>\n",
       "      <th>0</th>\n",
       "      <td>Female</td>\n",
       "      <td>0</td>\n",
       "      <td>Yes</td>\n",
       "      <td>No</td>\n",
       "      <td>1</td>\n",
       "      <td>No</td>\n",
       "      <td>No phone service</td>\n",
       "      <td>DSL</td>\n",
       "      <td>No</td>\n",
       "      <td>Yes</td>\n",
       "      <td>No</td>\n",
       "      <td>No</td>\n",
       "      <td>No</td>\n",
       "      <td>No</td>\n",
       "      <td>Month-to-month</td>\n",
       "      <td>Yes</td>\n",
       "      <td>Electronic check</td>\n",
       "      <td>29.85</td>\n",
       "      <td>29.85</td>\n",
       "      <td>No</td>\n",
       "    </tr>\n",
       "    <tr>\n",
       "      <th>1</th>\n",
       "      <td>Male</td>\n",
       "      <td>0</td>\n",
       "      <td>No</td>\n",
       "      <td>No</td>\n",
       "      <td>34</td>\n",
       "      <td>Yes</td>\n",
       "      <td>No</td>\n",
       "      <td>DSL</td>\n",
       "      <td>Yes</td>\n",
       "      <td>No</td>\n",
       "      <td>Yes</td>\n",
       "      <td>No</td>\n",
       "      <td>No</td>\n",
       "      <td>No</td>\n",
       "      <td>One year</td>\n",
       "      <td>No</td>\n",
       "      <td>Mailed check</td>\n",
       "      <td>56.95</td>\n",
       "      <td>1889.5</td>\n",
       "      <td>No</td>\n",
       "    </tr>\n",
       "    <tr>\n",
       "      <th>2</th>\n",
       "      <td>Male</td>\n",
       "      <td>0</td>\n",
       "      <td>No</td>\n",
       "      <td>No</td>\n",
       "      <td>2</td>\n",
       "      <td>Yes</td>\n",
       "      <td>No</td>\n",
       "      <td>DSL</td>\n",
       "      <td>Yes</td>\n",
       "      <td>Yes</td>\n",
       "      <td>No</td>\n",
       "      <td>No</td>\n",
       "      <td>No</td>\n",
       "      <td>No</td>\n",
       "      <td>Month-to-month</td>\n",
       "      <td>Yes</td>\n",
       "      <td>Mailed check</td>\n",
       "      <td>53.85</td>\n",
       "      <td>108.15</td>\n",
       "      <td>Yes</td>\n",
       "    </tr>\n",
       "    <tr>\n",
       "      <th>3</th>\n",
       "      <td>Male</td>\n",
       "      <td>0</td>\n",
       "      <td>No</td>\n",
       "      <td>No</td>\n",
       "      <td>45</td>\n",
       "      <td>No</td>\n",
       "      <td>No phone service</td>\n",
       "      <td>DSL</td>\n",
       "      <td>Yes</td>\n",
       "      <td>No</td>\n",
       "      <td>Yes</td>\n",
       "      <td>Yes</td>\n",
       "      <td>No</td>\n",
       "      <td>No</td>\n",
       "      <td>One year</td>\n",
       "      <td>No</td>\n",
       "      <td>Bank transfer (automatic)</td>\n",
       "      <td>42.30</td>\n",
       "      <td>1840.75</td>\n",
       "      <td>No</td>\n",
       "    </tr>\n",
       "    <tr>\n",
       "      <th>4</th>\n",
       "      <td>Female</td>\n",
       "      <td>0</td>\n",
       "      <td>No</td>\n",
       "      <td>No</td>\n",
       "      <td>2</td>\n",
       "      <td>Yes</td>\n",
       "      <td>No</td>\n",
       "      <td>Fiber optic</td>\n",
       "      <td>No</td>\n",
       "      <td>No</td>\n",
       "      <td>No</td>\n",
       "      <td>No</td>\n",
       "      <td>No</td>\n",
       "      <td>No</td>\n",
       "      <td>Month-to-month</td>\n",
       "      <td>Yes</td>\n",
       "      <td>Electronic check</td>\n",
       "      <td>70.70</td>\n",
       "      <td>151.65</td>\n",
       "      <td>Yes</td>\n",
       "    </tr>\n",
       "  </tbody>\n",
       "</table>\n",
       "</div>"
      ],
      "text/plain": [
       "   gender  SeniorCitizen Partner Dependents  tenure PhoneService  \\\n",
       "0  Female              0     Yes         No       1           No   \n",
       "1    Male              0      No         No      34          Yes   \n",
       "2    Male              0      No         No       2          Yes   \n",
       "3    Male              0      No         No      45           No   \n",
       "4  Female              0      No         No       2          Yes   \n",
       "\n",
       "      MultipleLines InternetService OnlineSecurity OnlineBackup  \\\n",
       "0  No phone service             DSL             No          Yes   \n",
       "1                No             DSL            Yes           No   \n",
       "2                No             DSL            Yes          Yes   \n",
       "3  No phone service             DSL            Yes           No   \n",
       "4                No     Fiber optic             No           No   \n",
       "\n",
       "  DeviceProtection TechSupport StreamingTV StreamingMovies        Contract  \\\n",
       "0               No          No          No              No  Month-to-month   \n",
       "1              Yes          No          No              No        One year   \n",
       "2               No          No          No              No  Month-to-month   \n",
       "3              Yes         Yes          No              No        One year   \n",
       "4               No          No          No              No  Month-to-month   \n",
       "\n",
       "  PaperlessBilling              PaymentMethod  MonthlyCharges TotalCharges  \\\n",
       "0              Yes           Electronic check           29.85        29.85   \n",
       "1               No               Mailed check           56.95       1889.5   \n",
       "2              Yes               Mailed check           53.85       108.15   \n",
       "3               No  Bank transfer (automatic)           42.30      1840.75   \n",
       "4              Yes           Electronic check           70.70       151.65   \n",
       "\n",
       "  Churn  \n",
       "0    No  \n",
       "1    No  \n",
       "2   Yes  \n",
       "3    No  \n",
       "4   Yes  "
      ]
     },
     "execution_count": 7,
     "metadata": {},
     "output_type": "execute_result"
    }
   ],
   "source": [
    "df.head()"
   ]
  },
  {
   "cell_type": "code",
   "execution_count": 8,
   "id": "887fdd3b",
   "metadata": {
    "execution": {
     "iopub.execute_input": "2023-10-23T06:46:00.888788Z",
     "iopub.status.busy": "2023-10-23T06:46:00.887965Z",
     "iopub.status.idle": "2023-10-23T06:46:00.896382Z",
     "shell.execute_reply": "2023-10-23T06:46:00.895462Z"
    },
    "papermill": {
     "duration": 0.024742,
     "end_time": "2023-10-23T06:46:00.898308",
     "exception": false,
     "start_time": "2023-10-23T06:46:00.873566",
     "status": "completed"
    },
    "tags": []
   },
   "outputs": [
    {
     "data": {
      "text/plain": [
       "gender               object\n",
       "SeniorCitizen         int64\n",
       "Partner              object\n",
       "Dependents           object\n",
       "tenure                int64\n",
       "PhoneService         object\n",
       "MultipleLines        object\n",
       "InternetService      object\n",
       "OnlineSecurity       object\n",
       "OnlineBackup         object\n",
       "DeviceProtection     object\n",
       "TechSupport          object\n",
       "StreamingTV          object\n",
       "StreamingMovies      object\n",
       "Contract             object\n",
       "PaperlessBilling     object\n",
       "PaymentMethod        object\n",
       "MonthlyCharges      float64\n",
       "TotalCharges         object\n",
       "Churn                object\n",
       "dtype: object"
      ]
     },
     "execution_count": 8,
     "metadata": {},
     "output_type": "execute_result"
    }
   ],
   "source": [
    "df.dtypes"
   ]
  },
  {
   "cell_type": "code",
   "execution_count": 9,
   "id": "ef84d009",
   "metadata": {
    "execution": {
     "iopub.execute_input": "2023-10-23T06:46:00.930134Z",
     "iopub.status.busy": "2023-10-23T06:46:00.929318Z",
     "iopub.status.idle": "2023-10-23T06:46:00.936025Z",
     "shell.execute_reply": "2023-10-23T06:46:00.935101Z"
    },
    "papermill": {
     "duration": 0.023502,
     "end_time": "2023-10-23T06:46:00.937911",
     "exception": false,
     "start_time": "2023-10-23T06:46:00.914409",
     "status": "completed"
    },
    "tags": []
   },
   "outputs": [
    {
     "data": {
      "text/plain": [
       "' '"
      ]
     },
     "execution_count": 9,
     "metadata": {},
     "output_type": "execute_result"
    }
   ],
   "source": [
    "df[\"TotalCharges\"][488]"
   ]
  },
  {
   "cell_type": "code",
   "execution_count": 10,
   "id": "fbff0cf6",
   "metadata": {
    "execution": {
     "iopub.execute_input": "2023-10-23T06:46:00.967023Z",
     "iopub.status.busy": "2023-10-23T06:46:00.966346Z",
     "iopub.status.idle": "2023-10-23T06:46:00.970600Z",
     "shell.execute_reply": "2023-10-23T06:46:00.969750Z"
    },
    "papermill": {
     "duration": 0.021114,
     "end_time": "2023-10-23T06:46:00.972609",
     "exception": false,
     "start_time": "2023-10-23T06:46:00.951495",
     "status": "completed"
    },
    "tags": []
   },
   "outputs": [],
   "source": [
    "# pd.to_numeric(df[\"TotalCharges\"])"
   ]
  },
  {
   "cell_type": "code",
   "execution_count": 11,
   "id": "b44ff27e",
   "metadata": {
    "execution": {
     "iopub.execute_input": "2023-10-23T06:46:01.001379Z",
     "iopub.status.busy": "2023-10-23T06:46:01.000692Z",
     "iopub.status.idle": "2023-10-23T06:46:01.005061Z",
     "shell.execute_reply": "2023-10-23T06:46:01.004175Z"
    },
    "papermill": {
     "duration": 0.02086,
     "end_time": "2023-10-23T06:46:01.006920",
     "exception": false,
     "start_time": "2023-10-23T06:46:00.986060",
     "status": "completed"
    },
    "tags": []
   },
   "outputs": [],
   "source": [
    "#df[\"TotalCharges\"].astype(\"float64\")   #ValueError: could not convert string to float: ' '"
   ]
  },
  {
   "cell_type": "code",
   "execution_count": 12,
   "id": "ffbac386",
   "metadata": {
    "execution": {
     "iopub.execute_input": "2023-10-23T06:46:01.037852Z",
     "iopub.status.busy": "2023-10-23T06:46:01.037071Z",
     "iopub.status.idle": "2023-10-23T06:46:01.045538Z",
     "shell.execute_reply": "2023-10-23T06:46:01.044653Z"
    },
    "papermill": {
     "duration": 0.027552,
     "end_time": "2023-10-23T06:46:01.047711",
     "exception": false,
     "start_time": "2023-10-23T06:46:01.020159",
     "status": "completed"
    },
    "tags": []
   },
   "outputs": [
    {
     "data": {
      "text/plain": [
       "gender                        Female\n",
       "SeniorCitizen                      0\n",
       "Partner                           No\n",
       "Dependents                        No\n",
       "tenure                            15\n",
       "PhoneService                     Yes\n",
       "MultipleLines                    Yes\n",
       "InternetService          Fiber optic\n",
       "OnlineSecurity                    No\n",
       "OnlineBackup                     Yes\n",
       "DeviceProtection                  No\n",
       "TechSupport                       No\n",
       "StreamingTV                      Yes\n",
       "StreamingMovies                  Yes\n",
       "Contract              Month-to-month\n",
       "PaperlessBilling                 Yes\n",
       "PaymentMethod       Electronic check\n",
       "MonthlyCharges                100.15\n",
       "TotalCharges                    1415\n",
       "Churn                             No\n",
       "Name: 486, dtype: object"
      ]
     },
     "execution_count": 12,
     "metadata": {},
     "output_type": "execute_result"
    }
   ],
   "source": [
    "df.iloc[486]"
   ]
  },
  {
   "cell_type": "code",
   "execution_count": 13,
   "id": "7099c392",
   "metadata": {
    "execution": {
     "iopub.execute_input": "2023-10-23T06:46:01.123024Z",
     "iopub.status.busy": "2023-10-23T06:46:01.121955Z",
     "iopub.status.idle": "2023-10-23T06:46:01.140281Z",
     "shell.execute_reply": "2023-10-23T06:46:01.139300Z"
    },
    "papermill": {
     "duration": 0.036336,
     "end_time": "2023-10-23T06:46:01.142531",
     "exception": false,
     "start_time": "2023-10-23T06:46:01.106195",
     "status": "completed"
    },
    "tags": []
   },
   "outputs": [
    {
     "data": {
      "text/plain": [
       "0       False\n",
       "1       False\n",
       "2       False\n",
       "3       False\n",
       "4       False\n",
       "        ...  \n",
       "7038    False\n",
       "7039    False\n",
       "7040    False\n",
       "7041    False\n",
       "7042    False\n",
       "Name: TotalCharges, Length: 7043, dtype: bool"
      ]
     },
     "execution_count": 13,
     "metadata": {},
     "output_type": "execute_result"
    }
   ],
   "source": [
    "pd.to_numeric(df[\"TotalCharges\"],errors=\"coerce\").isnull()"
   ]
  },
  {
   "cell_type": "code",
   "execution_count": 14,
   "id": "1c1aef12",
   "metadata": {
    "execution": {
     "iopub.execute_input": "2023-10-23T06:46:01.177879Z",
     "iopub.status.busy": "2023-10-23T06:46:01.177578Z",
     "iopub.status.idle": "2023-10-23T06:46:01.185348Z",
     "shell.execute_reply": "2023-10-23T06:46:01.184186Z"
    },
    "papermill": {
     "duration": 0.030422,
     "end_time": "2023-10-23T06:46:01.187631",
     "exception": false,
     "start_time": "2023-10-23T06:46:01.157209",
     "status": "completed"
    },
    "tags": []
   },
   "outputs": [],
   "source": [
    "df['TotalCharges']=df['TotalCharges'].apply(lambda x: x.strip())"
   ]
  },
  {
   "cell_type": "code",
   "execution_count": 15,
   "id": "d9978c4e",
   "metadata": {
    "execution": {
     "iopub.execute_input": "2023-10-23T06:46:01.218679Z",
     "iopub.status.busy": "2023-10-23T06:46:01.218387Z",
     "iopub.status.idle": "2023-10-23T06:46:01.228147Z",
     "shell.execute_reply": "2023-10-23T06:46:01.227123Z"
    },
    "papermill": {
     "duration": 0.028142,
     "end_time": "2023-10-23T06:46:01.230517",
     "exception": false,
     "start_time": "2023-10-23T06:46:01.202375",
     "status": "completed"
    },
    "tags": []
   },
   "outputs": [],
   "source": [
    "df[\"TotalCharges\"]=pd.to_numeric(df[\"TotalCharges\"])"
   ]
  },
  {
   "cell_type": "code",
   "execution_count": 16,
   "id": "522c04e5",
   "metadata": {
    "execution": {
     "iopub.execute_input": "2023-10-23T06:46:01.261821Z",
     "iopub.status.busy": "2023-10-23T06:46:01.261531Z",
     "iopub.status.idle": "2023-10-23T06:46:01.268866Z",
     "shell.execute_reply": "2023-10-23T06:46:01.267948Z"
    },
    "papermill": {
     "duration": 0.025132,
     "end_time": "2023-10-23T06:46:01.270911",
     "exception": false,
     "start_time": "2023-10-23T06:46:01.245779",
     "status": "completed"
    },
    "tags": []
   },
   "outputs": [
    {
     "data": {
      "text/plain": [
       "gender               object\n",
       "SeniorCitizen         int64\n",
       "Partner              object\n",
       "Dependents           object\n",
       "tenure                int64\n",
       "PhoneService         object\n",
       "MultipleLines        object\n",
       "InternetService      object\n",
       "OnlineSecurity       object\n",
       "OnlineBackup         object\n",
       "DeviceProtection     object\n",
       "TechSupport          object\n",
       "StreamingTV          object\n",
       "StreamingMovies      object\n",
       "Contract             object\n",
       "PaperlessBilling     object\n",
       "PaymentMethod        object\n",
       "MonthlyCharges      float64\n",
       "TotalCharges        float64\n",
       "Churn                object\n",
       "dtype: object"
      ]
     },
     "execution_count": 16,
     "metadata": {},
     "output_type": "execute_result"
    }
   ],
   "source": [
    "df.dtypes"
   ]
  },
  {
   "cell_type": "code",
   "execution_count": 17,
   "id": "6583388c",
   "metadata": {
    "execution": {
     "iopub.execute_input": "2023-10-23T06:46:01.300789Z",
     "iopub.status.busy": "2023-10-23T06:46:01.300443Z",
     "iopub.status.idle": "2023-10-23T06:46:01.308380Z",
     "shell.execute_reply": "2023-10-23T06:46:01.307575Z"
    },
    "papermill": {
     "duration": 0.025427,
     "end_time": "2023-10-23T06:46:01.310560",
     "exception": false,
     "start_time": "2023-10-23T06:46:01.285133",
     "status": "completed"
    },
    "tags": []
   },
   "outputs": [],
   "source": [
    "tenure_churn_yes=df[df.Churn==\"Yes\"].tenure"
   ]
  },
  {
   "cell_type": "code",
   "execution_count": 18,
   "id": "f37704f5",
   "metadata": {
    "execution": {
     "iopub.execute_input": "2023-10-23T06:46:01.340423Z",
     "iopub.status.busy": "2023-10-23T06:46:01.340044Z",
     "iopub.status.idle": "2023-10-23T06:46:01.348710Z",
     "shell.execute_reply": "2023-10-23T06:46:01.347802Z"
    },
    "papermill": {
     "duration": 0.025856,
     "end_time": "2023-10-23T06:46:01.350683",
     "exception": false,
     "start_time": "2023-10-23T06:46:01.324827",
     "status": "completed"
    },
    "tags": []
   },
   "outputs": [],
   "source": [
    "tenure_churn_no=df[df.Churn==\"No\"].tenure"
   ]
  },
  {
   "cell_type": "code",
   "execution_count": 19,
   "id": "14d979b0",
   "metadata": {
    "execution": {
     "iopub.execute_input": "2023-10-23T06:46:01.380824Z",
     "iopub.status.busy": "2023-10-23T06:46:01.380477Z",
     "iopub.status.idle": "2023-10-23T06:46:01.828055Z",
     "shell.execute_reply": "2023-10-23T06:46:01.827306Z"
    },
    "papermill": {
     "duration": 0.465672,
     "end_time": "2023-10-23T06:46:01.830643",
     "exception": false,
     "start_time": "2023-10-23T06:46:01.364971",
     "status": "completed"
    },
    "tags": []
   },
   "outputs": [
    {
     "data": {
      "text/plain": [
       "<matplotlib.legend.Legend at 0x7f07cad6a350>"
      ]
     },
     "execution_count": 19,
     "metadata": {},
     "output_type": "execute_result"
    },
    {
     "data": {
      "image/png": "[encoded data removed]",
      "text/plain": [
       "<Figure size 640x480 with 1 Axes>"
      ]
     },
     "metadata": {},
     "output_type": "display_data"
    }
   ],
   "source": [
    "plt.xlabel(\"tenure\")\n",
    "plt.ylabel(\"Number of Customer\")\n",
    "plt.title(\"Churn based on Tenure\")\n",
    "\n",
    "#tenure_churn_yes means this much amount of customers have left the telecom company in the duration\n",
    "#tenure_churn_no means this much amount of customers have'nt left the telecom company in the duration\n",
    "\n",
    "plt.hist([tenure_churn_yes,tenure_churn_no],color=[\"Red\",\"Green\"],label=[\"tenure_churn_yes\",\"tenure_churn_no\"])\n",
    "plt.legend()"
   ]
  },
  {
   "cell_type": "code",
   "execution_count": 20,
   "id": "61ce9355",
   "metadata": {
    "execution": {
     "iopub.execute_input": "2023-10-23T06:46:01.890195Z",
     "iopub.status.busy": "2023-10-23T06:46:01.889744Z",
     "iopub.status.idle": "2023-10-23T06:46:02.312037Z",
     "shell.execute_reply": "2023-10-23T06:46:02.311030Z"
    },
    "papermill": {
     "duration": 0.45216,
     "end_time": "2023-10-23T06:46:02.314079",
     "exception": false,
     "start_time": "2023-10-23T06:46:01.861919",
     "status": "completed"
    },
    "tags": []
   },
   "outputs": [
    {
     "data": {
      "text/plain": [
       "<matplotlib.legend.Legend at 0x7f07caaee140>"
      ]
     },
     "execution_count": 20,
     "metadata": {},
     "output_type": "execute_result"
    },
    {
     "data": {
      "image/png": "[encoded data removed]",
      "text/plain": [
       "<Figure size 640x480 with 1 Axes>"
      ]
     },
     "metadata": {},
     "output_type": "display_data"
    }
   ],
   "source": [
    "monthly_charges_yes=df[df.Churn==\"Yes\"].MonthlyCharges\n",
    "monthly_charges_no=df[df.Churn==\"No\"].MonthlyCharges\n",
    "\n",
    "plt.xlabel(\"Monthly_Charges\")\n",
    "plt.ylabel(\"Number of Customer\")\n",
    "plt.title(\"Churn on the basis of Monthly Charges\")\n",
    "\n",
    "plt.hist([monthly_charges_yes,monthly_charges_no],color=[\"Red\",\"Green\"],label=[\"monthly_charges_yes\",\"monthly_charges_no\"])\n",
    "plt.legend()"
   ]
  },
  {
   "cell_type": "code",
   "execution_count": 21,
   "id": "db379434",
   "metadata": {
    "execution": {
     "iopub.execute_input": "2023-10-23T06:46:02.345704Z",
     "iopub.status.busy": "2023-10-23T06:46:02.345414Z",
     "iopub.status.idle": "2023-10-23T06:46:02.354766Z",
     "shell.execute_reply": "2023-10-23T06:46:02.353996Z"
    },
    "papermill": {
     "duration": 0.02747,
     "end_time": "2023-10-23T06:46:02.356689",
     "exception": false,
     "start_time": "2023-10-23T06:46:02.329219",
     "status": "completed"
    },
    "tags": []
   },
   "outputs": [
    {
     "data": {
      "text/plain": [
       "(7032, 20)"
      ]
     },
     "execution_count": 21,
     "metadata": {},
     "output_type": "execute_result"
    }
   ],
   "source": [
    "df.dropna(subset=[\"TotalCharges\"],inplace=True)\n",
    "df.shape"
   ]
  },
  {
   "cell_type": "code",
   "execution_count": 22,
   "id": "2e904627",
   "metadata": {
    "execution": {
     "iopub.execute_input": "2023-10-23T06:46:02.388172Z",
     "iopub.status.busy": "2023-10-23T06:46:02.387901Z",
     "iopub.status.idle": "2023-10-23T06:46:02.394762Z",
     "shell.execute_reply": "2023-10-23T06:46:02.393883Z"
    },
    "papermill": {
     "duration": 0.024583,
     "end_time": "2023-10-23T06:46:02.396749",
     "exception": false,
     "start_time": "2023-10-23T06:46:02.372166",
     "status": "completed"
    },
    "tags": []
   },
   "outputs": [
    {
     "data": {
      "text/plain": [
       "gender               object\n",
       "SeniorCitizen         int64\n",
       "Partner              object\n",
       "Dependents           object\n",
       "tenure                int64\n",
       "PhoneService         object\n",
       "MultipleLines        object\n",
       "InternetService      object\n",
       "OnlineSecurity       object\n",
       "OnlineBackup         object\n",
       "DeviceProtection     object\n",
       "TechSupport          object\n",
       "StreamingTV          object\n",
       "StreamingMovies      object\n",
       "Contract             object\n",
       "PaperlessBilling     object\n",
       "PaymentMethod        object\n",
       "MonthlyCharges      float64\n",
       "TotalCharges        float64\n",
       "Churn                object\n",
       "dtype: object"
      ]
     },
     "execution_count": 22,
     "metadata": {},
     "output_type": "execute_result"
    }
   ],
   "source": [
    "df.dtypes"
   ]
  },
  {
   "cell_type": "code",
   "execution_count": 23,
   "id": "52c318db",
   "metadata": {
    "execution": {
     "iopub.execute_input": "2023-10-23T06:46:02.428216Z",
     "iopub.status.busy": "2023-10-23T06:46:02.427970Z",
     "iopub.status.idle": "2023-10-23T06:46:02.432562Z",
     "shell.execute_reply": "2023-10-23T06:46:02.431629Z"
    },
    "papermill": {
     "duration": 0.022565,
     "end_time": "2023-10-23T06:46:02.434526",
     "exception": false,
     "start_time": "2023-10-23T06:46:02.411961",
     "status": "completed"
    },
    "tags": []
   },
   "outputs": [],
   "source": [
    "def print_unique_col_values(df):\n",
    "    \n",
    "    for col in df:\n",
    "        if df[col].dtypes==\"object\":\n",
    "            print(f\"{col}:{df[col].unique()}\")"
   ]
  },
  {
   "cell_type": "code",
   "execution_count": 24,
   "id": "e6d26b0e",
   "metadata": {
    "execution": {
     "iopub.execute_input": "2023-10-23T06:46:02.466563Z",
     "iopub.status.busy": "2023-10-23T06:46:02.466223Z",
     "iopub.status.idle": "2023-10-23T06:46:02.503752Z",
     "shell.execute_reply": "2023-10-23T06:46:02.502786Z"
    },
    "papermill": {
     "duration": 0.056402,
     "end_time": "2023-10-23T06:46:02.505888",
     "exception": false,
     "start_time": "2023-10-23T06:46:02.449486",
     "status": "completed"
    },
    "tags": []
   },
   "outputs": [],
   "source": [
    "df.replace(\"No phone service\", \"No\",inplace=True)\n",
    "df.replace(\"No internet service\", \"No\",inplace=True)"
   ]
  },
  {
   "cell_type": "code",
   "execution_count": 25,
   "id": "22a0be7b",
   "metadata": {
    "execution": {
     "iopub.execute_input": "2023-10-23T06:46:02.537790Z",
     "iopub.status.busy": "2023-10-23T06:46:02.537488Z",
     "iopub.status.idle": "2023-10-23T06:46:02.544835Z",
     "shell.execute_reply": "2023-10-23T06:46:02.544043Z"
    },
    "papermill": {
     "duration": 0.025371,
     "end_time": "2023-10-23T06:46:02.546656",
     "exception": false,
     "start_time": "2023-10-23T06:46:02.521285",
     "status": "completed"
    },
    "tags": []
   },
   "outputs": [
    {
     "data": {
      "text/plain": [
       "gender               object\n",
       "SeniorCitizen         int64\n",
       "Partner              object\n",
       "Dependents           object\n",
       "tenure                int64\n",
       "PhoneService         object\n",
       "MultipleLines        object\n",
       "InternetService      object\n",
       "OnlineSecurity       object\n",
       "OnlineBackup         object\n",
       "DeviceProtection     object\n",
       "TechSupport          object\n",
       "StreamingTV          object\n",
       "StreamingMovies      object\n",
       "Contract             object\n",
       "PaperlessBilling     object\n",
       "PaymentMethod        object\n",
       "MonthlyCharges      float64\n",
       "TotalCharges        float64\n",
       "Churn                object\n",
       "dtype: object"
      ]
     },
     "execution_count": 25,
     "metadata": {},
     "output_type": "execute_result"
    }
   ],
   "source": [
    "df.dtypes"
   ]
  },
  {
   "cell_type": "code",
   "execution_count": 26,
   "id": "365c8ed2",
   "metadata": {
    "execution": {
     "iopub.execute_input": "2023-10-23T06:46:02.577982Z",
     "iopub.status.busy": "2023-10-23T06:46:02.577724Z",
     "iopub.status.idle": "2023-10-23T06:46:02.593128Z",
     "shell.execute_reply": "2023-10-23T06:46:02.592217Z"
    },
    "papermill": {
     "duration": 0.033111,
     "end_time": "2023-10-23T06:46:02.594937",
     "exception": false,
     "start_time": "2023-10-23T06:46:02.561826",
     "status": "completed"
    },
    "tags": []
   },
   "outputs": [
    {
     "name": "stdout",
     "output_type": "stream",
     "text": [
      "gender:['Female' 'Male']\n",
      "Partner:['Yes' 'No']\n",
      "Dependents:['No' 'Yes']\n",
      "PhoneService:['No' 'Yes']\n",
      "MultipleLines:['No' 'Yes']\n",
      "InternetService:['DSL' 'Fiber optic' 'No']\n",
      "OnlineSecurity:['No' 'Yes']\n",
      "OnlineBackup:['Yes' 'No']\n",
      "DeviceProtection:['No' 'Yes']\n",
      "TechSupport:['No' 'Yes']\n",
      "StreamingTV:['No' 'Yes']\n",
      "StreamingMovies:['No' 'Yes']\n",
      "Contract:['Month-to-month' 'One year' 'Two year']\n",
      "PaperlessBilling:['Yes' 'No']\n",
      "PaymentMethod:['Electronic check' 'Mailed check' 'Bank transfer (automatic)'\n",
      " 'Credit card (automatic)']\n",
      "Churn:['No' 'Yes']\n"
     ]
    }
   ],
   "source": [
    "print_unique_col_values(df)"
   ]
  },
  {
   "cell_type": "code",
   "execution_count": 27,
   "id": "c039ce96",
   "metadata": {
    "execution": {
     "iopub.execute_input": "2023-10-23T06:46:02.627036Z",
     "iopub.status.busy": "2023-10-23T06:46:02.626733Z",
     "iopub.status.idle": "2023-10-23T06:46:02.688676Z",
     "shell.execute_reply": "2023-10-23T06:46:02.688010Z"
    },
    "papermill": {
     "duration": 0.080132,
     "end_time": "2023-10-23T06:46:02.690556",
     "exception": false,
     "start_time": "2023-10-23T06:46:02.610424",
     "status": "completed"
    },
    "tags": []
   },
   "outputs": [],
   "source": [
    "yes_no_columns=[\"Partner\",\"Dependents\",\"PhoneService\",\"MultipleLines\",\"OnlineSecurity\",\"OnlineBackup\",\"DeviceProtection\",\n",
    "               \"TechSupport\",\"StreamingTV\",\"StreamingMovies\",\"PaperlessBilling\",\"Churn\"]\n",
    "\n",
    "for col in yes_no_columns:\n",
    "    df[col].replace({\"Yes\":1, \"No\":0},inplace=True)\n",
    "    "
   ]
  },
  {
   "cell_type": "code",
   "execution_count": 28,
   "id": "06c71227",
   "metadata": {
    "execution": {
     "iopub.execute_input": "2023-10-23T06:46:02.723216Z",
     "iopub.status.busy": "2023-10-23T06:46:02.722939Z",
     "iopub.status.idle": "2023-10-23T06:46:02.735851Z",
     "shell.execute_reply": "2023-10-23T06:46:02.734989Z"
    },
    "papermill": {
     "duration": 0.031754,
     "end_time": "2023-10-23T06:46:02.737736",
     "exception": false,
     "start_time": "2023-10-23T06:46:02.705982",
     "status": "completed"
    },
    "tags": []
   },
   "outputs": [
    {
     "name": "stdout",
     "output_type": "stream",
     "text": [
      "gender:['Female' 'Male']\n",
      "SeniorCitizen:[0 1]\n",
      "Partner:[1 0]\n",
      "Dependents:[0 1]\n",
      "tenure:[ 1 34  2 45  8 22 10 28 62 13 16 58 49 25 69 52 71 21 12 30 47 72 17 27\n",
      "  5 46 11 70 63 43 15 60 18 66  9  3 31 50 64 56  7 42 35 48 29 65 38 68\n",
      " 32 55 37 36 41  6  4 33 67 23 57 61 14 20 53 40 59 24 44 19 54 51 26 39]\n",
      "PhoneService:[0 1]\n",
      "MultipleLines:[0 1]\n",
      "InternetService:['DSL' 'Fiber optic' 'No']\n",
      "OnlineSecurity:[0 1]\n",
      "OnlineBackup:[1 0]\n",
      "DeviceProtection:[0 1]\n",
      "TechSupport:[0 1]\n",
      "StreamingTV:[0 1]\n",
      "StreamingMovies:[0 1]\n",
      "Contract:['Month-to-month' 'One year' 'Two year']\n",
      "PaperlessBilling:[1 0]\n",
      "PaymentMethod:['Electronic check' 'Mailed check' 'Bank transfer (automatic)'\n",
      " 'Credit card (automatic)']\n",
      "MonthlyCharges:[29.85 56.95 53.85 ... 63.1  44.2  78.7 ]\n",
      "TotalCharges:[  29.85 1889.5   108.15 ...  346.45  306.6  6844.5 ]\n",
      "Churn:[0 1]\n"
     ]
    }
   ],
   "source": [
    "for col in df:\n",
    "    print(f\"{col}:{df[col].unique()}\")"
   ]
  },
  {
   "cell_type": "code",
   "execution_count": 29,
   "id": "375b5e34",
   "metadata": {
    "execution": {
     "iopub.execute_input": "2023-10-23T06:46:02.770106Z",
     "iopub.status.busy": "2023-10-23T06:46:02.769841Z",
     "iopub.status.idle": "2023-10-23T06:46:02.779028Z",
     "shell.execute_reply": "2023-10-23T06:46:02.778165Z"
    },
    "papermill": {
     "duration": 0.02738,
     "end_time": "2023-10-23T06:46:02.780864",
     "exception": false,
     "start_time": "2023-10-23T06:46:02.753484",
     "status": "completed"
    },
    "tags": []
   },
   "outputs": [],
   "source": [
    "df.gender.replace({\"Male\":1,\"Female\":0},inplace=True)"
   ]
  },
  {
   "cell_type": "code",
   "execution_count": 30,
   "id": "503aa0fa",
   "metadata": {
    "execution": {
     "iopub.execute_input": "2023-10-23T06:46:02.813236Z",
     "iopub.status.busy": "2023-10-23T06:46:02.812442Z",
     "iopub.status.idle": "2023-10-23T06:46:02.819164Z",
     "shell.execute_reply": "2023-10-23T06:46:02.818341Z"
    },
    "papermill": {
     "duration": 0.025002,
     "end_time": "2023-10-23T06:46:02.821000",
     "exception": false,
     "start_time": "2023-10-23T06:46:02.795998",
     "status": "completed"
    },
    "tags": []
   },
   "outputs": [
    {
     "data": {
      "text/plain": [
       "gender                int64\n",
       "SeniorCitizen         int64\n",
       "Partner               int64\n",
       "Dependents            int64\n",
       "tenure                int64\n",
       "PhoneService          int64\n",
       "MultipleLines         int64\n",
       "InternetService      object\n",
       "OnlineSecurity        int64\n",
       "OnlineBackup          int64\n",
       "DeviceProtection      int64\n",
       "TechSupport           int64\n",
       "StreamingTV           int64\n",
       "StreamingMovies       int64\n",
       "Contract             object\n",
       "PaperlessBilling      int64\n",
       "PaymentMethod        object\n",
       "MonthlyCharges      float64\n",
       "TotalCharges        float64\n",
       "Churn                 int64\n",
       "dtype: object"
      ]
     },
     "execution_count": 30,
     "metadata": {},
     "output_type": "execute_result"
    }
   ],
   "source": [
    "df.dtypes"
   ]
  },
  {
   "cell_type": "code",
   "execution_count": 31,
   "id": "8209334a",
   "metadata": {
    "execution": {
     "iopub.execute_input": "2023-10-23T06:46:02.852807Z",
     "iopub.status.busy": "2023-10-23T06:46:02.852543Z",
     "iopub.status.idle": "2023-10-23T06:46:02.865603Z",
     "shell.execute_reply": "2023-10-23T06:46:02.864909Z"
    },
    "papermill": {
     "duration": 0.031048,
     "end_time": "2023-10-23T06:46:02.867542",
     "exception": false,
     "start_time": "2023-10-23T06:46:02.836494",
     "status": "completed"
    },
    "tags": []
   },
   "outputs": [],
   "source": [
    "df1=pd.get_dummies(data=df,columns=[\"PaymentMethod\",\"Contract\",\"InternetService\"],dtype=float)"
   ]
  },
  {
   "cell_type": "code",
   "execution_count": 32,
   "id": "ae42d6aa",
   "metadata": {
    "execution": {
     "iopub.execute_input": "2023-10-23T06:46:02.899588Z",
     "iopub.status.busy": "2023-10-23T06:46:02.899344Z",
     "iopub.status.idle": "2023-10-23T06:46:02.906178Z",
     "shell.execute_reply": "2023-10-23T06:46:02.905309Z"
    },
    "papermill": {
     "duration": 0.025041,
     "end_time": "2023-10-23T06:46:02.908170",
     "exception": false,
     "start_time": "2023-10-23T06:46:02.883129",
     "status": "completed"
    },
    "tags": []
   },
   "outputs": [
    {
     "data": {
      "text/plain": [
       "gender                                       int64\n",
       "SeniorCitizen                                int64\n",
       "Partner                                      int64\n",
       "Dependents                                   int64\n",
       "tenure                                       int64\n",
       "PhoneService                                 int64\n",
       "MultipleLines                                int64\n",
       "OnlineSecurity                               int64\n",
       "OnlineBackup                                 int64\n",
       "DeviceProtection                             int64\n",
       "TechSupport                                  int64\n",
       "StreamingTV                                  int64\n",
       "StreamingMovies                              int64\n",
       "PaperlessBilling                             int64\n",
       "MonthlyCharges                             float64\n",
       "TotalCharges                               float64\n",
       "Churn                                        int64\n",
       "PaymentMethod_Bank transfer (automatic)    float64\n",
       "PaymentMethod_Credit card (automatic)      float64\n",
       "PaymentMethod_Electronic check             float64\n",
       "PaymentMethod_Mailed check                 float64\n",
       "Contract_Month-to-month                    float64\n",
       "Contract_One year                          float64\n",
       "Contract_Two year                          float64\n",
       "InternetService_DSL                        float64\n",
       "InternetService_Fiber optic                float64\n",
       "InternetService_No                         float64\n",
       "dtype: object"
      ]
     },
     "execution_count": 32,
     "metadata": {},
     "output_type": "execute_result"
    }
   ],
   "source": [
    "df1.dtypes"
   ]
  },
  {
   "cell_type": "code",
   "execution_count": 33,
   "id": "c8661ae2",
   "metadata": {
    "execution": {
     "iopub.execute_input": "2023-10-23T06:46:02.941295Z",
     "iopub.status.busy": "2023-10-23T06:46:02.940599Z",
     "iopub.status.idle": "2023-10-23T06:46:02.946365Z",
     "shell.execute_reply": "2023-10-23T06:46:02.945574Z"
    },
    "papermill": {
     "duration": 0.024447,
     "end_time": "2023-10-23T06:46:02.948311",
     "exception": false,
     "start_time": "2023-10-23T06:46:02.923864",
     "status": "completed"
    },
    "tags": []
   },
   "outputs": [
    {
     "data": {
      "text/plain": [
       "Index(['gender', 'SeniorCitizen', 'Partner', 'Dependents', 'tenure',\n",
       "       'PhoneService', 'MultipleLines', 'OnlineSecurity', 'OnlineBackup',\n",
       "       'DeviceProtection', 'TechSupport', 'StreamingTV', 'StreamingMovies',\n",
       "       'PaperlessBilling', 'MonthlyCharges', 'TotalCharges', 'Churn',\n",
       "       'PaymentMethod_Bank transfer (automatic)',\n",
       "       'PaymentMethod_Credit card (automatic)',\n",
       "       'PaymentMethod_Electronic check', 'PaymentMethod_Mailed check',\n",
       "       'Contract_Month-to-month', 'Contract_One year', 'Contract_Two year',\n",
       "       'InternetService_DSL', 'InternetService_Fiber optic',\n",
       "       'InternetService_No'],\n",
       "      dtype='object')"
      ]
     },
     "execution_count": 33,
     "metadata": {},
     "output_type": "execute_result"
    }
   ],
   "source": [
    "df1.columns"
   ]
  },
  {
   "cell_type": "code",
   "execution_count": 34,
   "id": "31345ff0",
   "metadata": {
    "execution": {
     "iopub.execute_input": "2023-10-23T06:46:02.981807Z",
     "iopub.status.busy": "2023-10-23T06:46:02.981532Z",
     "iopub.status.idle": "2023-10-23T06:46:02.988506Z",
     "shell.execute_reply": "2023-10-23T06:46:02.987620Z"
    },
    "papermill": {
     "duration": 0.026342,
     "end_time": "2023-10-23T06:46:02.990695",
     "exception": false,
     "start_time": "2023-10-23T06:46:02.964353",
     "status": "completed"
    },
    "tags": []
   },
   "outputs": [
    {
     "data": {
      "text/plain": [
       "gender                                       int64\n",
       "SeniorCitizen                                int64\n",
       "Partner                                      int64\n",
       "Dependents                                   int64\n",
       "tenure                                       int64\n",
       "PhoneService                                 int64\n",
       "MultipleLines                                int64\n",
       "OnlineSecurity                               int64\n",
       "OnlineBackup                                 int64\n",
       "DeviceProtection                             int64\n",
       "TechSupport                                  int64\n",
       "StreamingTV                                  int64\n",
       "StreamingMovies                              int64\n",
       "PaperlessBilling                             int64\n",
       "MonthlyCharges                             float64\n",
       "TotalCharges                               float64\n",
       "Churn                                        int64\n",
       "PaymentMethod_Bank transfer (automatic)    float64\n",
       "PaymentMethod_Credit card (automatic)      float64\n",
       "PaymentMethod_Electronic check             float64\n",
       "PaymentMethod_Mailed check                 float64\n",
       "Contract_Month-to-month                    float64\n",
       "Contract_One year                          float64\n",
       "Contract_Two year                          float64\n",
       "InternetService_DSL                        float64\n",
       "InternetService_Fiber optic                float64\n",
       "InternetService_No                         float64\n",
       "dtype: object"
      ]
     },
     "execution_count": 34,
     "metadata": {},
     "output_type": "execute_result"
    }
   ],
   "source": [
    "df1.dtypes"
   ]
  },
  {
   "cell_type": "code",
   "execution_count": 35,
   "id": "9009c9e8",
   "metadata": {
    "execution": {
     "iopub.execute_input": "2023-10-23T06:46:03.023830Z",
     "iopub.status.busy": "2023-10-23T06:46:03.023579Z",
     "iopub.status.idle": "2023-10-23T06:46:03.062839Z",
     "shell.execute_reply": "2023-10-23T06:46:03.061524Z"
    },
    "papermill": {
     "duration": 0.058165,
     "end_time": "2023-10-23T06:46:03.065005",
     "exception": false,
     "start_time": "2023-10-23T06:46:03.006840",
     "status": "completed"
    },
    "tags": []
   },
   "outputs": [],
   "source": [
    "scale_columns=[\"tenure\",\"MonthlyCharges\",\"TotalCharges\"]\n",
    "\n",
    "from sklearn.preprocessing import MinMaxScaler\n",
    "scaler=MinMaxScaler()\n",
    "\n",
    "df1[scale_columns]=scaler.fit_transform(df1[scale_columns])\n"
   ]
  },
  {
   "cell_type": "code",
   "execution_count": 36,
   "id": "65a4eab7",
   "metadata": {
    "execution": {
     "iopub.execute_input": "2023-10-23T06:46:03.100066Z",
     "iopub.status.busy": "2023-10-23T06:46:03.099820Z",
     "iopub.status.idle": "2023-10-23T06:46:03.106014Z",
     "shell.execute_reply": "2023-10-23T06:46:03.105131Z"
    },
    "papermill": {
     "duration": 0.025545,
     "end_time": "2023-10-23T06:46:03.107912",
     "exception": false,
     "start_time": "2023-10-23T06:46:03.082367",
     "status": "completed"
    },
    "tags": []
   },
   "outputs": [],
   "source": [
    "X=df1.drop(\"Churn\",axis=1)\n",
    "y=df1[\"Churn\"]"
   ]
  },
  {
   "cell_type": "code",
   "execution_count": 37,
   "id": "e9b53db7",
   "metadata": {
    "execution": {
     "iopub.execute_input": "2023-10-23T06:46:03.141467Z",
     "iopub.status.busy": "2023-10-23T06:46:03.141073Z",
     "iopub.status.idle": "2023-10-23T06:46:03.168126Z",
     "shell.execute_reply": "2023-10-23T06:46:03.167295Z"
    },
    "papermill": {
     "duration": 0.045936,
     "end_time": "2023-10-23T06:46:03.170296",
     "exception": false,
     "start_time": "2023-10-23T06:46:03.124360",
     "status": "completed"
    },
    "tags": []
   },
   "outputs": [
    {
     "data": {
      "text/html": [
       "<div>\n",
       "<style scoped>\n",
       "    .dataframe tbody tr th:only-of-type {\n",
       "        vertical-align: middle;\n",
       "    }\n",
       "\n",
       "    .dataframe tbody tr th {\n",
       "        vertical-align: top;\n",
       "    }\n",
       "\n",
       "    .dataframe thead th {\n",
       "        text-align: right;\n",
       "    }\n",
       "</style>\n",
       "<table border=\"1\" class=\"dataframe\">\n",
       "  <thead>\n",
       "    <tr style=\"text-align: right;\">\n",
       "      <th></th>\n",
       "      <th>gender</th>\n",
       "      <th>SeniorCitizen</th>\n",
       "      <th>Partner</th>\n",
       "      <th>Dependents</th>\n",
       "      <th>tenure</th>\n",
       "      <th>PhoneService</th>\n",
       "      <th>MultipleLines</th>\n",
       "      <th>OnlineSecurity</th>\n",
       "      <th>OnlineBackup</th>\n",
       "      <th>DeviceProtection</th>\n",
       "      <th>...</th>\n",
       "      <th>PaymentMethod_Bank transfer (automatic)</th>\n",
       "      <th>PaymentMethod_Credit card (automatic)</th>\n",
       "      <th>PaymentMethod_Electronic check</th>\n",
       "      <th>PaymentMethod_Mailed check</th>\n",
       "      <th>Contract_Month-to-month</th>\n",
       "      <th>Contract_One year</th>\n",
       "      <th>Contract_Two year</th>\n",
       "      <th>InternetService_DSL</th>\n",
       "      <th>InternetService_Fiber optic</th>\n",
       "      <th>InternetService_No</th>\n",
       "    </tr>\n",
       "  </thead>\n",
       "  <tbody>\n",
       "    <tr>\n",
       "      <th>0</th>\n",
       "      <td>0</td>\n",
       "      <td>0</td>\n",
       "      <td>1</td>\n",
       "      <td>0</td>\n",
       "      <td>0.000000</td>\n",
       "      <td>0</td>\n",
       "      <td>0</td>\n",
       "      <td>0</td>\n",
       "      <td>1</td>\n",
       "      <td>0</td>\n",
       "      <td>...</td>\n",
       "      <td>0.0</td>\n",
       "      <td>0.0</td>\n",
       "      <td>1.0</td>\n",
       "      <td>0.0</td>\n",
       "      <td>1.0</td>\n",
       "      <td>0.0</td>\n",
       "      <td>0.0</td>\n",
       "      <td>1.0</td>\n",
       "      <td>0.0</td>\n",
       "      <td>0.0</td>\n",
       "    </tr>\n",
       "    <tr>\n",
       "      <th>1</th>\n",
       "      <td>1</td>\n",
       "      <td>0</td>\n",
       "      <td>0</td>\n",
       "      <td>0</td>\n",
       "      <td>0.464789</td>\n",
       "      <td>1</td>\n",
       "      <td>0</td>\n",
       "      <td>1</td>\n",
       "      <td>0</td>\n",
       "      <td>1</td>\n",
       "      <td>...</td>\n",
       "      <td>0.0</td>\n",
       "      <td>0.0</td>\n",
       "      <td>0.0</td>\n",
       "      <td>1.0</td>\n",
       "      <td>0.0</td>\n",
       "      <td>1.0</td>\n",
       "      <td>0.0</td>\n",
       "      <td>1.0</td>\n",
       "      <td>0.0</td>\n",
       "      <td>0.0</td>\n",
       "    </tr>\n",
       "    <tr>\n",
       "      <th>2</th>\n",
       "      <td>1</td>\n",
       "      <td>0</td>\n",
       "      <td>0</td>\n",
       "      <td>0</td>\n",
       "      <td>0.014085</td>\n",
       "      <td>1</td>\n",
       "      <td>0</td>\n",
       "      <td>1</td>\n",
       "      <td>1</td>\n",
       "      <td>0</td>\n",
       "      <td>...</td>\n",
       "      <td>0.0</td>\n",
       "      <td>0.0</td>\n",
       "      <td>0.0</td>\n",
       "      <td>1.0</td>\n",
       "      <td>1.0</td>\n",
       "      <td>0.0</td>\n",
       "      <td>0.0</td>\n",
       "      <td>1.0</td>\n",
       "      <td>0.0</td>\n",
       "      <td>0.0</td>\n",
       "    </tr>\n",
       "    <tr>\n",
       "      <th>3</th>\n",
       "      <td>1</td>\n",
       "      <td>0</td>\n",
       "      <td>0</td>\n",
       "      <td>0</td>\n",
       "      <td>0.619718</td>\n",
       "      <td>0</td>\n",
       "      <td>0</td>\n",
       "      <td>1</td>\n",
       "      <td>0</td>\n",
       "      <td>1</td>\n",
       "      <td>...</td>\n",
       "      <td>1.0</td>\n",
       "      <td>0.0</td>\n",
       "      <td>0.0</td>\n",
       "      <td>0.0</td>\n",
       "      <td>0.0</td>\n",
       "      <td>1.0</td>\n",
       "      <td>0.0</td>\n",
       "      <td>1.0</td>\n",
       "      <td>0.0</td>\n",
       "      <td>0.0</td>\n",
       "    </tr>\n",
       "    <tr>\n",
       "      <th>4</th>\n",
       "      <td>0</td>\n",
       "      <td>0</td>\n",
       "      <td>0</td>\n",
       "      <td>0</td>\n",
       "      <td>0.014085</td>\n",
       "      <td>1</td>\n",
       "      <td>0</td>\n",
       "      <td>0</td>\n",
       "      <td>0</td>\n",
       "      <td>0</td>\n",
       "      <td>...</td>\n",
       "      <td>0.0</td>\n",
       "      <td>0.0</td>\n",
       "      <td>1.0</td>\n",
       "      <td>0.0</td>\n",
       "      <td>1.0</td>\n",
       "      <td>0.0</td>\n",
       "      <td>0.0</td>\n",
       "      <td>0.0</td>\n",
       "      <td>1.0</td>\n",
       "      <td>0.0</td>\n",
       "    </tr>\n",
       "  </tbody>\n",
       "</table>\n",
       "<p>5 rows × 26 columns</p>\n",
       "</div>"
      ],
      "text/plain": [
       "   gender  SeniorCitizen  Partner  Dependents    tenure  PhoneService  \\\n",
       "0       0              0        1           0  0.000000             0   \n",
       "1       1              0        0           0  0.464789             1   \n",
       "2       1              0        0           0  0.014085             1   \n",
       "3       1              0        0           0  0.619718             0   \n",
       "4       0              0        0           0  0.014085             1   \n",
       "\n",
       "   MultipleLines  OnlineSecurity  OnlineBackup  DeviceProtection  ...  \\\n",
       "0              0               0             1                 0  ...   \n",
       "1              0               1             0                 1  ...   \n",
       "2              0               1             1                 0  ...   \n",
       "3              0               1             0                 1  ...   \n",
       "4              0               0             0                 0  ...   \n",
       "\n",
       "   PaymentMethod_Bank transfer (automatic)  \\\n",
       "0                                      0.0   \n",
       "1                                      0.0   \n",
       "2                                      0.0   \n",
       "3                                      1.0   \n",
       "4                                      0.0   \n",
       "\n",
       "   PaymentMethod_Credit card (automatic)  PaymentMethod_Electronic check  \\\n",
       "0                                    0.0                             1.0   \n",
       "1                                    0.0                             0.0   \n",
       "2                                    0.0                             0.0   \n",
       "3                                    0.0                             0.0   \n",
       "4                                    0.0                             1.0   \n",
       "\n",
       "   PaymentMethod_Mailed check  Contract_Month-to-month  Contract_One year  \\\n",
       "0                         0.0                      1.0                0.0   \n",
       "1                         1.0                      0.0                1.0   \n",
       "2                         1.0                      1.0                0.0   \n",
       "3                         0.0                      0.0                1.0   \n",
       "4                         0.0                      1.0                0.0   \n",
       "\n",
       "   Contract_Two year  InternetService_DSL  InternetService_Fiber optic  \\\n",
       "0                0.0                  1.0                          0.0   \n",
       "1                0.0                  1.0                          0.0   \n",
       "2                0.0                  1.0                          0.0   \n",
       "3                0.0                  1.0                          0.0   \n",
       "4                0.0                  0.0                          1.0   \n",
       "\n",
       "   InternetService_No  \n",
       "0                 0.0  \n",
       "1                 0.0  \n",
       "2                 0.0  \n",
       "3                 0.0  \n",
       "4                 0.0  \n",
       "\n",
       "[5 rows x 26 columns]"
      ]
     },
     "execution_count": 37,
     "metadata": {},
     "output_type": "execute_result"
    }
   ],
   "source": [
    "X.head()"
   ]
  },
  {
   "cell_type": "code",
   "execution_count": 38,
   "id": "056f282f",
   "metadata": {
    "execution": {
     "iopub.execute_input": "2023-10-23T06:46:03.206323Z",
     "iopub.status.busy": "2023-10-23T06:46:03.206023Z",
     "iopub.status.idle": "2023-10-23T06:46:03.374431Z",
     "shell.execute_reply": "2023-10-23T06:46:03.373627Z"
    },
    "papermill": {
     "duration": 0.188957,
     "end_time": "2023-10-23T06:46:03.376809",
     "exception": false,
     "start_time": "2023-10-23T06:46:03.187852",
     "status": "completed"
    },
    "tags": []
   },
   "outputs": [],
   "source": [
    "from sklearn.model_selection import train_test_split\n",
    "\n",
    "X_train,X_test,y_train,y_test=train_test_split(X,y,test_size=0.2,random_state=42)"
   ]
  },
  {
   "cell_type": "code",
   "execution_count": 39,
   "id": "d4d3f0ac",
   "metadata": {
    "execution": {
     "iopub.execute_input": "2023-10-23T06:46:03.412226Z",
     "iopub.status.busy": "2023-10-23T06:46:03.411945Z",
     "iopub.status.idle": "2023-10-23T06:46:11.851724Z",
     "shell.execute_reply": "2023-10-23T06:46:11.850892Z"
    },
    "papermill": {
     "duration": 8.459702,
     "end_time": "2023-10-23T06:46:11.853997",
     "exception": false,
     "start_time": "2023-10-23T06:46:03.394295",
     "status": "completed"
    },
    "tags": []
   },
   "outputs": [],
   "source": [
    "import tensorflow as tf\n",
    "from tensorflow import keras"
   ]
  },
  {
   "cell_type": "code",
   "execution_count": 40,
   "id": "158d2913",
   "metadata": {
    "execution": {
     "iopub.execute_input": "2023-10-23T06:46:11.888857Z",
     "iopub.status.busy": "2023-10-23T06:46:11.888316Z",
     "iopub.status.idle": "2023-10-23T06:47:17.804674Z",
     "shell.execute_reply": "2023-10-23T06:47:17.803643Z"
    },
    "papermill": {
     "duration": 65.935911,
     "end_time": "2023-10-23T06:47:17.806837",
     "exception": false,
     "start_time": "2023-10-23T06:46:11.870926",
     "status": "completed"
    },
    "tags": []
   },
   "outputs": [
    {
     "name": "stdout",
     "output_type": "stream",
     "text": [
      "Epoch 1/100\n",
      "176/176 [==============================] - 5s 3ms/step - loss: 0.6058 - accuracy: 0.7061\n",
      "Epoch 2/100\n",
      "176/176 [==============================] - 1s 3ms/step - loss: 0.5307 - accuracy: 0.7342\n",
      "Epoch 3/100\n",
      "176/176 [==============================] - 1s 3ms/step - loss: 0.4869 - accuracy: 0.7340\n",
      "Epoch 4/100\n",
      "176/176 [==============================] - 1s 3ms/step - loss: 0.4538 - accuracy: 0.7660\n",
      "Epoch 5/100\n",
      "176/176 [==============================] - 1s 3ms/step - loss: 0.4376 - accuracy: 0.7908\n",
      "Epoch 6/100\n",
      "176/176 [==============================] - 1s 3ms/step - loss: 0.4302 - accuracy: 0.7940\n",
      "Epoch 7/100\n",
      "176/176 [==============================] - 1s 3ms/step - loss: 0.4266 - accuracy: 0.7970\n",
      "Epoch 8/100\n",
      "176/176 [==============================] - 1s 3ms/step - loss: 0.4238 - accuracy: 0.7972\n",
      "Epoch 9/100\n",
      "176/176 [==============================] - 1s 3ms/step - loss: 0.4221 - accuracy: 0.8025\n",
      "Epoch 10/100\n",
      "176/176 [==============================] - 1s 3ms/step - loss: 0.4200 - accuracy: 0.8004\n",
      "Epoch 11/100\n",
      "176/176 [==============================] - 1s 3ms/step - loss: 0.4186 - accuracy: 0.8012\n",
      "Epoch 12/100\n",
      "176/176 [==============================] - 1s 3ms/step - loss: 0.4171 - accuracy: 0.8027\n",
      "Epoch 13/100\n",
      "176/176 [==============================] - 1s 3ms/step - loss: 0.4168 - accuracy: 0.8041\n",
      "Epoch 14/100\n",
      "176/176 [==============================] - 1s 3ms/step - loss: 0.4156 - accuracy: 0.8060\n",
      "Epoch 15/100\n",
      "176/176 [==============================] - 1s 3ms/step - loss: 0.4144 - accuracy: 0.8043\n",
      "Epoch 16/100\n",
      "176/176 [==============================] - 1s 3ms/step - loss: 0.4142 - accuracy: 0.8039\n",
      "Epoch 17/100\n",
      "176/176 [==============================] - 1s 3ms/step - loss: 0.4126 - accuracy: 0.8053\n",
      "Epoch 18/100\n",
      "176/176 [==============================] - 1s 3ms/step - loss: 0.4127 - accuracy: 0.8059\n",
      "Epoch 19/100\n",
      "176/176 [==============================] - 1s 4ms/step - loss: 0.4122 - accuracy: 0.8037\n",
      "Epoch 20/100\n",
      "176/176 [==============================] - 1s 4ms/step - loss: 0.4116 - accuracy: 0.8078\n",
      "Epoch 21/100\n",
      "176/176 [==============================] - 1s 3ms/step - loss: 0.4111 - accuracy: 0.8076\n",
      "Epoch 22/100\n",
      "176/176 [==============================] - 1s 3ms/step - loss: 0.4105 - accuracy: 0.8089\n",
      "Epoch 23/100\n",
      "176/176 [==============================] - 1s 3ms/step - loss: 0.4102 - accuracy: 0.8078\n",
      "Epoch 24/100\n",
      "176/176 [==============================] - 1s 3ms/step - loss: 0.4101 - accuracy: 0.8105\n",
      "Epoch 25/100\n",
      "176/176 [==============================] - 1s 3ms/step - loss: 0.4095 - accuracy: 0.8071\n",
      "Epoch 26/100\n",
      "176/176 [==============================] - 1s 3ms/step - loss: 0.4088 - accuracy: 0.8071\n",
      "Epoch 27/100\n",
      "176/176 [==============================] - 1s 3ms/step - loss: 0.4085 - accuracy: 0.8089\n",
      "Epoch 28/100\n",
      "176/176 [==============================] - 1s 3ms/step - loss: 0.4082 - accuracy: 0.8085\n",
      "Epoch 29/100\n",
      "176/176 [==============================] - 1s 3ms/step - loss: 0.4079 - accuracy: 0.8105\n",
      "Epoch 30/100\n",
      "176/176 [==============================] - 1s 3ms/step - loss: 0.4078 - accuracy: 0.8108\n",
      "Epoch 31/100\n",
      "176/176 [==============================] - 1s 3ms/step - loss: 0.4073 - accuracy: 0.8094\n",
      "Epoch 32/100\n",
      "176/176 [==============================] - 1s 3ms/step - loss: 0.4069 - accuracy: 0.8082\n",
      "Epoch 33/100\n",
      "176/176 [==============================] - 1s 3ms/step - loss: 0.4068 - accuracy: 0.8114\n",
      "Epoch 34/100\n",
      "176/176 [==============================] - 1s 3ms/step - loss: 0.4058 - accuracy: 0.8116\n",
      "Epoch 35/100\n",
      "176/176 [==============================] - 1s 3ms/step - loss: 0.4060 - accuracy: 0.8084\n",
      "Epoch 36/100\n",
      "176/176 [==============================] - 1s 3ms/step - loss: 0.4055 - accuracy: 0.8100\n",
      "Epoch 37/100\n",
      "176/176 [==============================] - 1s 3ms/step - loss: 0.4048 - accuracy: 0.8098\n",
      "Epoch 38/100\n",
      "176/176 [==============================] - 1s 3ms/step - loss: 0.4047 - accuracy: 0.8101\n",
      "Epoch 39/100\n",
      "176/176 [==============================] - 1s 3ms/step - loss: 0.4042 - accuracy: 0.8128\n",
      "Epoch 40/100\n",
      "176/176 [==============================] - 1s 3ms/step - loss: 0.4045 - accuracy: 0.8114\n",
      "Epoch 41/100\n",
      "176/176 [==============================] - 1s 3ms/step - loss: 0.4040 - accuracy: 0.8107\n",
      "Epoch 42/100\n",
      "176/176 [==============================] - 1s 3ms/step - loss: 0.4040 - accuracy: 0.8089\n",
      "Epoch 43/100\n",
      "176/176 [==============================] - 1s 3ms/step - loss: 0.4035 - accuracy: 0.8114\n",
      "Epoch 44/100\n",
      "176/176 [==============================] - 1s 3ms/step - loss: 0.4029 - accuracy: 0.8126\n",
      "Epoch 45/100\n",
      "176/176 [==============================] - 1s 3ms/step - loss: 0.4023 - accuracy: 0.8110\n",
      "Epoch 46/100\n",
      "176/176 [==============================] - 1s 3ms/step - loss: 0.4022 - accuracy: 0.8110\n",
      "Epoch 47/100\n",
      "176/176 [==============================] - 1s 3ms/step - loss: 0.4024 - accuracy: 0.8144\n",
      "Epoch 48/100\n",
      "176/176 [==============================] - 1s 3ms/step - loss: 0.4017 - accuracy: 0.8119\n",
      "Epoch 49/100\n",
      "176/176 [==============================] - 1s 3ms/step - loss: 0.4015 - accuracy: 0.8135\n",
      "Epoch 50/100\n",
      "176/176 [==============================] - 1s 3ms/step - loss: 0.4010 - accuracy: 0.8124\n",
      "Epoch 51/100\n",
      "176/176 [==============================] - 1s 3ms/step - loss: 0.4011 - accuracy: 0.8130\n",
      "Epoch 52/100\n",
      "176/176 [==============================] - 1s 3ms/step - loss: 0.4008 - accuracy: 0.8119\n",
      "Epoch 53/100\n",
      "176/176 [==============================] - 1s 3ms/step - loss: 0.4003 - accuracy: 0.8128\n",
      "Epoch 54/100\n",
      "176/176 [==============================] - 1s 3ms/step - loss: 0.3996 - accuracy: 0.8162\n",
      "Epoch 55/100\n",
      "176/176 [==============================] - 1s 3ms/step - loss: 0.3997 - accuracy: 0.8135\n",
      "Epoch 56/100\n",
      "176/176 [==============================] - 1s 3ms/step - loss: 0.3997 - accuracy: 0.8137\n",
      "Epoch 57/100\n",
      "176/176 [==============================] - 1s 3ms/step - loss: 0.3995 - accuracy: 0.8126\n",
      "Epoch 58/100\n",
      "176/176 [==============================] - 1s 3ms/step - loss: 0.3987 - accuracy: 0.8126\n",
      "Epoch 59/100\n",
      "176/176 [==============================] - 1s 3ms/step - loss: 0.3990 - accuracy: 0.8130\n",
      "Epoch 60/100\n",
      "176/176 [==============================] - 1s 3ms/step - loss: 0.3982 - accuracy: 0.8132\n",
      "Epoch 61/100\n",
      "176/176 [==============================] - 1s 3ms/step - loss: 0.3979 - accuracy: 0.8117\n",
      "Epoch 62/100\n",
      "176/176 [==============================] - 1s 3ms/step - loss: 0.3970 - accuracy: 0.8137\n",
      "Epoch 63/100\n",
      "176/176 [==============================] - 1s 3ms/step - loss: 0.3972 - accuracy: 0.8139\n",
      "Epoch 64/100\n",
      "176/176 [==============================] - 1s 3ms/step - loss: 0.3967 - accuracy: 0.8132\n",
      "Epoch 65/100\n",
      "176/176 [==============================] - 1s 3ms/step - loss: 0.3966 - accuracy: 0.8139\n",
      "Epoch 66/100\n",
      "176/176 [==============================] - 1s 3ms/step - loss: 0.3963 - accuracy: 0.8130\n",
      "Epoch 67/100\n",
      "176/176 [==============================] - 1s 3ms/step - loss: 0.3957 - accuracy: 0.8126\n",
      "Epoch 68/100\n",
      "176/176 [==============================] - 1s 3ms/step - loss: 0.3951 - accuracy: 0.8144\n",
      "Epoch 69/100\n",
      "176/176 [==============================] - 1s 3ms/step - loss: 0.3952 - accuracy: 0.8151\n",
      "Epoch 70/100\n",
      "176/176 [==============================] - 1s 3ms/step - loss: 0.3952 - accuracy: 0.8153\n",
      "Epoch 71/100\n",
      "176/176 [==============================] - 1s 3ms/step - loss: 0.3947 - accuracy: 0.8139\n",
      "Epoch 72/100\n",
      "176/176 [==============================] - 1s 3ms/step - loss: 0.3947 - accuracy: 0.8153\n",
      "Epoch 73/100\n",
      "176/176 [==============================] - 1s 3ms/step - loss: 0.3942 - accuracy: 0.8155\n",
      "Epoch 74/100\n",
      "176/176 [==============================] - 1s 3ms/step - loss: 0.3928 - accuracy: 0.8183\n",
      "Epoch 75/100\n",
      "176/176 [==============================] - 1s 3ms/step - loss: 0.3934 - accuracy: 0.8156\n",
      "Epoch 76/100\n",
      "176/176 [==============================] - 1s 4ms/step - loss: 0.3930 - accuracy: 0.8164\n",
      "Epoch 77/100\n",
      "176/176 [==============================] - 1s 3ms/step - loss: 0.3924 - accuracy: 0.8158\n",
      "Epoch 78/100\n",
      "176/176 [==============================] - 1s 3ms/step - loss: 0.3911 - accuracy: 0.8171\n",
      "Epoch 79/100\n",
      "176/176 [==============================] - 1s 3ms/step - loss: 0.3913 - accuracy: 0.8167\n",
      "Epoch 80/100\n",
      "176/176 [==============================] - 1s 3ms/step - loss: 0.3911 - accuracy: 0.8183\n",
      "Epoch 81/100\n",
      "176/176 [==============================] - 1s 3ms/step - loss: 0.3909 - accuracy: 0.8183\n",
      "Epoch 82/100\n",
      "176/176 [==============================] - 1s 3ms/step - loss: 0.3907 - accuracy: 0.8171\n",
      "Epoch 83/100\n",
      "176/176 [==============================] - 1s 3ms/step - loss: 0.3898 - accuracy: 0.8174\n",
      "Epoch 84/100\n",
      "176/176 [==============================] - 1s 3ms/step - loss: 0.3900 - accuracy: 0.8158\n",
      "Epoch 85/100\n",
      "176/176 [==============================] - 1s 3ms/step - loss: 0.3898 - accuracy: 0.8194\n",
      "Epoch 86/100\n",
      "176/176 [==============================] - 1s 3ms/step - loss: 0.3892 - accuracy: 0.8190\n",
      "Epoch 87/100\n",
      "176/176 [==============================] - 1s 3ms/step - loss: 0.3887 - accuracy: 0.8176\n",
      "Epoch 88/100\n",
      "176/176 [==============================] - 1s 3ms/step - loss: 0.3887 - accuracy: 0.8196\n",
      "Epoch 89/100\n",
      "176/176 [==============================] - 1s 3ms/step - loss: 0.3877 - accuracy: 0.8171\n",
      "Epoch 90/100\n",
      "176/176 [==============================] - 1s 3ms/step - loss: 0.3874 - accuracy: 0.8178\n",
      "Epoch 91/100\n",
      "176/176 [==============================] - 1s 3ms/step - loss: 0.3876 - accuracy: 0.8181\n",
      "Epoch 92/100\n",
      "176/176 [==============================] - 1s 3ms/step - loss: 0.3864 - accuracy: 0.8208\n",
      "Epoch 93/100\n",
      "176/176 [==============================] - 1s 3ms/step - loss: 0.3863 - accuracy: 0.8187\n",
      "Epoch 94/100\n",
      "176/176 [==============================] - 1s 3ms/step - loss: 0.3856 - accuracy: 0.8224\n",
      "Epoch 95/100\n",
      "176/176 [==============================] - 1s 3ms/step - loss: 0.3853 - accuracy: 0.8224\n",
      "Epoch 96/100\n",
      "176/176 [==============================] - 1s 3ms/step - loss: 0.3849 - accuracy: 0.8217\n",
      "Epoch 97/100\n",
      "176/176 [==============================] - 1s 3ms/step - loss: 0.3854 - accuracy: 0.8171\n",
      "Epoch 98/100\n",
      "176/176 [==============================] - 1s 3ms/step - loss: 0.3849 - accuracy: 0.8176\n",
      "Epoch 99/100\n",
      "176/176 [==============================] - 1s 3ms/step - loss: 0.3835 - accuracy: 0.8215\n",
      "Epoch 100/100\n",
      "176/176 [==============================] - 1s 3ms/step - loss: 0.3835 - accuracy: 0.8208\n"
     ]
    },
    {
     "data": {
      "text/plain": [
       "<keras.callbacks.History at 0x7f072071b7c0>"
      ]
     },
     "execution_count": 40,
     "metadata": {},
     "output_type": "execute_result"
    }
   ],
   "source": [
    "model=keras.Sequential([\n",
    "    keras.layers.Dense(100,input_shape=(26,),activation=\"relu\"),\n",
    "    keras.layers.Dense(50,activation=\"relu\"),\n",
    "    keras.layers.Dense(20,activation=\"relu\"),\n",
    "    keras.layers.Dense(1,activation=\"sigmoid\")\n",
    "])\n",
    "\n",
    "model.compile(optimizer=\"SGD\",\n",
    "             loss=\"binary_crossentropy\",\n",
    "             metrics=([\"accuracy\"]))\n",
    "model.fit(X_train,y_train,epochs=100)"
   ]
  },
  {
   "cell_type": "code",
   "execution_count": 41,
   "id": "c9f5f0eb",
   "metadata": {
    "execution": {
     "iopub.execute_input": "2023-10-23T06:47:18.056031Z",
     "iopub.status.busy": "2023-10-23T06:47:18.055683Z",
     "iopub.status.idle": "2023-10-23T06:48:17.673013Z",
     "shell.execute_reply": "2023-10-23T06:48:17.672049Z"
    },
    "papermill": {
     "duration": 59.740445,
     "end_time": "2023-10-23T06:48:17.675169",
     "exception": false,
     "start_time": "2023-10-23T06:47:17.934724",
     "status": "completed"
    },
    "tags": []
   },
   "outputs": [
    {
     "name": "stdout",
     "output_type": "stream",
     "text": [
      "Epoch 1/100\n",
      "176/176 [==============================] - 3s 3ms/step - loss: 0.5064 - accuracy: 0.7467\n",
      "Epoch 2/100\n",
      "176/176 [==============================] - 1s 3ms/step - loss: 0.4231 - accuracy: 0.8007\n",
      "Epoch 3/100\n",
      "176/176 [==============================] - 1s 3ms/step - loss: 0.4185 - accuracy: 0.8018\n",
      "Epoch 4/100\n",
      "176/176 [==============================] - 1s 3ms/step - loss: 0.4167 - accuracy: 0.8027\n",
      "Epoch 5/100\n",
      "176/176 [==============================] - 1s 3ms/step - loss: 0.4140 - accuracy: 0.8032\n",
      "Epoch 6/100\n",
      "176/176 [==============================] - 1s 3ms/step - loss: 0.4117 - accuracy: 0.8069\n",
      "Epoch 7/100\n",
      "176/176 [==============================] - 1s 3ms/step - loss: 0.4105 - accuracy: 0.8080\n",
      "Epoch 8/100\n",
      "176/176 [==============================] - 1s 3ms/step - loss: 0.4115 - accuracy: 0.8057\n",
      "Epoch 9/100\n",
      "176/176 [==============================] - 1s 3ms/step - loss: 0.4066 - accuracy: 0.8089\n",
      "Epoch 10/100\n",
      "176/176 [==============================] - 1s 3ms/step - loss: 0.4047 - accuracy: 0.8091\n",
      "Epoch 11/100\n",
      "176/176 [==============================] - 1s 3ms/step - loss: 0.4039 - accuracy: 0.8087\n",
      "Epoch 12/100\n",
      "176/176 [==============================] - 1s 3ms/step - loss: 0.4017 - accuracy: 0.8114\n",
      "Epoch 13/100\n",
      "176/176 [==============================] - 1s 3ms/step - loss: 0.4003 - accuracy: 0.8148\n",
      "Epoch 14/100\n",
      "176/176 [==============================] - 1s 3ms/step - loss: 0.3996 - accuracy: 0.8144\n",
      "Epoch 15/100\n",
      "176/176 [==============================] - 1s 3ms/step - loss: 0.3966 - accuracy: 0.8114\n",
      "Epoch 16/100\n",
      "176/176 [==============================] - 1s 3ms/step - loss: 0.3955 - accuracy: 0.8133\n",
      "Epoch 17/100\n",
      "176/176 [==============================] - 1s 3ms/step - loss: 0.3934 - accuracy: 0.8151\n",
      "Epoch 18/100\n",
      "176/176 [==============================] - 1s 3ms/step - loss: 0.3922 - accuracy: 0.8169\n",
      "Epoch 19/100\n",
      "176/176 [==============================] - 1s 3ms/step - loss: 0.3892 - accuracy: 0.8171\n",
      "Epoch 20/100\n",
      "176/176 [==============================] - 1s 3ms/step - loss: 0.3887 - accuracy: 0.8194\n",
      "Epoch 21/100\n",
      "176/176 [==============================] - 1s 3ms/step - loss: 0.3870 - accuracy: 0.8197\n",
      "Epoch 22/100\n",
      "176/176 [==============================] - 1s 3ms/step - loss: 0.3854 - accuracy: 0.8183\n",
      "Epoch 23/100\n",
      "176/176 [==============================] - 1s 3ms/step - loss: 0.3857 - accuracy: 0.8187\n",
      "Epoch 24/100\n",
      "176/176 [==============================] - 1s 3ms/step - loss: 0.3825 - accuracy: 0.8222\n",
      "Epoch 25/100\n",
      "176/176 [==============================] - 1s 3ms/step - loss: 0.3814 - accuracy: 0.8220\n",
      "Epoch 26/100\n",
      "176/176 [==============================] - 1s 4ms/step - loss: 0.3795 - accuracy: 0.8242\n",
      "Epoch 27/100\n",
      "176/176 [==============================] - 1s 4ms/step - loss: 0.3775 - accuracy: 0.8238\n",
      "Epoch 28/100\n",
      "176/176 [==============================] - 1s 3ms/step - loss: 0.3773 - accuracy: 0.8210\n",
      "Epoch 29/100\n",
      "176/176 [==============================] - 1s 3ms/step - loss: 0.3753 - accuracy: 0.8268\n",
      "Epoch 30/100\n",
      "176/176 [==============================] - 1s 3ms/step - loss: 0.3742 - accuracy: 0.8261\n",
      "Epoch 31/100\n",
      "176/176 [==============================] - 1s 3ms/step - loss: 0.3725 - accuracy: 0.8238\n",
      "Epoch 32/100\n",
      "176/176 [==============================] - 1s 3ms/step - loss: 0.3724 - accuracy: 0.8258\n",
      "Epoch 33/100\n",
      "176/176 [==============================] - 1s 3ms/step - loss: 0.3707 - accuracy: 0.8258\n",
      "Epoch 34/100\n",
      "176/176 [==============================] - 1s 3ms/step - loss: 0.3688 - accuracy: 0.8272\n",
      "Epoch 35/100\n",
      "176/176 [==============================] - 1s 3ms/step - loss: 0.3672 - accuracy: 0.8245\n",
      "Epoch 36/100\n",
      "176/176 [==============================] - 1s 3ms/step - loss: 0.3684 - accuracy: 0.8236\n",
      "Epoch 37/100\n",
      "176/176 [==============================] - 1s 3ms/step - loss: 0.3683 - accuracy: 0.8268\n",
      "Epoch 38/100\n",
      "176/176 [==============================] - 1s 4ms/step - loss: 0.3648 - accuracy: 0.8336\n",
      "Epoch 39/100\n",
      "176/176 [==============================] - 1s 3ms/step - loss: 0.3624 - accuracy: 0.8324\n",
      "Epoch 40/100\n",
      "176/176 [==============================] - 1s 3ms/step - loss: 0.3624 - accuracy: 0.8274\n",
      "Epoch 41/100\n",
      "176/176 [==============================] - 1s 3ms/step - loss: 0.3596 - accuracy: 0.8304\n",
      "Epoch 42/100\n",
      "176/176 [==============================] - 1s 3ms/step - loss: 0.3585 - accuracy: 0.8315\n",
      "Epoch 43/100\n",
      "176/176 [==============================] - 1s 3ms/step - loss: 0.3591 - accuracy: 0.8327\n",
      "Epoch 44/100\n",
      "176/176 [==============================] - 1s 3ms/step - loss: 0.3562 - accuracy: 0.8352\n",
      "Epoch 45/100\n",
      "176/176 [==============================] - 1s 3ms/step - loss: 0.3544 - accuracy: 0.8354\n",
      "Epoch 46/100\n",
      "176/176 [==============================] - 1s 3ms/step - loss: 0.3532 - accuracy: 0.8350\n",
      "Epoch 47/100\n",
      "176/176 [==============================] - 1s 3ms/step - loss: 0.3500 - accuracy: 0.8352\n",
      "Epoch 48/100\n",
      "176/176 [==============================] - 1s 3ms/step - loss: 0.3512 - accuracy: 0.8382\n",
      "Epoch 49/100\n",
      "176/176 [==============================] - 1s 3ms/step - loss: 0.3482 - accuracy: 0.8407\n",
      "Epoch 50/100\n",
      "176/176 [==============================] - 1s 3ms/step - loss: 0.3471 - accuracy: 0.8411\n",
      "Epoch 51/100\n",
      "176/176 [==============================] - 1s 3ms/step - loss: 0.3487 - accuracy: 0.8375\n",
      "Epoch 52/100\n",
      "176/176 [==============================] - 1s 3ms/step - loss: 0.3448 - accuracy: 0.8370\n",
      "Epoch 53/100\n",
      "176/176 [==============================] - 1s 3ms/step - loss: 0.3434 - accuracy: 0.8402\n",
      "Epoch 54/100\n",
      "176/176 [==============================] - 1s 3ms/step - loss: 0.3413 - accuracy: 0.8380\n",
      "Epoch 55/100\n",
      "176/176 [==============================] - 1s 3ms/step - loss: 0.3422 - accuracy: 0.8421\n",
      "Epoch 56/100\n",
      "176/176 [==============================] - 1s 3ms/step - loss: 0.3409 - accuracy: 0.8436\n",
      "Epoch 57/100\n",
      "176/176 [==============================] - 1s 3ms/step - loss: 0.3411 - accuracy: 0.8388\n",
      "Epoch 58/100\n",
      "176/176 [==============================] - 1s 3ms/step - loss: 0.3388 - accuracy: 0.8402\n",
      "Epoch 59/100\n",
      "176/176 [==============================] - 1s 3ms/step - loss: 0.3371 - accuracy: 0.8436\n",
      "Epoch 60/100\n",
      "176/176 [==============================] - 1s 3ms/step - loss: 0.3354 - accuracy: 0.8436\n",
      "Epoch 61/100\n",
      "176/176 [==============================] - 1s 3ms/step - loss: 0.3343 - accuracy: 0.8434\n",
      "Epoch 62/100\n",
      "176/176 [==============================] - 1s 3ms/step - loss: 0.3342 - accuracy: 0.8430\n",
      "Epoch 63/100\n",
      "176/176 [==============================] - 1s 3ms/step - loss: 0.3340 - accuracy: 0.8460\n",
      "Epoch 64/100\n",
      "176/176 [==============================] - 1s 3ms/step - loss: 0.3301 - accuracy: 0.8452\n",
      "Epoch 65/100\n",
      "176/176 [==============================] - 1s 3ms/step - loss: 0.3308 - accuracy: 0.8460\n",
      "Epoch 66/100\n",
      "176/176 [==============================] - 1s 3ms/step - loss: 0.3306 - accuracy: 0.8460\n",
      "Epoch 67/100\n",
      "176/176 [==============================] - 1s 3ms/step - loss: 0.3279 - accuracy: 0.8500\n",
      "Epoch 68/100\n",
      "176/176 [==============================] - 1s 3ms/step - loss: 0.3272 - accuracy: 0.8487\n",
      "Epoch 69/100\n",
      "176/176 [==============================] - 1s 3ms/step - loss: 0.3284 - accuracy: 0.8436\n",
      "Epoch 70/100\n",
      "176/176 [==============================] - 1s 3ms/step - loss: 0.3250 - accuracy: 0.8473\n",
      "Epoch 71/100\n",
      "176/176 [==============================] - 1s 3ms/step - loss: 0.3256 - accuracy: 0.8494\n",
      "Epoch 72/100\n",
      "176/176 [==============================] - 1s 3ms/step - loss: 0.3240 - accuracy: 0.8501\n",
      "Epoch 73/100\n",
      "176/176 [==============================] - 1s 3ms/step - loss: 0.3217 - accuracy: 0.8510\n",
      "Epoch 74/100\n",
      "176/176 [==============================] - 1s 3ms/step - loss: 0.3220 - accuracy: 0.8468\n",
      "Epoch 75/100\n",
      "176/176 [==============================] - 1s 3ms/step - loss: 0.3215 - accuracy: 0.8514\n",
      "Epoch 76/100\n",
      "176/176 [==============================] - 1s 3ms/step - loss: 0.3226 - accuracy: 0.8505\n",
      "Epoch 77/100\n",
      "176/176 [==============================] - 1s 3ms/step - loss: 0.3199 - accuracy: 0.8533\n",
      "Epoch 78/100\n",
      "176/176 [==============================] - 1s 3ms/step - loss: 0.3186 - accuracy: 0.8555\n",
      "Epoch 79/100\n",
      "176/176 [==============================] - 1s 3ms/step - loss: 0.3196 - accuracy: 0.8539\n",
      "Epoch 80/100\n",
      "176/176 [==============================] - 1s 3ms/step - loss: 0.3150 - accuracy: 0.8546\n",
      "Epoch 81/100\n",
      "176/176 [==============================] - 1s 3ms/step - loss: 0.3152 - accuracy: 0.8516\n",
      "Epoch 82/100\n",
      "176/176 [==============================] - 1s 4ms/step - loss: 0.3131 - accuracy: 0.8592\n",
      "Epoch 83/100\n",
      "176/176 [==============================] - 1s 3ms/step - loss: 0.3128 - accuracy: 0.8571\n",
      "Epoch 84/100\n",
      "176/176 [==============================] - 1s 3ms/step - loss: 0.3116 - accuracy: 0.8583\n",
      "Epoch 85/100\n",
      "176/176 [==============================] - 1s 3ms/step - loss: 0.3120 - accuracy: 0.8539\n",
      "Epoch 86/100\n",
      "176/176 [==============================] - 1s 3ms/step - loss: 0.3103 - accuracy: 0.8572\n",
      "Epoch 87/100\n",
      "176/176 [==============================] - 1s 3ms/step - loss: 0.3087 - accuracy: 0.8576\n",
      "Epoch 88/100\n",
      "176/176 [==============================] - 1s 3ms/step - loss: 0.3054 - accuracy: 0.8588\n",
      "Epoch 89/100\n",
      "176/176 [==============================] - 1s 3ms/step - loss: 0.3061 - accuracy: 0.8574\n",
      "Epoch 90/100\n",
      "176/176 [==============================] - 1s 3ms/step - loss: 0.3093 - accuracy: 0.8560\n",
      "Epoch 91/100\n",
      "176/176 [==============================] - 1s 3ms/step - loss: 0.3039 - accuracy: 0.8588\n",
      "Epoch 92/100\n",
      "176/176 [==============================] - 1s 3ms/step - loss: 0.3034 - accuracy: 0.8585\n",
      "Epoch 93/100\n",
      "176/176 [==============================] - 1s 3ms/step - loss: 0.3032 - accuracy: 0.8608\n",
      "Epoch 94/100\n",
      "176/176 [==============================] - 1s 3ms/step - loss: 0.3017 - accuracy: 0.8594\n",
      "Epoch 95/100\n",
      "176/176 [==============================] - 1s 3ms/step - loss: 0.3056 - accuracy: 0.8590\n",
      "Epoch 96/100\n",
      "176/176 [==============================] - 1s 3ms/step - loss: 0.3004 - accuracy: 0.8620\n",
      "Epoch 97/100\n",
      "176/176 [==============================] - 1s 3ms/step - loss: 0.3022 - accuracy: 0.8588\n",
      "Epoch 98/100\n",
      "176/176 [==============================] - 1s 3ms/step - loss: 0.2995 - accuracy: 0.8626\n",
      "Epoch 99/100\n",
      "176/176 [==============================] - 1s 3ms/step - loss: 0.2990 - accuracy: 0.8663\n",
      "Epoch 100/100\n",
      "176/176 [==============================] - 1s 3ms/step - loss: 0.2958 - accuracy: 0.8677\n"
     ]
    },
    {
     "data": {
      "text/plain": [
       "<keras.callbacks.History at 0x7f07205ea290>"
      ]
     },
     "execution_count": 41,
     "metadata": {},
     "output_type": "execute_result"
    }
   ],
   "source": [
    "model=keras.Sequential([\n",
    "    keras.layers.Dense(50,input_shape=(26,),activation=\"relu\"),\n",
    "    keras.layers.Dense(20,activation=\"relu\"),\n",
    "    keras.layers.Dense(10,activation=\"relu\"),\n",
    "    keras.layers.Dense(1,activation=\"sigmoid\")\n",
    "])\n",
    "\n",
    "model.compile(optimizer=\"adam\",\n",
    "             loss=\"binary_crossentropy\",\n",
    "             metrics=([\"accuracy\"]))\n",
    "model.fit(X_train,y_train,epochs=100)"
   ]
  },
  {
   "cell_type": "code",
   "execution_count": 42,
   "id": "5740991d",
   "metadata": {
    "execution": {
     "iopub.execute_input": "2023-10-23T06:48:18.123305Z",
     "iopub.status.busy": "2023-10-23T06:48:18.122422Z",
     "iopub.status.idle": "2023-10-23T06:48:18.383909Z",
     "shell.execute_reply": "2023-10-23T06:48:18.383049Z"
    },
    "papermill": {
     "duration": 0.479131,
     "end_time": "2023-10-23T06:48:18.386035",
     "exception": false,
     "start_time": "2023-10-23T06:48:17.906904",
     "status": "completed"
    },
    "tags": []
   },
   "outputs": [
    {
     "name": "stdout",
     "output_type": "stream",
     "text": [
      "44/44 [==============================] - 0s 1ms/step\n"
     ]
    }
   ],
   "source": [
    "pred=model.predict(X_test)"
   ]
  },
  {
   "cell_type": "code",
   "execution_count": 43,
   "id": "6840f18d",
   "metadata": {
    "execution": {
     "iopub.execute_input": "2023-10-23T06:48:18.831480Z",
     "iopub.status.busy": "2023-10-23T06:48:18.830732Z",
     "iopub.status.idle": "2023-10-23T06:48:18.837989Z",
     "shell.execute_reply": "2023-10-23T06:48:18.837106Z"
    },
    "papermill": {
     "duration": 0.23467,
     "end_time": "2023-10-23T06:48:18.840010",
     "exception": false,
     "start_time": "2023-10-23T06:48:18.605340",
     "status": "completed"
    },
    "tags": []
   },
   "outputs": [
    {
     "data": {
      "text/plain": [
       "2481    0\n",
       "6784    0\n",
       "6125    1\n",
       "3052    0\n",
       "4099    0\n",
       "       ..\n",
       "1733    0\n",
       "5250    0\n",
       "5465    0\n",
       "5851    0\n",
       "3984    0\n",
       "Name: Churn, Length: 1407, dtype: int64"
      ]
     },
     "execution_count": 43,
     "metadata": {},
     "output_type": "execute_result"
    }
   ],
   "source": [
    "y_test"
   ]
  },
  {
   "cell_type": "code",
   "execution_count": 44,
   "id": "8e3d947b",
   "metadata": {
    "execution": {
     "iopub.execute_input": "2023-10-23T06:48:19.282069Z",
     "iopub.status.busy": "2023-10-23T06:48:19.281171Z",
     "iopub.status.idle": "2023-10-23T06:48:19.290324Z",
     "shell.execute_reply": "2023-10-23T06:48:19.289426Z"
    },
    "papermill": {
     "duration": 0.234137,
     "end_time": "2023-10-23T06:48:19.292146",
     "exception": false,
     "start_time": "2023-10-23T06:48:19.058009",
     "status": "completed"
    },
    "tags": []
   },
   "outputs": [],
   "source": [
    "y_pred=[]\n",
    "\n",
    "for i in pred:\n",
    "    if i>=0.5:\n",
    "        y_pred.append(1)\n",
    "    else:\n",
    "        y_pred.append(0)"
   ]
  },
  {
   "cell_type": "code",
   "execution_count": 45,
   "id": "f9e9b635",
   "metadata": {
    "execution": {
     "iopub.execute_input": "2023-10-23T06:48:19.727845Z",
     "iopub.status.busy": "2023-10-23T06:48:19.727526Z",
     "iopub.status.idle": "2023-10-23T06:48:19.733413Z",
     "shell.execute_reply": "2023-10-23T06:48:19.732564Z"
    },
    "papermill": {
     "duration": 0.224201,
     "end_time": "2023-10-23T06:48:19.735524",
     "exception": false,
     "start_time": "2023-10-23T06:48:19.511323",
     "status": "completed"
    },
    "tags": []
   },
   "outputs": [
    {
     "data": {
      "text/plain": [
       "[0, 0, 1, 0, 0]"
      ]
     },
     "execution_count": 45,
     "metadata": {},
     "output_type": "execute_result"
    }
   ],
   "source": [
    "y_pred[:5]"
   ]
  },
  {
   "cell_type": "code",
   "execution_count": 46,
   "id": "f9cee2d5",
   "metadata": {
    "execution": {
     "iopub.execute_input": "2023-10-23T06:48:20.208732Z",
     "iopub.status.busy": "2023-10-23T06:48:20.208026Z",
     "iopub.status.idle": "2023-10-23T06:48:20.214731Z",
     "shell.execute_reply": "2023-10-23T06:48:20.213832Z"
    },
    "papermill": {
     "duration": 0.267573,
     "end_time": "2023-10-23T06:48:20.216833",
     "exception": false,
     "start_time": "2023-10-23T06:48:19.949260",
     "status": "completed"
    },
    "tags": []
   },
   "outputs": [
    {
     "data": {
      "text/plain": [
       "2481    0\n",
       "6784    0\n",
       "6125    1\n",
       "3052    0\n",
       "4099    0\n",
       "Name: Churn, dtype: int64"
      ]
     },
     "execution_count": 46,
     "metadata": {},
     "output_type": "execute_result"
    }
   ],
   "source": [
    "y_test[:5]"
   ]
  },
  {
   "cell_type": "code",
   "execution_count": null,
   "id": "d497497a",
   "metadata": {
    "papermill": {
     "duration": 0.213279,
     "end_time": "2023-10-23T06:48:20.645910",
     "exception": false,
     "start_time": "2023-10-23T06:48:20.432631",
     "status": "completed"
    },
    "tags": []
   },
   "outputs": [],
   "source": []
  }
 ],
 "metadata": {
  "kernelspec": {
   "display_name": "Python 3",
   "language": "python",
   "name": "python3"
  },
  "language_info": {
   "codemirror_mode": {
    "name": "ipython",
    "version": 3
   },
   "file_extension": ".py",
   "mimetype": "text/x-python",
   "name": "python",
   "nbconvert_exporter": "python",
   "pygments_lexer": "ipython3",
   "version": "3.10.12"
  },
  "papermill": {
   "default_parameters": {},
   "duration": 148.78132,
   "end_time": "2023-10-23T06:48:23.933733",
   "environment_variables": {},
   "exception": null,
   "input_path": "__notebook__.ipynb",
   "output_path": "__notebook__.ipynb",
   "parameters": {},
   "start_time": "2023-10-23T06:45:55.152413",
   "version": "2.4.0"
  }
 },
 "nbformat": 4,
 "nbformat_minor": 5
}
