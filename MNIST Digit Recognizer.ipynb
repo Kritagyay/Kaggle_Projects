{
 "cells": [
  {
   "cell_type": "code",
   "execution_count": 1,
   "id": "b1999636",
   "metadata": {
    "_cell_guid": "b1076dfc-b9ad-4769-8c92-a6c4dae69d19",
    "_uuid": "8f2839f25d086af736a60e9eeb907d3b93b6e0e5",
    "execution": {
     "iopub.execute_input": "2023-10-18T06:20:29.849599Z",
     "iopub.status.busy": "2023-10-18T06:20:29.849262Z",
     "iopub.status.idle": "2023-10-18T06:20:41.267196Z",
     "shell.execute_reply": "2023-10-18T06:20:41.266520Z"
    },
    "papermill": {
     "duration": 11.426562,
     "end_time": "2023-10-18T06:20:41.269124",
     "exception": false,
     "start_time": "2023-10-18T06:20:29.842562",
     "status": "completed"
    },
    "tags": []
   },
   "outputs": [
    {
     "name": "stderr",
     "output_type": "stream",
     "text": [
      "/opt/conda/lib/python3.10/site-packages/scipy/__init__.py:146: UserWarning: A NumPy version >=1.16.5 and <1.23.0 is required for this version of SciPy (detected version 1.23.5\n",
      "  warnings.warn(f\"A NumPy version >={np_minversion} and <{np_maxversion}\"\n"
     ]
    }
   ],
   "source": [
    "import numpy as np # linear algebra\n",
    "import pandas as pd # data processing, CSV file I/O (e.g. pd.read_csv)\n",
    "\n",
    "import tensorflow as tf\n",
    "import matplotlib.pyplot as plt\n",
    "# %matplotlib.inline\n",
    "from tensorflow import keras\n",
    "%load_ext tensorboard\n"
   ]
  },
  {
   "cell_type": "code",
   "execution_count": 2,
   "id": "287df3a9",
   "metadata": {
    "execution": {
     "iopub.execute_input": "2023-10-18T06:20:41.278727Z",
     "iopub.status.busy": "2023-10-18T06:20:41.277933Z",
     "iopub.status.idle": "2023-10-18T06:20:41.684375Z",
     "shell.execute_reply": "2023-10-18T06:20:41.683664Z"
    },
    "papermill": {
     "duration": 0.412849,
     "end_time": "2023-10-18T06:20:41.686175",
     "exception": false,
     "start_time": "2023-10-18T06:20:41.273326",
     "status": "completed"
    },
    "tags": []
   },
   "outputs": [
    {
     "name": "stdout",
     "output_type": "stream",
     "text": [
      "Downloading data from https://storage.googleapis.com/tensorflow/tf-keras-datasets/mnist.npz\n",
      "11490434/11490434 [==============================] - 0s 0us/step\n"
     ]
    }
   ],
   "source": [
    "(X_train,y_train),(X_test,y_test)=keras.datasets.mnist.load_data()"
   ]
  },
  {
   "cell_type": "code",
   "execution_count": 3,
   "id": "cab5ade4",
   "metadata": {
    "execution": {
     "iopub.execute_input": "2023-10-18T06:20:41.695452Z",
     "iopub.status.busy": "2023-10-18T06:20:41.694957Z",
     "iopub.status.idle": "2023-10-18T06:20:41.702249Z",
     "shell.execute_reply": "2023-10-18T06:20:41.701693Z"
    },
    "papermill": {
     "duration": 0.013226,
     "end_time": "2023-10-18T06:20:41.703665",
     "exception": false,
     "start_time": "2023-10-18T06:20:41.690439",
     "status": "completed"
    },
    "tags": []
   },
   "outputs": [
    {
     "data": {
      "text/plain": [
       "60000"
      ]
     },
     "execution_count": 3,
     "metadata": {},
     "output_type": "execute_result"
    }
   ],
   "source": [
    "len(X_train)"
   ]
  },
  {
   "cell_type": "code",
   "execution_count": 4,
   "id": "36772e63",
   "metadata": {
    "execution": {
     "iopub.execute_input": "2023-10-18T06:20:41.712243Z",
     "iopub.status.busy": "2023-10-18T06:20:41.712032Z",
     "iopub.status.idle": "2023-10-18T06:20:41.715813Z",
     "shell.execute_reply": "2023-10-18T06:20:41.715328Z"
    },
    "papermill": {
     "duration": 0.00958,
     "end_time": "2023-10-18T06:20:41.717107",
     "exception": false,
     "start_time": "2023-10-18T06:20:41.707527",
     "status": "completed"
    },
    "tags": []
   },
   "outputs": [
    {
     "data": {
      "text/plain": [
       "(60000, 28, 28)"
      ]
     },
     "execution_count": 4,
     "metadata": {},
     "output_type": "execute_result"
    }
   ],
   "source": [
    "X_train.shape"
   ]
  },
  {
   "cell_type": "code",
   "execution_count": 5,
   "id": "91cf812f",
   "metadata": {
    "execution": {
     "iopub.execute_input": "2023-10-18T06:20:41.726152Z",
     "iopub.status.busy": "2023-10-18T06:20:41.725620Z",
     "iopub.status.idle": "2023-10-18T06:20:41.732637Z",
     "shell.execute_reply": "2023-10-18T06:20:41.731993Z"
    },
    "papermill": {
     "duration": 0.012896,
     "end_time": "2023-10-18T06:20:41.734075",
     "exception": false,
     "start_time": "2023-10-18T06:20:41.721179",
     "status": "completed"
    },
    "tags": []
   },
   "outputs": [
    {
     "data": {
      "text/plain": [
       "array([[  0,   0,   0,   0,   0,   0,   0,   0,   0,   0,   0,   0,   0,\n",
       "          0,   0,   0,   0,   0,   0,   0,   0,   0,   0,   0,   0,   0,\n",
       "          0,   0],\n",
       "       [  0,   0,   0,   0,   0,   0,   0,   0,   0,   0,   0,   0,   0,\n",
       "          0,   0,   0,   0,   0,   0,   0,   0,   0,   0,   0,   0,   0,\n",
       "          0,   0],\n",
       "       [  0,   0,   0,   0,   0,   0,   0,   0,   0,   0,   0,   0,   0,\n",
       "          0,   0,   0,   0,   0,   0,   0,   0,   0,   0,   0,   0,   0,\n",
       "          0,   0],\n",
       "       [  0,   0,   0,   0,   0,   0,   0,   0,   0,   0,   0,   0,   0,\n",
       "          0,   0,   0,   0,   0,   0,   0,   0,   0,   0,   0,   0,   0,\n",
       "          0,   0],\n",
       "       [  0,   0,   0,   0,   0,   0,   0,   0,   0,   0,   0,   0,   0,\n",
       "          0,   0,  51, 159, 253, 159,  50,   0,   0,   0,   0,   0,   0,\n",
       "          0,   0],\n",
       "       [  0,   0,   0,   0,   0,   0,   0,   0,   0,   0,   0,   0,   0,\n",
       "          0,  48, 238, 252, 252, 252, 237,   0,   0,   0,   0,   0,   0,\n",
       "          0,   0],\n",
       "       [  0,   0,   0,   0,   0,   0,   0,   0,   0,   0,   0,   0,   0,\n",
       "         54, 227, 253, 252, 239, 233, 252,  57,   6,   0,   0,   0,   0,\n",
       "          0,   0],\n",
       "       [  0,   0,   0,   0,   0,   0,   0,   0,   0,   0,   0,  10,  60,\n",
       "        224, 252, 253, 252, 202,  84, 252, 253, 122,   0,   0,   0,   0,\n",
       "          0,   0],\n",
       "       [  0,   0,   0,   0,   0,   0,   0,   0,   0,   0,   0, 163, 252,\n",
       "        252, 252, 253, 252, 252,  96, 189, 253, 167,   0,   0,   0,   0,\n",
       "          0,   0],\n",
       "       [  0,   0,   0,   0,   0,   0,   0,   0,   0,   0,  51, 238, 253,\n",
       "        253, 190, 114, 253, 228,  47,  79, 255, 168,   0,   0,   0,   0,\n",
       "          0,   0],\n",
       "       [  0,   0,   0,   0,   0,   0,   0,   0,   0,  48, 238, 252, 252,\n",
       "        179,  12,  75, 121,  21,   0,   0, 253, 243,  50,   0,   0,   0,\n",
       "          0,   0],\n",
       "       [  0,   0,   0,   0,   0,   0,   0,   0,  38, 165, 253, 233, 208,\n",
       "         84,   0,   0,   0,   0,   0,   0, 253, 252, 165,   0,   0,   0,\n",
       "          0,   0],\n",
       "       [  0,   0,   0,   0,   0,   0,   0,   7, 178, 252, 240,  71,  19,\n",
       "         28,   0,   0,   0,   0,   0,   0, 253, 252, 195,   0,   0,   0,\n",
       "          0,   0],\n",
       "       [  0,   0,   0,   0,   0,   0,   0,  57, 252, 252,  63,   0,   0,\n",
       "          0,   0,   0,   0,   0,   0,   0, 253, 252, 195,   0,   0,   0,\n",
       "          0,   0],\n",
       "       [  0,   0,   0,   0,   0,   0,   0, 198, 253, 190,   0,   0,   0,\n",
       "          0,   0,   0,   0,   0,   0,   0, 255, 253, 196,   0,   0,   0,\n",
       "          0,   0],\n",
       "       [  0,   0,   0,   0,   0,   0,  76, 246, 252, 112,   0,   0,   0,\n",
       "          0,   0,   0,   0,   0,   0,   0, 253, 252, 148,   0,   0,   0,\n",
       "          0,   0],\n",
       "       [  0,   0,   0,   0,   0,   0,  85, 252, 230,  25,   0,   0,   0,\n",
       "          0,   0,   0,   0,   0,   7, 135, 253, 186,  12,   0,   0,   0,\n",
       "          0,   0],\n",
       "       [  0,   0,   0,   0,   0,   0,  85, 252, 223,   0,   0,   0,   0,\n",
       "          0,   0,   0,   0,   7, 131, 252, 225,  71,   0,   0,   0,   0,\n",
       "          0,   0],\n",
       "       [  0,   0,   0,   0,   0,   0,  85, 252, 145,   0,   0,   0,   0,\n",
       "          0,   0,   0,  48, 165, 252, 173,   0,   0,   0,   0,   0,   0,\n",
       "          0,   0],\n",
       "       [  0,   0,   0,   0,   0,   0,  86, 253, 225,   0,   0,   0,   0,\n",
       "          0,   0, 114, 238, 253, 162,   0,   0,   0,   0,   0,   0,   0,\n",
       "          0,   0],\n",
       "       [  0,   0,   0,   0,   0,   0,  85, 252, 249, 146,  48,  29,  85,\n",
       "        178, 225, 253, 223, 167,  56,   0,   0,   0,   0,   0,   0,   0,\n",
       "          0,   0],\n",
       "       [  0,   0,   0,   0,   0,   0,  85, 252, 252, 252, 229, 215, 252,\n",
       "        252, 252, 196, 130,   0,   0,   0,   0,   0,   0,   0,   0,   0,\n",
       "          0,   0],\n",
       "       [  0,   0,   0,   0,   0,   0,  28, 199, 252, 252, 253, 252, 252,\n",
       "        233, 145,   0,   0,   0,   0,   0,   0,   0,   0,   0,   0,   0,\n",
       "          0,   0],\n",
       "       [  0,   0,   0,   0,   0,   0,   0,  25, 128, 252, 253, 252, 141,\n",
       "         37,   0,   0,   0,   0,   0,   0,   0,   0,   0,   0,   0,   0,\n",
       "          0,   0],\n",
       "       [  0,   0,   0,   0,   0,   0,   0,   0,   0,   0,   0,   0,   0,\n",
       "          0,   0,   0,   0,   0,   0,   0,   0,   0,   0,   0,   0,   0,\n",
       "          0,   0],\n",
       "       [  0,   0,   0,   0,   0,   0,   0,   0,   0,   0,   0,   0,   0,\n",
       "          0,   0,   0,   0,   0,   0,   0,   0,   0,   0,   0,   0,   0,\n",
       "          0,   0],\n",
       "       [  0,   0,   0,   0,   0,   0,   0,   0,   0,   0,   0,   0,   0,\n",
       "          0,   0,   0,   0,   0,   0,   0,   0,   0,   0,   0,   0,   0,\n",
       "          0,   0],\n",
       "       [  0,   0,   0,   0,   0,   0,   0,   0,   0,   0,   0,   0,   0,\n",
       "          0,   0,   0,   0,   0,   0,   0,   0,   0,   0,   0,   0,   0,\n",
       "          0,   0]], dtype=uint8)"
      ]
     },
     "execution_count": 5,
     "metadata": {},
     "output_type": "execute_result"
    }
   ],
   "source": [
    "X_train[1]"
   ]
  },
  {
   "cell_type": "code",
   "execution_count": 6,
   "id": "989e4ecd",
   "metadata": {
    "execution": {
     "iopub.execute_input": "2023-10-18T06:20:41.743374Z",
     "iopub.status.busy": "2023-10-18T06:20:41.742961Z",
     "iopub.status.idle": "2023-10-18T06:20:41.996112Z",
     "shell.execute_reply": "2023-10-18T06:20:41.995452Z"
    },
    "papermill": {
     "duration": 0.259795,
     "end_time": "2023-10-18T06:20:41.997901",
     "exception": false,
     "start_time": "2023-10-18T06:20:41.738106",
     "status": "completed"
    },
    "tags": []
   },
   "outputs": [
    {
     "data": {
      "text/plain": [
       "<matplotlib.image.AxesImage at 0x7ec9d73938e0>"
      ]
     },
     "execution_count": 6,
     "metadata": {},
     "output_type": "execute_result"
    },
    {
     "data": {
      "image/png": "[encoded data removed]",
      "text/plain": [
       "<Figure size 480x480 with 1 Axes>"
      ]
     },
     "metadata": {},
     "output_type": "display_data"
    }
   ],
   "source": [
    "plt.matshow(X_train[3])"
   ]
  },
  {
   "cell_type": "code",
   "execution_count": 7,
   "id": "995a0fec",
   "metadata": {
    "execution": {
     "iopub.execute_input": "2023-10-18T06:20:42.008879Z",
     "iopub.status.busy": "2023-10-18T06:20:42.008146Z",
     "iopub.status.idle": "2023-10-18T06:20:42.014020Z",
     "shell.execute_reply": "2023-10-18T06:20:42.013358Z"
    },
    "papermill": {
     "duration": 0.013091,
     "end_time": "2023-10-18T06:20:42.015934",
     "exception": false,
     "start_time": "2023-10-18T06:20:42.002843",
     "status": "completed"
    },
    "tags": []
   },
   "outputs": [
    {
     "data": {
      "text/plain": [
       "array([5, 0, 4, 1, 9], dtype=uint8)"
      ]
     },
     "execution_count": 7,
     "metadata": {},
     "output_type": "execute_result"
    }
   ],
   "source": [
    "y_train[:5]"
   ]
  },
  {
   "cell_type": "code",
   "execution_count": 8,
   "id": "653d864b",
   "metadata": {
    "execution": {
     "iopub.execute_input": "2023-10-18T06:20:42.027081Z",
     "iopub.status.busy": "2023-10-18T06:20:42.026783Z",
     "iopub.status.idle": "2023-10-18T06:20:42.177204Z",
     "shell.execute_reply": "2023-10-18T06:20:42.176332Z"
    },
    "papermill": {
     "duration": 0.158661,
     "end_time": "2023-10-18T06:20:42.179757",
     "exception": false,
     "start_time": "2023-10-18T06:20:42.021096",
     "status": "completed"
    },
    "tags": []
   },
   "outputs": [],
   "source": [
    "X_train=X_train.reshape(len(X_train),28*28)/255\n",
    "X_test=X_test.reshape(len(X_test),28*28)/255"
   ]
  },
  {
   "cell_type": "code",
   "execution_count": 9,
   "id": "7cb78eec",
   "metadata": {
    "execution": {
     "iopub.execute_input": "2023-10-18T06:20:42.191664Z",
     "iopub.status.busy": "2023-10-18T06:20:42.191055Z",
     "iopub.status.idle": "2023-10-18T06:20:42.197419Z",
     "shell.execute_reply": "2023-10-18T06:20:42.196840Z"
    },
    "papermill": {
     "duration": 0.013488,
     "end_time": "2023-10-18T06:20:42.199081",
     "exception": false,
     "start_time": "2023-10-18T06:20:42.185593",
     "status": "completed"
    },
    "tags": []
   },
   "outputs": [
    {
     "data": {
      "text/plain": [
       "((60000, 784), (10000, 784))"
      ]
     },
     "execution_count": 9,
     "metadata": {},
     "output_type": "execute_result"
    }
   ],
   "source": [
    "X_train.shape,X_test.shape"
   ]
  },
  {
   "cell_type": "code",
   "execution_count": 10,
   "id": "6507e628",
   "metadata": {
    "execution": {
     "iopub.execute_input": "2023-10-18T06:20:42.208723Z",
     "iopub.status.busy": "2023-10-18T06:20:42.208510Z",
     "iopub.status.idle": "2023-10-18T06:21:29.353779Z",
     "shell.execute_reply": "2023-10-18T06:21:29.353013Z"
    },
    "papermill": {
     "duration": 47.171622,
     "end_time": "2023-10-18T06:21:29.375122",
     "exception": false,
     "start_time": "2023-10-18T06:20:42.203500",
     "status": "completed"
    },
    "tags": []
   },
   "outputs": [
    {
     "name": "stdout",
     "output_type": "stream",
     "text": [
      "Epoch 1/5\n",
      "1875/1875 [==============================] - 8s 2ms/step - loss: 0.4659 - accuracy: 0.8772\n",
      "Epoch 2/5\n",
      "1875/1875 [==============================] - 3s 2ms/step - loss: 0.3030 - accuracy: 0.9152\n",
      "Epoch 3/5\n",
      "1875/1875 [==============================] - 3s 2ms/step - loss: 0.2829 - accuracy: 0.9212\n",
      "Epoch 4/5\n",
      "1875/1875 [==============================] - 3s 2ms/step - loss: 0.2726 - accuracy: 0.9234\n",
      "Epoch 5/5\n",
      "1875/1875 [==============================] - 3s 2ms/step - loss: 0.2668 - accuracy: 0.9255\n"
     ]
    },
    {
     "data": {
      "text/plain": [
       "<keras.callbacks.History at 0x7ec9d3f20790>"
      ]
     },
     "execution_count": 10,
     "metadata": {},
     "output_type": "execute_result"
    }
   ],
   "source": [
    "model=keras.Sequential([\n",
    "    keras.layers.Dense(10,input_shape=(784,),activation=\"sigmoid\")\n",
    "])\n",
    "\n",
    "model.compile(\n",
    "        optimizer=\"adam\",\n",
    "        loss=\"sparse_categorical_crossentropy\",\n",
    "        metrics=[\"accuracy\"])\n",
    "\n",
    "model.fit(X_train,y_train,epochs=5)"
   ]
  },
  {
   "cell_type": "code",
   "execution_count": 11,
   "id": "28edba9c",
   "metadata": {
    "execution": {
     "iopub.execute_input": "2023-10-18T06:21:29.415136Z",
     "iopub.status.busy": "2023-10-18T06:21:29.414164Z",
     "iopub.status.idle": "2023-10-18T06:21:30.280724Z",
     "shell.execute_reply": "2023-10-18T06:21:30.279931Z"
    },
    "papermill": {
     "duration": 0.888608,
     "end_time": "2023-10-18T06:21:30.282357",
     "exception": false,
     "start_time": "2023-10-18T06:21:29.393749",
     "status": "completed"
    },
    "tags": []
   },
   "outputs": [
    {
     "name": "stdout",
     "output_type": "stream",
     "text": [
      "313/313 [==============================] - 1s 2ms/step - loss: 0.2695 - accuracy: 0.9259\n"
     ]
    },
    {
     "data": {
      "text/plain": [
       "[0.2695314288139343, 0.9258999824523926]"
      ]
     },
     "execution_count": 11,
     "metadata": {},
     "output_type": "execute_result"
    }
   ],
   "source": [
    "model.evaluate(X_test,y_test)"
   ]
  },
  {
   "cell_type": "code",
   "execution_count": 12,
   "id": "e9d900da",
   "metadata": {
    "execution": {
     "iopub.execute_input": "2023-10-18T06:21:30.323864Z",
     "iopub.status.busy": "2023-10-18T06:21:30.322712Z",
     "iopub.status.idle": "2023-10-18T06:21:30.998041Z",
     "shell.execute_reply": "2023-10-18T06:21:30.997216Z"
    },
    "papermill": {
     "duration": 0.69707,
     "end_time": "2023-10-18T06:21:30.999671",
     "exception": false,
     "start_time": "2023-10-18T06:21:30.302601",
     "status": "completed"
    },
    "tags": []
   },
   "outputs": [
    {
     "name": "stdout",
     "output_type": "stream",
     "text": [
      "313/313 [==============================] - 0s 1ms/step\n"
     ]
    },
    {
     "data": {
      "text/plain": [
       "array([2.7312519e-02, 4.5193246e-07, 5.4597847e-02, 9.6402884e-01,\n",
       "       1.5133418e-03, 1.1116747e-01, 1.4379721e-06, 9.9974507e-01,\n",
       "       7.3333994e-02, 5.9455091e-01], dtype=float32)"
      ]
     },
     "execution_count": 12,
     "metadata": {},
     "output_type": "execute_result"
    }
   ],
   "source": [
    "y_predicted=model.predict(X_test)\n",
    "y_predicted[0]"
   ]
  },
  {
   "cell_type": "code",
   "execution_count": 13,
   "id": "69220dcc",
   "metadata": {
    "execution": {
     "iopub.execute_input": "2023-10-18T06:21:31.040227Z",
     "iopub.status.busy": "2023-10-18T06:21:31.039727Z",
     "iopub.status.idle": "2023-10-18T06:21:31.043925Z",
     "shell.execute_reply": "2023-10-18T06:21:31.043327Z"
    },
    "papermill": {
     "duration": 0.026038,
     "end_time": "2023-10-18T06:21:31.045392",
     "exception": false,
     "start_time": "2023-10-18T06:21:31.019354",
     "status": "completed"
    },
    "tags": []
   },
   "outputs": [],
   "source": [
    "# plt.matshow(X_train[1])"
   ]
  },
  {
   "cell_type": "code",
   "execution_count": 14,
   "id": "826cf308",
   "metadata": {
    "execution": {
     "iopub.execute_input": "2023-10-18T06:21:31.128258Z",
     "iopub.status.busy": "2023-10-18T06:21:31.127930Z",
     "iopub.status.idle": "2023-10-18T06:21:31.134701Z",
     "shell.execute_reply": "2023-10-18T06:21:31.134035Z"
    },
    "papermill": {
     "duration": 0.07148,
     "end_time": "2023-10-18T06:21:31.136159",
     "exception": false,
     "start_time": "2023-10-18T06:21:31.064679",
     "status": "completed"
    },
    "tags": []
   },
   "outputs": [
    {
     "data": {
      "text/plain": [
       "2"
      ]
     },
     "execution_count": 14,
     "metadata": {},
     "output_type": "execute_result"
    }
   ],
   "source": [
    "np.argmax(y_predicted[1])"
   ]
  },
  {
   "cell_type": "code",
   "execution_count": 15,
   "id": "4719a935",
   "metadata": {
    "execution": {
     "iopub.execute_input": "2023-10-18T06:21:31.179313Z",
     "iopub.status.busy": "2023-10-18T06:21:31.179055Z",
     "iopub.status.idle": "2023-10-18T06:21:31.202047Z",
     "shell.execute_reply": "2023-10-18T06:21:31.201348Z"
    },
    "papermill": {
     "duration": 0.045205,
     "end_time": "2023-10-18T06:21:31.203477",
     "exception": false,
     "start_time": "2023-10-18T06:21:31.158272",
     "status": "completed"
    },
    "tags": []
   },
   "outputs": [
    {
     "data": {
      "text/plain": [
       "[7, 2, 1, 0, 4]"
      ]
     },
     "execution_count": 15,
     "metadata": {},
     "output_type": "execute_result"
    }
   ],
   "source": [
    "y_predict_label=[np.argmax(i) for i in y_predicted]\n",
    "y_predict_label[:5]"
   ]
  },
  {
   "cell_type": "code",
   "execution_count": 16,
   "id": "f873354b",
   "metadata": {
    "execution": {
     "iopub.execute_input": "2023-10-18T06:21:31.244745Z",
     "iopub.status.busy": "2023-10-18T06:21:31.244517Z",
     "iopub.status.idle": "2023-10-18T06:21:31.294923Z",
     "shell.execute_reply": "2023-10-18T06:21:31.294201Z"
    },
    "papermill": {
     "duration": 0.073102,
     "end_time": "2023-10-18T06:21:31.296535",
     "exception": false,
     "start_time": "2023-10-18T06:21:31.223433",
     "status": "completed"
    },
    "tags": []
   },
   "outputs": [
    {
     "data": {
      "text/plain": [
       "<tf.Tensor: shape=(10, 10), dtype=int32, numpy=\n",
       "array([[ 966,    0,    1,    2,    0,    3,    5,    2,    1,    0],\n",
       "       [   0, 1116,    3,    2,    0,    1,    4,    2,    7,    0],\n",
       "       [   9,    9,  917,   22,    7,    2,   13,   10,   39,    4],\n",
       "       [   3,    0,   14,  935,    0,   18,    2,   10,   20,    8],\n",
       "       [   2,    2,    3,    2,  906,    0,   12,    4,    9,   42],\n",
       "       [  11,    2,    3,   44,    6,  762,   16,    5,   36,    7],\n",
       "       [  14,    3,    5,    1,    7,    8,  915,    2,    3,    0],\n",
       "       [   1,    7,   21,   10,    5,    1,    0,  950,    1,   32],\n",
       "       [   7,    9,    7,   27,    9,   17,    8,   11,  869,   10],\n",
       "       [  11,    7,    1,   13,   22,    5,    0,   22,    5,  923]],\n",
       "      dtype=int32)>"
      ]
     },
     "execution_count": 16,
     "metadata": {},
     "output_type": "execute_result"
    }
   ],
   "source": [
    "cm=tf.math.confusion_matrix(labels=y_test,predictions=y_predict_label)\n",
    "cm"
   ]
  },
  {
   "cell_type": "code",
   "execution_count": 17,
   "id": "05bfb2ed",
   "metadata": {
    "execution": {
     "iopub.execute_input": "2023-10-18T06:21:31.338400Z",
     "iopub.status.busy": "2023-10-18T06:21:31.338108Z",
     "iopub.status.idle": "2023-10-18T06:21:32.906219Z",
     "shell.execute_reply": "2023-10-18T06:21:32.905562Z"
    },
    "papermill": {
     "duration": 1.590687,
     "end_time": "2023-10-18T06:21:32.907910",
     "exception": false,
     "start_time": "2023-10-18T06:21:31.317223",
     "status": "completed"
    },
    "tags": []
   },
   "outputs": [
    {
     "data": {
      "text/plain": [
       "Text(95.72222222222221, 0.5, 'truth')"
      ]
     },
     "execution_count": 17,
     "metadata": {},
     "output_type": "execute_result"
    },
    {
     "data": {
      "image/png": "[encoded data removed]",
      "text/plain": [
       "<Figure size 1000x1000 with 2 Axes>"
      ]
     },
     "metadata": {},
     "output_type": "display_data"
    }
   ],
   "source": [
    "import seaborn as sns \n",
    "plt.figure(figsize=(10,10))\n",
    "sns.heatmap(cm, annot=True, fmt='d')\n",
    "plt.xlabel(\"predicted\")\n",
    "plt.yticks(rotation=360)\n",
    "plt.ylabel(\"truth\")"
   ]
  },
  {
   "cell_type": "code",
   "execution_count": 18,
   "id": "67618422",
   "metadata": {
    "execution": {
     "iopub.execute_input": "2023-10-18T06:21:32.956883Z",
     "iopub.status.busy": "2023-10-18T06:21:32.956628Z",
     "iopub.status.idle": "2023-10-18T06:21:55.767131Z",
     "shell.execute_reply": "2023-10-18T06:21:55.766461Z"
    },
    "papermill": {
     "duration": 22.839095,
     "end_time": "2023-10-18T06:21:55.768777",
     "exception": false,
     "start_time": "2023-10-18T06:21:32.929682",
     "status": "completed"
    },
    "tags": []
   },
   "outputs": [
    {
     "name": "stdout",
     "output_type": "stream",
     "text": [
      "Epoch 1/5\n",
      "1875/1875 [==============================] - 5s 2ms/step - loss: 0.2493 - accuracy: 0.9291\n",
      "Epoch 2/5\n",
      "1875/1875 [==============================] - 4s 2ms/step - loss: 0.1071 - accuracy: 0.9678\n",
      "Epoch 3/5\n",
      "1875/1875 [==============================] - 4s 2ms/step - loss: 0.0739 - accuracy: 0.9778\n",
      "Epoch 4/5\n",
      "1875/1875 [==============================] - 4s 2ms/step - loss: 0.0542 - accuracy: 0.9838\n",
      "Epoch 5/5\n",
      "1875/1875 [==============================] - 4s 2ms/step - loss: 0.0428 - accuracy: 0.9861\n"
     ]
    },
    {
     "data": {
      "text/plain": [
       "<keras.callbacks.History at 0x7ec93bd25270>"
      ]
     },
     "execution_count": 18,
     "metadata": {},
     "output_type": "execute_result"
    }
   ],
   "source": [
    "# rm -rf ./logs/\n",
    "\n",
    "model=keras.Sequential([\n",
    "    keras.layers.Dense(150,input_shape=(784,),activation=\"relu\"),\n",
    "    keras.layers.Dense(10,activation=\"sigmoid\")\n",
    "])\n",
    "log_dir = \"logs/\"\n",
    "tb_callbacks=tf.keras.callbacks.TensorBoard(log_dir=log_dir, histogram_freq=1)\n",
    "# \n",
    "model.compile(\n",
    "        optimizer=\"adam\",\n",
    "        loss=\"sparse_categorical_crossentropy\",\n",
    "        metrics=[\"accuracy\"])\n",
    "\n",
    "model.fit(X_train,y_train,epochs=5,callbacks=[tb_callbacks])"
   ]
  },
  {
   "cell_type": "markdown",
   "id": "b78e15e6",
   "metadata": {
    "papermill": {
     "duration": 0.037766,
     "end_time": "2023-10-18T06:21:55.849433",
     "exception": false,
     "start_time": "2023-10-18T06:21:55.811667",
     "status": "completed"
    },
    "tags": []
   },
   "source": []
  },
  {
   "cell_type": "code",
   "execution_count": 19,
   "id": "cccc7616",
   "metadata": {
    "execution": {
     "iopub.execute_input": "2023-10-18T06:21:55.927270Z",
     "iopub.status.busy": "2023-10-18T06:21:55.926555Z",
     "iopub.status.idle": "2023-10-18T06:21:56.733027Z",
     "shell.execute_reply": "2023-10-18T06:21:56.732350Z"
    },
    "papermill": {
     "duration": 0.847586,
     "end_time": "2023-10-18T06:21:56.734678",
     "exception": false,
     "start_time": "2023-10-18T06:21:55.887092",
     "status": "completed"
    },
    "tags": []
   },
   "outputs": [
    {
     "name": "stdout",
     "output_type": "stream",
     "text": [
      "313/313 [==============================] - 1s 2ms/step - loss: 0.0718 - accuracy: 0.9768\n"
     ]
    },
    {
     "data": {
      "text/plain": [
       "[0.0717865526676178, 0.9768000245094299]"
      ]
     },
     "execution_count": 19,
     "metadata": {},
     "output_type": "execute_result"
    }
   ],
   "source": [
    "model.evaluate(X_test,y_test)"
   ]
  },
  {
   "cell_type": "code",
   "execution_count": 20,
   "id": "6fc26e26",
   "metadata": {
    "execution": {
     "iopub.execute_input": "2023-10-18T06:21:56.816614Z",
     "iopub.status.busy": "2023-10-18T06:21:56.815921Z",
     "iopub.status.idle": "2023-10-18T06:22:02.333885Z",
     "shell.execute_reply": "2023-10-18T06:22:02.333174Z"
    },
    "papermill": {
     "duration": 5.560631,
     "end_time": "2023-10-18T06:22:02.335444",
     "exception": false,
     "start_time": "2023-10-18T06:21:56.774813",
     "status": "completed"
    },
    "tags": []
   },
   "outputs": [
    {
     "data": {
      "text/html": [
       "\n",
       "      <iframe id=\"tensorboard-frame-c8df813b07f52f7\" width=\"100%\" height=\"800\" frameborder=\"0\">\n",
       "      </iframe>\n",
       "      <script>\n",
       "        (function() {\n",
       "          const frame = document.getElementById(\"tensorboard-frame-c8df813b07f52f7\");\n",
       "          const url = new URL(\"/\", window.location);\n",
       "          const port = 6006;\n",
       "          if (port) {\n",
       "            url.port = port;\n",
       "          }\n",
       "          frame.src = url;\n",
       "        })();\n",
       "      </script>\n",
       "    "
      ],
      "text/plain": [
       "<IPython.core.display.HTML object>"
      ]
     },
     "metadata": {},
     "output_type": "display_data"
    }
   ],
   "source": [
    "## We have got the accuracy of 97.8% to predict the correct number from the images.\n",
    "%tensorboard --logdir logs"
   ]
  },
  {
   "cell_type": "code",
   "execution_count": null,
   "id": "2b4bc0d6",
   "metadata": {
    "papermill": {
     "duration": 0.038784,
     "end_time": "2023-10-18T06:22:02.414391",
     "exception": false,
     "start_time": "2023-10-18T06:22:02.375607",
     "status": "completed"
    },
    "tags": []
   },
   "outputs": [],
   "source": []
  }
 ],
 "metadata": {
  "kernelspec": {
   "display_name": "Python 3",
   "language": "python",
   "name": "python3"
  },
  "language_info": {
   "codemirror_mode": {
    "name": "ipython",
    "version": 3
   },
   "file_extension": ".py",
   "mimetype": "text/x-python",
   "name": "python",
   "nbconvert_exporter": "python",
   "pygments_lexer": "ipython3",
   "version": "3.10.12"
  },
  "papermill": {
   "default_parameters": {},
   "duration": 98.833818,
   "end_time": "2023-10-18T06:22:05.473551",
   "environment_variables": {},
   "exception": null,
   "input_path": "__notebook__.ipynb",
   "output_path": "__notebook__.ipynb",
   "parameters": {},
   "start_time": "2023-10-18T06:20:26.639733",
   "version": "2.4.0"
  }
 },
 "nbformat": 4,
 "nbformat_minor": 5
}
