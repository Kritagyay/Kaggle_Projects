{
 "cells": [
  {
   "cell_type": "code",
   "execution_count": 1,
   "id": "a2d1b757",
   "metadata": {
    "_cell_guid": "b1076dfc-b9ad-4769-8c92-a6c4dae69d19",
    "_uuid": "8f2839f25d086af736a60e9eeb907d3b93b6e0e5",
    "execution": {
     "iopub.execute_input": "2023-10-22T05:26:36.848478Z",
     "iopub.status.busy": "2023-10-22T05:26:36.847774Z",
     "iopub.status.idle": "2023-10-22T05:26:53.213986Z",
     "shell.execute_reply": "2023-10-22T05:26:53.213089Z"
    },
    "papermill": {
     "duration": 16.375984,
     "end_time": "2023-10-22T05:26:53.216543",
     "exception": false,
     "start_time": "2023-10-22T05:26:36.840559",
     "status": "completed"
    },
    "tags": []
   },
   "outputs": [
    {
     "name": "stderr",
     "output_type": "stream",
     "text": [
      "/opt/conda/lib/python3.10/site-packages/scipy/__init__.py:146: UserWarning: A NumPy version >=1.16.5 and <1.23.0 is required for this version of SciPy (detected version 1.23.5\n",
      "  warnings.warn(f\"A NumPy version >={np_minversion} and <{np_maxversion}\"\n"
     ]
    }
   ],
   "source": [
    "import numpy as np # linear algebra\n",
    "import pandas as pd # data processing, CSV file I/O (e.g. pd.read_csv)\n",
    "import matplotlib.pyplot as plt\n",
    "import sklearn\n",
    "import tensorflow as tf\n",
    "from tensorflow import keras\n"
   ]
  },
  {
   "cell_type": "code",
   "execution_count": 2,
   "id": "1c65e516",
   "metadata": {
    "execution": {
     "iopub.execute_input": "2023-10-22T05:26:53.229690Z",
     "iopub.status.busy": "2023-10-22T05:26:53.229175Z",
     "iopub.status.idle": "2023-10-22T05:26:54.362589Z",
     "shell.execute_reply": "2023-10-22T05:26:54.361697Z"
    },
    "papermill": {
     "duration": 1.142708,
     "end_time": "2023-10-22T05:26:54.365375",
     "exception": false,
     "start_time": "2023-10-22T05:26:53.222667",
     "status": "completed"
    },
    "tags": []
   },
   "outputs": [
    {
     "name": "stdout",
     "output_type": "stream",
     "text": [
      "Downloading data from https://storage.googleapis.com/tensorflow/tf-keras-datasets/train-labels-idx1-ubyte.gz\n",
      "29515/29515 [==============================] - 0s 0us/step\n",
      "Downloading data from https://storage.googleapis.com/tensorflow/tf-keras-datasets/train-images-idx3-ubyte.gz\n",
      "26421880/26421880 [==============================] - 0s 0us/step\n",
      "Downloading data from https://storage.googleapis.com/tensorflow/tf-keras-datasets/t10k-labels-idx1-ubyte.gz\n",
      "5148/5148 [==============================] - 0s 0us/step\n",
      "Downloading data from https://storage.googleapis.com/tensorflow/tf-keras-datasets/t10k-images-idx3-ubyte.gz\n",
      "4422102/4422102 [==============================] - 0s 0us/step\n"
     ]
    }
   ],
   "source": [
    "(X_train,y_train),(X_test,y_test)=tf.keras.datasets.fashion_mnist.load_data()"
   ]
  },
  {
   "cell_type": "code",
   "execution_count": 3,
   "id": "f7965727",
   "metadata": {
    "execution": {
     "iopub.execute_input": "2023-10-22T05:26:54.381218Z",
     "iopub.status.busy": "2023-10-22T05:26:54.380874Z",
     "iopub.status.idle": "2023-10-22T05:26:54.387632Z",
     "shell.execute_reply": "2023-10-22T05:26:54.386712Z"
    },
    "papermill": {
     "duration": 0.016654,
     "end_time": "2023-10-22T05:26:54.389698",
     "exception": false,
     "start_time": "2023-10-22T05:26:54.373044",
     "status": "completed"
    },
    "tags": []
   },
   "outputs": [
    {
     "data": {
      "text/plain": [
       "(60000, 28, 28)"
      ]
     },
     "execution_count": 3,
     "metadata": {},
     "output_type": "execute_result"
    }
   ],
   "source": [
    "X_train.shape"
   ]
  },
  {
   "cell_type": "code",
   "execution_count": 4,
   "id": "c1685a62",
   "metadata": {
    "execution": {
     "iopub.execute_input": "2023-10-22T05:26:54.404262Z",
     "iopub.status.busy": "2023-10-22T05:26:54.403960Z",
     "iopub.status.idle": "2023-10-22T05:26:54.409498Z",
     "shell.execute_reply": "2023-10-22T05:26:54.408612Z"
    },
    "papermill": {
     "duration": 0.015023,
     "end_time": "2023-10-22T05:26:54.411516",
     "exception": false,
     "start_time": "2023-10-22T05:26:54.396493",
     "status": "completed"
    },
    "tags": []
   },
   "outputs": [
    {
     "data": {
      "text/plain": [
       "(10000, 28, 28)"
      ]
     },
     "execution_count": 4,
     "metadata": {},
     "output_type": "execute_result"
    }
   ],
   "source": [
    "X_test.shape"
   ]
  },
  {
   "cell_type": "code",
   "execution_count": 5,
   "id": "9d4f2c74",
   "metadata": {
    "execution": {
     "iopub.execute_input": "2023-10-22T05:26:54.427344Z",
     "iopub.status.busy": "2023-10-22T05:26:54.427035Z",
     "iopub.status.idle": "2023-10-22T05:26:54.436819Z",
     "shell.execute_reply": "2023-10-22T05:26:54.435880Z"
    },
    "papermill": {
     "duration": 0.020391,
     "end_time": "2023-10-22T05:26:54.438948",
     "exception": false,
     "start_time": "2023-10-22T05:26:54.418557",
     "status": "completed"
    },
    "tags": []
   },
   "outputs": [
    {
     "data": {
      "text/plain": [
       "array([[[  0,   0,   0,   0,   0,   0,   0,   0,   0,   0,   0,   0,\n",
       "           0,   0,   0,   0,   0,   0,   0,   0,   0,   0,   0,   0,\n",
       "           0,   0,   0,   0],\n",
       "        [  0,   0,   0,   0,   0,   0,   0,   0,   0,   0,   0,   0,\n",
       "           0,   0,   0,   0,   0,   0,   0,   0,   0,   0,   0,   0,\n",
       "           0,   0,   0,   0],\n",
       "        [  0,   0,   0,   0,   0,   0,   0,   0,   0,   0,   0,   0,\n",
       "           0,   0,   0,   0,   0,   0,   0,   0,   0,   0,   0,   0,\n",
       "           0,   0,   0,   0],\n",
       "        [  0,   0,   0,   0,   0,   0,   0,   0,   0,   0,   0,   0,\n",
       "           1,   0,   0,  13,  73,   0,   0,   1,   4,   0,   0,   0,\n",
       "           0,   1,   1,   0],\n",
       "        [  0,   0,   0,   0,   0,   0,   0,   0,   0,   0,   0,   0,\n",
       "           3,   0,  36, 136, 127,  62,  54,   0,   0,   0,   1,   3,\n",
       "           4,   0,   0,   3],\n",
       "        [  0,   0,   0,   0,   0,   0,   0,   0,   0,   0,   0,   0,\n",
       "           6,   0, 102, 204, 176, 134, 144, 123,  23,   0,   0,   0,\n",
       "           0,  12,  10,   0],\n",
       "        [  0,   0,   0,   0,   0,   0,   0,   0,   0,   0,   0,   0,\n",
       "           0,   0, 155, 236, 207, 178, 107, 156, 161, 109,  64,  23,\n",
       "          77, 130,  72,  15],\n",
       "        [  0,   0,   0,   0,   0,   0,   0,   0,   0,   0,   0,   1,\n",
       "           0,  69, 207, 223, 218, 216, 216, 163, 127, 121, 122, 146,\n",
       "         141,  88, 172,  66],\n",
       "        [  0,   0,   0,   0,   0,   0,   0,   0,   0,   1,   1,   1,\n",
       "           0, 200, 232, 232, 233, 229, 223, 223, 215, 213, 164, 127,\n",
       "         123, 196, 229,   0],\n",
       "        [  0,   0,   0,   0,   0,   0,   0,   0,   0,   0,   0,   0,\n",
       "           0, 183, 225, 216, 223, 228, 235, 227, 224, 222, 224, 221,\n",
       "         223, 245, 173,   0],\n",
       "        [  0,   0,   0,   0,   0,   0,   0,   0,   0,   0,   0,   0,\n",
       "           0, 193, 228, 218, 213, 198, 180, 212, 210, 211, 213, 223,\n",
       "         220, 243, 202,   0],\n",
       "        [  0,   0,   0,   0,   0,   0,   0,   0,   0,   1,   3,   0,\n",
       "          12, 219, 220, 212, 218, 192, 169, 227, 208, 218, 224, 212,\n",
       "         226, 197, 209,  52],\n",
       "        [  0,   0,   0,   0,   0,   0,   0,   0,   0,   0,   6,   0,\n",
       "          99, 244, 222, 220, 218, 203, 198, 221, 215, 213, 222, 220,\n",
       "         245, 119, 167,  56],\n",
       "        [  0,   0,   0,   0,   0,   0,   0,   0,   0,   4,   0,   0,\n",
       "          55, 236, 228, 230, 228, 240, 232, 213, 218, 223, 234, 217,\n",
       "         217, 209,  92,   0],\n",
       "        [  0,   0,   1,   4,   6,   7,   2,   0,   0,   0,   0,   0,\n",
       "         237, 226, 217, 223, 222, 219, 222, 221, 216, 223, 229, 215,\n",
       "         218, 255,  77,   0],\n",
       "        [  0,   3,   0,   0,   0,   0,   0,   0,   0,  62, 145, 204,\n",
       "         228, 207, 213, 221, 218, 208, 211, 218, 224, 223, 219, 215,\n",
       "         224, 244, 159,   0],\n",
       "        [  0,   0,   0,   0,  18,  44,  82, 107, 189, 228, 220, 222,\n",
       "         217, 226, 200, 205, 211, 230, 224, 234, 176, 188, 250, 248,\n",
       "         233, 238, 215,   0],\n",
       "        [  0,  57, 187, 208, 224, 221, 224, 208, 204, 214, 208, 209,\n",
       "         200, 159, 245, 193, 206, 223, 255, 255, 221, 234, 221, 211,\n",
       "         220, 232, 246,   0],\n",
       "        [  3, 202, 228, 224, 221, 211, 211, 214, 205, 205, 205, 220,\n",
       "         240,  80, 150, 255, 229, 221, 188, 154, 191, 210, 204, 209,\n",
       "         222, 228, 225,   0],\n",
       "        [ 98, 233, 198, 210, 222, 229, 229, 234, 249, 220, 194, 215,\n",
       "         217, 241,  65,  73, 106, 117, 168, 219, 221, 215, 217, 223,\n",
       "         223, 224, 229,  29],\n",
       "        [ 75, 204, 212, 204, 193, 205, 211, 225, 216, 185, 197, 206,\n",
       "         198, 213, 240, 195, 227, 245, 239, 223, 218, 212, 209, 222,\n",
       "         220, 221, 230,  67],\n",
       "        [ 48, 203, 183, 194, 213, 197, 185, 190, 194, 192, 202, 214,\n",
       "         219, 221, 220, 236, 225, 216, 199, 206, 186, 181, 177, 172,\n",
       "         181, 205, 206, 115],\n",
       "        [  0, 122, 219, 193, 179, 171, 183, 196, 204, 210, 213, 207,\n",
       "         211, 210, 200, 196, 194, 191, 195, 191, 198, 192, 176, 156,\n",
       "         167, 177, 210,  92],\n",
       "        [  0,   0,  74, 189, 212, 191, 175, 172, 175, 181, 185, 188,\n",
       "         189, 188, 193, 198, 204, 209, 210, 210, 211, 188, 188, 194,\n",
       "         192, 216, 170,   0],\n",
       "        [  2,   0,   0,   0,  66, 200, 222, 237, 239, 242, 246, 243,\n",
       "         244, 221, 220, 193, 191, 179, 182, 182, 181, 176, 166, 168,\n",
       "          99,  58,   0,   0],\n",
       "        [  0,   0,   0,   0,   0,   0,   0,  40,  61,  44,  72,  41,\n",
       "          35,   0,   0,   0,   0,   0,   0,   0,   0,   0,   0,   0,\n",
       "           0,   0,   0,   0],\n",
       "        [  0,   0,   0,   0,   0,   0,   0,   0,   0,   0,   0,   0,\n",
       "           0,   0,   0,   0,   0,   0,   0,   0,   0,   0,   0,   0,\n",
       "           0,   0,   0,   0],\n",
       "        [  0,   0,   0,   0,   0,   0,   0,   0,   0,   0,   0,   0,\n",
       "           0,   0,   0,   0,   0,   0,   0,   0,   0,   0,   0,   0,\n",
       "           0,   0,   0,   0]]], dtype=uint8)"
      ]
     },
     "execution_count": 5,
     "metadata": {},
     "output_type": "execute_result"
    }
   ],
   "source": [
    "X_train[:1]"
   ]
  },
  {
   "cell_type": "code",
   "execution_count": 6,
   "id": "b0594b8e",
   "metadata": {
    "execution": {
     "iopub.execute_input": "2023-10-22T05:26:54.455474Z",
     "iopub.status.busy": "2023-10-22T05:26:54.455203Z",
     "iopub.status.idle": "2023-10-22T05:26:54.611618Z",
     "shell.execute_reply": "2023-10-22T05:26:54.610436Z"
    },
    "papermill": {
     "duration": 0.167465,
     "end_time": "2023-10-22T05:26:54.614198",
     "exception": false,
     "start_time": "2023-10-22T05:26:54.446733",
     "status": "completed"
    },
    "tags": []
   },
   "outputs": [],
   "source": [
    "X_train_scaled=X_train/255\n",
    "X_test_scaled=X_test/255"
   ]
  },
  {
   "cell_type": "code",
   "execution_count": 7,
   "id": "b5e1a21a",
   "metadata": {
    "execution": {
     "iopub.execute_input": "2023-10-22T05:26:54.631399Z",
     "iopub.status.busy": "2023-10-22T05:26:54.630684Z",
     "iopub.status.idle": "2023-10-22T05:26:54.635699Z",
     "shell.execute_reply": "2023-10-22T05:26:54.634657Z"
    },
    "papermill": {
     "duration": 0.015631,
     "end_time": "2023-10-22T05:26:54.637776",
     "exception": false,
     "start_time": "2023-10-22T05:26:54.622145",
     "status": "completed"
    },
    "tags": []
   },
   "outputs": [],
   "source": [
    "classes=[\"T-shirt\",\"Trouser\",\"Pllover\",\"Dress\",\"Coat\",\"Sandal\",\"Shirt\",\"Sneaker\",\"Bag\",\"Ankle Boot\"]"
   ]
  },
  {
   "cell_type": "code",
   "execution_count": 8,
   "id": "f332872e",
   "metadata": {
    "execution": {
     "iopub.execute_input": "2023-10-22T05:26:54.654248Z",
     "iopub.status.busy": "2023-10-22T05:26:54.653615Z",
     "iopub.status.idle": "2023-10-22T05:26:54.658553Z",
     "shell.execute_reply": "2023-10-22T05:26:54.657562Z"
    },
    "papermill": {
     "duration": 0.015252,
     "end_time": "2023-10-22T05:26:54.660624",
     "exception": false,
     "start_time": "2023-10-22T05:26:54.645372",
     "status": "completed"
    },
    "tags": []
   },
   "outputs": [],
   "source": [
    "def plot_images(index):\n",
    "    plt.figure(figsize=(8,2))\n",
    "    plt.imshow(X_train[index])"
   ]
  },
  {
   "cell_type": "code",
   "execution_count": 9,
   "id": "f5a942ab",
   "metadata": {
    "execution": {
     "iopub.execute_input": "2023-10-22T05:26:54.676867Z",
     "iopub.status.busy": "2023-10-22T05:26:54.676152Z",
     "iopub.status.idle": "2023-10-22T05:26:54.927746Z",
     "shell.execute_reply": "2023-10-22T05:26:54.926910Z"
    },
    "papermill": {
     "duration": 0.261924,
     "end_time": "2023-10-22T05:26:54.929934",
     "exception": false,
     "start_time": "2023-10-22T05:26:54.668010",
     "status": "completed"
    },
    "tags": []
   },
   "outputs": [
    {
     "data": {
      "image/png": "[encoded data removed]",
      "text/plain": [
       "<Figure size 800x200 with 1 Axes>"
      ]
     },
     "metadata": {},
     "output_type": "display_data"
    }
   ],
   "source": [
    "plot_images(3)"
   ]
  },
  {
   "cell_type": "code",
   "execution_count": 10,
   "id": "1d6e11d9",
   "metadata": {
    "execution": {
     "iopub.execute_input": "2023-10-22T05:26:54.946632Z",
     "iopub.status.busy": "2023-10-22T05:26:54.946096Z",
     "iopub.status.idle": "2023-10-22T05:26:54.951588Z",
     "shell.execute_reply": "2023-10-22T05:26:54.950779Z"
    },
    "papermill": {
     "duration": 0.015881,
     "end_time": "2023-10-22T05:26:54.953547",
     "exception": false,
     "start_time": "2023-10-22T05:26:54.937666",
     "status": "completed"
    },
    "tags": []
   },
   "outputs": [
    {
     "data": {
      "text/plain": [
       "'Dress'"
      ]
     },
     "execution_count": 10,
     "metadata": {},
     "output_type": "execute_result"
    }
   ],
   "source": [
    "classes[3]"
   ]
  },
  {
   "cell_type": "code",
   "execution_count": 11,
   "id": "b55e9d59",
   "metadata": {
    "execution": {
     "iopub.execute_input": "2023-10-22T05:26:54.969197Z",
     "iopub.status.busy": "2023-10-22T05:26:54.968935Z",
     "iopub.status.idle": "2023-10-22T05:26:54.974316Z",
     "shell.execute_reply": "2023-10-22T05:26:54.973472Z"
    },
    "papermill": {
     "duration": 0.015225,
     "end_time": "2023-10-22T05:26:54.976282",
     "exception": false,
     "start_time": "2023-10-22T05:26:54.961057",
     "status": "completed"
    },
    "tags": []
   },
   "outputs": [
    {
     "data": {
      "text/plain": [
       "'Dress'"
      ]
     },
     "execution_count": 11,
     "metadata": {},
     "output_type": "execute_result"
    }
   ],
   "source": [
    "classes[y_train[3]]"
   ]
  },
  {
   "cell_type": "code",
   "execution_count": 12,
   "id": "cc1f71e9",
   "metadata": {
    "execution": {
     "iopub.execute_input": "2023-10-22T05:26:54.992303Z",
     "iopub.status.busy": "2023-10-22T05:26:54.991787Z",
     "iopub.status.idle": "2023-10-22T05:26:54.997565Z",
     "shell.execute_reply": "2023-10-22T05:26:54.996698Z"
    },
    "papermill": {
     "duration": 0.015949,
     "end_time": "2023-10-22T05:26:54.999432",
     "exception": false,
     "start_time": "2023-10-22T05:26:54.983483",
     "status": "completed"
    },
    "tags": []
   },
   "outputs": [
    {
     "data": {
      "text/plain": [
       "array([9, 0, 0, 3, 0], dtype=uint8)"
      ]
     },
     "execution_count": 12,
     "metadata": {},
     "output_type": "execute_result"
    }
   ],
   "source": [
    "y_train[:5]"
   ]
  },
  {
   "cell_type": "code",
   "execution_count": 13,
   "id": "9226bfe5",
   "metadata": {
    "execution": {
     "iopub.execute_input": "2023-10-22T05:26:55.015229Z",
     "iopub.status.busy": "2023-10-22T05:26:55.014947Z",
     "iopub.status.idle": "2023-10-22T05:26:55.023536Z",
     "shell.execute_reply": "2023-10-22T05:26:55.022696Z"
    },
    "papermill": {
     "duration": 0.01885,
     "end_time": "2023-10-22T05:26:55.025776",
     "exception": false,
     "start_time": "2023-10-22T05:26:55.006926",
     "status": "completed"
    },
    "tags": []
   },
   "outputs": [
    {
     "data": {
      "text/plain": [
       "array([[0., 0., 0., ..., 0., 0., 1.],\n",
       "       [1., 0., 0., ..., 0., 0., 0.],\n",
       "       [1., 0., 0., ..., 0., 0., 0.],\n",
       "       ...,\n",
       "       [0., 0., 0., ..., 0., 0., 0.],\n",
       "       [1., 0., 0., ..., 0., 0., 0.],\n",
       "       [0., 0., 0., ..., 0., 0., 0.]], dtype=float32)"
      ]
     },
     "execution_count": 13,
     "metadata": {},
     "output_type": "execute_result"
    }
   ],
   "source": [
    "y_train_categorical=tf.keras.utils.to_categorical(y_train,num_classes=10,dtype=\"float32\")\n",
    "y_train_categorical"
   ]
  },
  {
   "cell_type": "code",
   "execution_count": 14,
   "id": "2bf13705",
   "metadata": {
    "execution": {
     "iopub.execute_input": "2023-10-22T05:26:55.042843Z",
     "iopub.status.busy": "2023-10-22T05:26:55.042570Z",
     "iopub.status.idle": "2023-10-22T05:26:55.049351Z",
     "shell.execute_reply": "2023-10-22T05:26:55.048491Z"
    },
    "papermill": {
     "duration": 0.017512,
     "end_time": "2023-10-22T05:26:55.051400",
     "exception": false,
     "start_time": "2023-10-22T05:26:55.033888",
     "status": "completed"
    },
    "tags": []
   },
   "outputs": [
    {
     "data": {
      "text/plain": [
       "array([[0., 0., 0., ..., 0., 0., 1.],\n",
       "       [0., 0., 1., ..., 0., 0., 0.],\n",
       "       [0., 1., 0., ..., 0., 0., 0.],\n",
       "       ...,\n",
       "       [0., 0., 0., ..., 0., 1., 0.],\n",
       "       [0., 1., 0., ..., 0., 0., 0.],\n",
       "       [0., 0., 0., ..., 0., 0., 0.]], dtype=float32)"
      ]
     },
     "execution_count": 14,
     "metadata": {},
     "output_type": "execute_result"
    }
   ],
   "source": [
    "y_test_categorical=tf.keras.utils.to_categorical(y_test,num_classes=10,dtype=\"float32\")\n",
    "y_test_categorical"
   ]
  },
  {
   "cell_type": "code",
   "execution_count": 15,
   "id": "775a045b",
   "metadata": {
    "execution": {
     "iopub.execute_input": "2023-10-22T05:26:55.069379Z",
     "iopub.status.busy": "2023-10-22T05:26:55.069126Z",
     "iopub.status.idle": "2023-10-22T05:36:26.381247Z",
     "shell.execute_reply": "2023-10-22T05:36:26.380277Z"
    },
    "papermill": {
     "duration": 571.32307,
     "end_time": "2023-10-22T05:36:26.383448",
     "exception": false,
     "start_time": "2023-10-22T05:26:55.060378",
     "status": "completed"
    },
    "tags": []
   },
   "outputs": [
    {
     "name": "stdout",
     "output_type": "stream",
     "text": [
      "Epoch 1/50\n",
      "1875/1875 [==============================] - 19s 6ms/step - loss: 0.5055 - accuracy: 0.8189\n",
      "Epoch 2/50\n",
      "1875/1875 [==============================] - 11s 6ms/step - loss: 0.3767 - accuracy: 0.8640\n",
      "Epoch 3/50\n",
      "1875/1875 [==============================] - 11s 6ms/step - loss: 0.3348 - accuracy: 0.8768\n",
      "Epoch 4/50\n",
      "1875/1875 [==============================] - 11s 6ms/step - loss: 0.3118 - accuracy: 0.8847\n",
      "Epoch 5/50\n",
      "1875/1875 [==============================] - 11s 6ms/step - loss: 0.2932 - accuracy: 0.8912\n",
      "Epoch 6/50\n",
      "1875/1875 [==============================] - 11s 6ms/step - loss: 0.2806 - accuracy: 0.8952\n",
      "Epoch 7/50\n",
      "1875/1875 [==============================] - 11s 6ms/step - loss: 0.2666 - accuracy: 0.8998\n",
      "Epoch 8/50\n",
      "1875/1875 [==============================] - 11s 6ms/step - loss: 0.2597 - accuracy: 0.9032\n",
      "Epoch 9/50\n",
      "1875/1875 [==============================] - 11s 6ms/step - loss: 0.2455 - accuracy: 0.9069\n",
      "Epoch 10/50\n",
      "1875/1875 [==============================] - 11s 6ms/step - loss: 0.2376 - accuracy: 0.9094\n",
      "Epoch 11/50\n",
      "1875/1875 [==============================] - 11s 6ms/step - loss: 0.2301 - accuracy: 0.9141\n",
      "Epoch 12/50\n",
      "1875/1875 [==============================] - 11s 6ms/step - loss: 0.2222 - accuracy: 0.9156\n",
      "Epoch 13/50\n",
      "1875/1875 [==============================] - 11s 6ms/step - loss: 0.2186 - accuracy: 0.9177\n",
      "Epoch 14/50\n",
      "1875/1875 [==============================] - 11s 6ms/step - loss: 0.2090 - accuracy: 0.9215\n",
      "Epoch 15/50\n",
      "1875/1875 [==============================] - 11s 6ms/step - loss: 0.2056 - accuracy: 0.9222\n",
      "Epoch 16/50\n",
      "1875/1875 [==============================] - 11s 6ms/step - loss: 0.1912 - accuracy: 0.9267\n",
      "Epoch 17/50\n",
      "1875/1875 [==============================] - 11s 6ms/step - loss: 0.1936 - accuracy: 0.9275\n",
      "Epoch 18/50\n",
      "1875/1875 [==============================] - 11s 6ms/step - loss: 0.1868 - accuracy: 0.9285\n",
      "Epoch 19/50\n",
      "1875/1875 [==============================] - 11s 6ms/step - loss: 0.1833 - accuracy: 0.9308\n",
      "Epoch 20/50\n",
      "1875/1875 [==============================] - 11s 6ms/step - loss: 0.1790 - accuracy: 0.9308\n",
      "Epoch 21/50\n",
      "1875/1875 [==============================] - 11s 6ms/step - loss: 0.1763 - accuracy: 0.9339\n",
      "Epoch 22/50\n",
      "1875/1875 [==============================] - 11s 6ms/step - loss: 0.1699 - accuracy: 0.9349\n",
      "Epoch 23/50\n",
      "1875/1875 [==============================] - 11s 6ms/step - loss: 0.1642 - accuracy: 0.9366\n",
      "Epoch 24/50\n",
      "1875/1875 [==============================] - 11s 6ms/step - loss: 0.1647 - accuracy: 0.9383\n",
      "Epoch 25/50\n",
      "1875/1875 [==============================] - 11s 6ms/step - loss: 0.1592 - accuracy: 0.9393\n",
      "Epoch 26/50\n",
      "1875/1875 [==============================] - 11s 6ms/step - loss: 0.1511 - accuracy: 0.9420\n",
      "Epoch 27/50\n",
      "1875/1875 [==============================] - 11s 6ms/step - loss: 0.1530 - accuracy: 0.9421\n",
      "Epoch 28/50\n",
      "1875/1875 [==============================] - 11s 6ms/step - loss: 0.1531 - accuracy: 0.9420\n",
      "Epoch 29/50\n",
      "1875/1875 [==============================] - 11s 6ms/step - loss: 0.1465 - accuracy: 0.9449\n",
      "Epoch 30/50\n",
      "1875/1875 [==============================] - 11s 6ms/step - loss: 0.1445 - accuracy: 0.9444\n",
      "Epoch 31/50\n",
      "1875/1875 [==============================] - 11s 6ms/step - loss: 0.1448 - accuracy: 0.9463\n",
      "Epoch 32/50\n",
      "1875/1875 [==============================] - 11s 6ms/step - loss: 0.1413 - accuracy: 0.9481\n",
      "Epoch 33/50\n",
      "1875/1875 [==============================] - 11s 6ms/step - loss: 0.1340 - accuracy: 0.9480\n",
      "Epoch 34/50\n",
      "1875/1875 [==============================] - 11s 6ms/step - loss: 0.1355 - accuracy: 0.9496\n",
      "Epoch 35/50\n",
      "1875/1875 [==============================] - 11s 6ms/step - loss: 0.1277 - accuracy: 0.9499\n",
      "Epoch 36/50\n",
      "1875/1875 [==============================] - 11s 6ms/step - loss: 0.1266 - accuracy: 0.9521\n",
      "Epoch 37/50\n",
      "1875/1875 [==============================] - 11s 6ms/step - loss: 0.1293 - accuracy: 0.9513\n",
      "Epoch 38/50\n",
      "1875/1875 [==============================] - 11s 6ms/step - loss: 0.1294 - accuracy: 0.9521\n",
      "Epoch 39/50\n",
      "1875/1875 [==============================] - 11s 6ms/step - loss: 0.1256 - accuracy: 0.9528\n",
      "Epoch 40/50\n",
      "1875/1875 [==============================] - 11s 6ms/step - loss: 0.1216 - accuracy: 0.9542\n",
      "Epoch 41/50\n",
      "1875/1875 [==============================] - 11s 6ms/step - loss: 0.1218 - accuracy: 0.9549\n",
      "Epoch 42/50\n",
      "1875/1875 [==============================] - 11s 6ms/step - loss: 0.1223 - accuracy: 0.9541\n",
      "Epoch 43/50\n",
      "1875/1875 [==============================] - 11s 6ms/step - loss: 0.1104 - accuracy: 0.9588\n",
      "Epoch 44/50\n",
      "1875/1875 [==============================] - 11s 6ms/step - loss: 0.1145 - accuracy: 0.9571\n",
      "Epoch 45/50\n",
      "1875/1875 [==============================] - 11s 6ms/step - loss: 0.1158 - accuracy: 0.9567\n",
      "Epoch 46/50\n",
      "1875/1875 [==============================] - 11s 6ms/step - loss: 0.1073 - accuracy: 0.9596\n",
      "Epoch 47/50\n",
      "1875/1875 [==============================] - 11s 6ms/step - loss: 0.1146 - accuracy: 0.9589\n",
      "Epoch 48/50\n",
      "1875/1875 [==============================] - 11s 6ms/step - loss: 0.1170 - accuracy: 0.9580\n",
      "Epoch 49/50\n",
      "1875/1875 [==============================] - 11s 6ms/step - loss: 0.1027 - accuracy: 0.9610\n",
      "Epoch 50/50\n",
      "1875/1875 [==============================] - 11s 6ms/step - loss: 0.1056 - accuracy: 0.9606\n"
     ]
    },
    {
     "data": {
      "text/plain": [
       "<keras.callbacks.History at 0x7fbee831ec20>"
      ]
     },
     "execution_count": 15,
     "metadata": {},
     "output_type": "execute_result"
    }
   ],
   "source": [
    "model=keras.Sequential([\n",
    "    keras.layers.Flatten(input_shape=(28,28)),\n",
    "    keras.layers.Dense(5000, activation=\"relu\"),\n",
    "    keras.layers.Dense(3000,activation=\"relu\"),\n",
    "    keras.layers.Dense(1000,activation=\"relu\"),\n",
    "    keras.layers.Dense(10,activation=\"sigmoid\")\n",
    "])\n",
    "\n",
    "model.compile(optimizer=\"Adam\",\n",
    "             loss=\"categorical_crossentropy\",\n",
    "             metrics=\"accuracy\")\n",
    "model.fit(X_train_scaled,y_train_categorical,epochs=50)"
   ]
  },
  {
   "cell_type": "code",
   "execution_count": 16,
   "id": "cf4a4d85",
   "metadata": {
    "execution": {
     "iopub.execute_input": "2023-10-22T05:36:28.159051Z",
     "iopub.status.busy": "2023-10-22T05:36:28.158648Z",
     "iopub.status.idle": "2023-10-22T05:36:29.099887Z",
     "shell.execute_reply": "2023-10-22T05:36:29.098952Z"
    },
    "papermill": {
     "duration": 1.790648,
     "end_time": "2023-10-22T05:36:29.101919",
     "exception": false,
     "start_time": "2023-10-22T05:36:27.311271",
     "status": "completed"
    },
    "tags": []
   },
   "outputs": [
    {
     "name": "stdout",
     "output_type": "stream",
     "text": [
      "313/313 [==============================] - 1s 2ms/step\n"
     ]
    },
    {
     "data": {
      "text/plain": [
       "'Ankle Boot'"
      ]
     },
     "execution_count": 16,
     "metadata": {},
     "output_type": "execute_result"
    }
   ],
   "source": [
    "classes[np.argmax(model.predict(X_test_scaled)[0])]"
   ]
  },
  {
   "cell_type": "code",
   "execution_count": 17,
   "id": "46dc022d",
   "metadata": {
    "execution": {
     "iopub.execute_input": "2023-10-22T05:36:30.811036Z",
     "iopub.status.busy": "2023-10-22T05:36:30.810527Z",
     "iopub.status.idle": "2023-10-22T05:36:30.816877Z",
     "shell.execute_reply": "2023-10-22T05:36:30.815921Z"
    },
    "papermill": {
     "duration": 0.888681,
     "end_time": "2023-10-22T05:36:30.819020",
     "exception": false,
     "start_time": "2023-10-22T05:36:29.930339",
     "status": "completed"
    },
    "tags": []
   },
   "outputs": [
    {
     "data": {
      "text/plain": [
       "'Ankle Boot'"
      ]
     },
     "execution_count": 17,
     "metadata": {},
     "output_type": "execute_result"
    }
   ],
   "source": [
    "classes[y_test[0]]"
   ]
  },
  {
   "cell_type": "code",
   "execution_count": 18,
   "id": "81091edc",
   "metadata": {
    "execution": {
     "iopub.execute_input": "2023-10-22T05:36:32.576317Z",
     "iopub.status.busy": "2023-10-22T05:36:32.575959Z",
     "iopub.status.idle": "2023-10-22T05:44:26.656971Z",
     "shell.execute_reply": "2023-10-22T05:44:26.656132Z"
    },
    "papermill": {
     "duration": 474.980318,
     "end_time": "2023-10-22T05:44:26.659010",
     "exception": false,
     "start_time": "2023-10-22T05:36:31.678692",
     "status": "completed"
    },
    "tags": []
   },
   "outputs": [
    {
     "name": "stdout",
     "output_type": "stream",
     "text": [
      "Epoch 1/50\n",
      "1875/1875 [==============================] - 11s 5ms/step - loss: 0.6244 - accuracy: 0.7911\n",
      "Epoch 2/50\n",
      "1875/1875 [==============================] - 9s 5ms/step - loss: 0.4358 - accuracy: 0.8477\n",
      "Epoch 3/50\n",
      "1875/1875 [==============================] - 9s 5ms/step - loss: 0.3913 - accuracy: 0.8613\n",
      "Epoch 4/50\n",
      "1875/1875 [==============================] - 10s 5ms/step - loss: 0.3619 - accuracy: 0.8710\n",
      "Epoch 5/50\n",
      "1875/1875 [==============================] - 9s 5ms/step - loss: 0.3405 - accuracy: 0.8786\n",
      "Epoch 6/50\n",
      "1875/1875 [==============================] - 9s 5ms/step - loss: 0.3229 - accuracy: 0.8842\n",
      "Epoch 7/50\n",
      "1875/1875 [==============================] - 10s 5ms/step - loss: 0.3078 - accuracy: 0.8896\n",
      "Epoch 8/50\n",
      "1875/1875 [==============================] - 9s 5ms/step - loss: 0.2945 - accuracy: 0.8931\n",
      "Epoch 9/50\n",
      "1875/1875 [==============================] - 9s 5ms/step - loss: 0.2827 - accuracy: 0.8976\n",
      "Epoch 10/50\n",
      "1875/1875 [==============================] - 9s 5ms/step - loss: 0.2721 - accuracy: 0.9011\n",
      "Epoch 11/50\n",
      "1875/1875 [==============================] - 9s 5ms/step - loss: 0.2617 - accuracy: 0.9052\n",
      "Epoch 12/50\n",
      "1875/1875 [==============================] - 9s 5ms/step - loss: 0.2526 - accuracy: 0.9088\n",
      "Epoch 13/50\n",
      "1875/1875 [==============================] - 9s 5ms/step - loss: 0.2440 - accuracy: 0.9117\n",
      "Epoch 14/50\n",
      "1875/1875 [==============================] - 9s 5ms/step - loss: 0.2360 - accuracy: 0.9141\n",
      "Epoch 15/50\n",
      "1875/1875 [==============================] - 9s 5ms/step - loss: 0.2274 - accuracy: 0.9183\n",
      "Epoch 16/50\n",
      "1875/1875 [==============================] - 9s 5ms/step - loss: 0.2196 - accuracy: 0.9200\n",
      "Epoch 17/50\n",
      "1875/1875 [==============================] - 9s 5ms/step - loss: 0.2131 - accuracy: 0.9212\n",
      "Epoch 18/50\n",
      "1875/1875 [==============================] - 9s 5ms/step - loss: 0.2046 - accuracy: 0.9259\n",
      "Epoch 19/50\n",
      "1875/1875 [==============================] - 9s 5ms/step - loss: 0.1989 - accuracy: 0.9286\n",
      "Epoch 20/50\n",
      "1875/1875 [==============================] - 9s 5ms/step - loss: 0.1914 - accuracy: 0.9311\n",
      "Epoch 21/50\n",
      "1875/1875 [==============================] - 9s 5ms/step - loss: 0.1846 - accuracy: 0.9336\n",
      "Epoch 22/50\n",
      "1875/1875 [==============================] - 9s 5ms/step - loss: 0.1786 - accuracy: 0.9363\n",
      "Epoch 23/50\n",
      "1875/1875 [==============================] - 9s 5ms/step - loss: 0.1721 - accuracy: 0.9384\n",
      "Epoch 24/50\n",
      "1875/1875 [==============================] - 9s 5ms/step - loss: 0.1674 - accuracy: 0.9393\n",
      "Epoch 25/50\n",
      "1875/1875 [==============================] - 9s 5ms/step - loss: 0.1601 - accuracy: 0.9425\n",
      "Epoch 26/50\n",
      "1875/1875 [==============================] - 9s 5ms/step - loss: 0.1550 - accuracy: 0.9439\n",
      "Epoch 27/50\n",
      "1875/1875 [==============================] - 10s 5ms/step - loss: 0.1489 - accuracy: 0.9470\n",
      "Epoch 28/50\n",
      "1875/1875 [==============================] - 9s 5ms/step - loss: 0.1444 - accuracy: 0.9483\n",
      "Epoch 29/50\n",
      "1875/1875 [==============================] - 9s 5ms/step - loss: 0.1392 - accuracy: 0.9507\n",
      "Epoch 30/50\n",
      "1875/1875 [==============================] - 9s 5ms/step - loss: 0.1348 - accuracy: 0.9519\n",
      "Epoch 31/50\n",
      "1875/1875 [==============================] - 9s 5ms/step - loss: 0.1299 - accuracy: 0.9535\n",
      "Epoch 32/50\n",
      "1875/1875 [==============================] - 9s 5ms/step - loss: 0.1232 - accuracy: 0.9561\n",
      "Epoch 33/50\n",
      "1875/1875 [==============================] - 9s 5ms/step - loss: 0.1188 - accuracy: 0.9579\n",
      "Epoch 34/50\n",
      "1875/1875 [==============================] - 9s 5ms/step - loss: 0.1155 - accuracy: 0.9589\n",
      "Epoch 35/50\n",
      "1875/1875 [==============================] - 9s 5ms/step - loss: 0.1117 - accuracy: 0.9607\n",
      "Epoch 36/50\n",
      "1875/1875 [==============================] - 9s 5ms/step - loss: 0.1058 - accuracy: 0.9631\n",
      "Epoch 37/50\n",
      "1875/1875 [==============================] - 10s 5ms/step - loss: 0.1035 - accuracy: 0.9629\n",
      "Epoch 38/50\n",
      "1875/1875 [==============================] - 9s 5ms/step - loss: 0.0987 - accuracy: 0.9648\n",
      "Epoch 39/50\n",
      "1875/1875 [==============================] - 9s 5ms/step - loss: 0.0960 - accuracy: 0.9666\n",
      "Epoch 40/50\n",
      "1875/1875 [==============================] - 10s 5ms/step - loss: 0.0912 - accuracy: 0.9681\n",
      "Epoch 41/50\n",
      "1875/1875 [==============================] - 9s 5ms/step - loss: 0.0873 - accuracy: 0.9697\n",
      "Epoch 42/50\n",
      "1875/1875 [==============================] - 9s 5ms/step - loss: 0.0845 - accuracy: 0.9710\n",
      "Epoch 43/50\n",
      "1875/1875 [==============================] - 9s 5ms/step - loss: 0.0806 - accuracy: 0.9725\n",
      "Epoch 44/50\n",
      "1875/1875 [==============================] - 10s 5ms/step - loss: 0.0770 - accuracy: 0.9735\n",
      "Epoch 45/50\n",
      "1875/1875 [==============================] - 9s 5ms/step - loss: 0.0754 - accuracy: 0.9740\n",
      "Epoch 46/50\n",
      "1875/1875 [==============================] - 9s 5ms/step - loss: 0.0715 - accuracy: 0.9759\n",
      "Epoch 47/50\n",
      "1875/1875 [==============================] - 10s 5ms/step - loss: 0.0697 - accuracy: 0.9758\n",
      "Epoch 48/50\n",
      "1875/1875 [==============================] - 9s 5ms/step - loss: 0.0661 - accuracy: 0.9779\n",
      "Epoch 49/50\n",
      "1875/1875 [==============================] - 9s 5ms/step - loss: 0.0638 - accuracy: 0.9780\n",
      "Epoch 50/50\n",
      "1875/1875 [==============================] - 10s 5ms/step - loss: 0.0608 - accuracy: 0.9788\n"
     ]
    },
    {
     "data": {
      "text/plain": [
       "<keras.callbacks.History at 0x7fbee3f61060>"
      ]
     },
     "execution_count": 18,
     "metadata": {},
     "output_type": "execute_result"
    }
   ],
   "source": [
    "model=keras.Sequential([\n",
    "    keras.layers.Flatten(input_shape=(28,28)),\n",
    "    keras.layers.Dense(5000, activation=\"relu\"),\n",
    "    keras.layers.Dense(3000,activation=\"relu\"),\n",
    "    keras.layers.Dense(1000,activation=\"relu\"),\n",
    "    keras.layers.Dense(10,activation=\"sigmoid\")\n",
    "])\n",
    "\n",
    "model.compile(optimizer=\"SGD\",\n",
    "             loss=\"categorical_crossentropy\",\n",
    "             metrics=\"accuracy\")\n",
    "model.fit(X_train_scaled,y_train_categorical,epochs=50)"
   ]
  },
  {
   "cell_type": "code",
   "execution_count": null,
   "id": "f200b150",
   "metadata": {
    "papermill": {
     "duration": 1.543858,
     "end_time": "2023-10-22T05:44:29.801206",
     "exception": false,
     "start_time": "2023-10-22T05:44:28.257348",
     "status": "completed"
    },
    "tags": []
   },
   "outputs": [],
   "source": []
  }
 ],
 "metadata": {
  "kernelspec": {
   "display_name": "Python 3",
   "language": "python",
   "name": "python3"
  },
  "language_info": {
   "codemirror_mode": {
    "name": "ipython",
    "version": 3
   },
   "file_extension": ".py",
   "mimetype": "text/x-python",
   "name": "python",
   "nbconvert_exporter": "python",
   "pygments_lexer": "ipython3",
   "version": "3.10.12"
  },
  "papermill": {
   "default_parameters": {},
   "duration": 1082.208915,
   "end_time": "2023-10-22T05:44:34.405983",
   "environment_variables": {},
   "exception": null,
   "input_path": "__notebook__.ipynb",
   "output_path": "__notebook__.ipynb",
   "parameters": {},
   "start_time": "2023-10-22T05:26:32.197068",
   "version": "2.4.0"
  }
 },
 "nbformat": 4,
 "nbformat_minor": 5
}
